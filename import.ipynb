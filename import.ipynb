{
 "cells": [
  {
   "metadata": {
    "pycharm": {
     "name": "#%% md\n"
    }
   },
   "outputs": [],
   "source": [
    "# Introduction and flat files"
   ],
   "execution_count": null,
   "cell_type": "markdown"
  },
  {
   "metadata": {
    "pycharm": {
     "name": "#%% md\n"
    }
   },
   "outputs": [],
   "source": [
    "## Welcome to the course!"
   ],
   "execution_count": null,
   "cell_type": "markdown"
  },
  {
   "metadata": {
    "pycharm": {
     "name": "#%% md\n"
    }
   },
   "outputs": [],
   "source": [
    "### 2. Import data\n",
    "\n",
    "In this course, you'll learn how to import data from a large variety of import data sources, for example, (i) flat files such as dot txts and dot csvs; (ii) files native to other software such as Excel spreadsheets, Stata, SAS and MATLAB files;"
   ],
   "execution_count": null,
   "cell_type": "markdown"
  },
  {
   "metadata": {
    "pycharm": {
     "name": "#%% md\n"
    }
   },
   "outputs": [],
   "source": [
    "### 3. Import data\n",
    "\n",
    "(iii) relational databases such as SQLite & PostgreSQL. We’ll cover all of these topics in this course."
   ],
   "execution_count": null,
   "cell_type": "markdown"
  },
  {
   "metadata": {
    "pycharm": {
     "name": "#%% md\n"
    }
   },
   "outputs": [],
   "source": [
    "### 4. Plain text files\n",
    "\n",
    "First off, we're going to learn how to import basic text files, which we can broadly classify into 2 types of files - those containing plain text, such as the opening of Mark Twain's novel The Adventures of Huckleberry Finn, which you can see here,"
   ],
   "execution_count": null,
   "cell_type": "markdown"
  },
  {
   "metadata": {
    "pycharm": {
     "name": "#%% md\n"
    }
   },
   "outputs": [],
   "source": [
    "### 5. Table data\n",
    "\n",
    "and those containing records, that is, table data, such as titanic dot csv, in which each"
   ],
   "execution_count": null,
   "cell_type": "markdown"
  },
  {
   "metadata": {
    "pycharm": {
     "name": "#%% md\n"
    }
   },
   "outputs": [],
   "source": [
    "### 6. Table data\n",
    "\n",
    "row is a unique passenger onboard and each"
   ],
   "execution_count": null,
   "cell_type": "markdown"
  },
  {
   "metadata": {
    "pycharm": {
     "name": "#%% md\n"
    }
   },
   "outputs": [],
   "source": [
    "### 7. Table data\n",
    "\n",
    "column is a characteristic or feature, such as gender, cabin and 'survived or not'. The latter is known as a flat file and we'll come back to these in a minute."
   ],
   "execution_count": null,
   "cell_type": "markdown"
  },
  {
   "metadata": {
    "pycharm": {
     "name": "#%% md\n"
    }
   },
   "outputs": [],
   "source": [
    "### 8. Reading a text file\n",
    "\n",
    "In this section, we'll figure out how to read lines from a plain text file: So let's do it! To check out any plain text file, you can use Python’s basic open function to open a connection to the file. To do so, you assign the filename to a variable as a string, pass the filename to the function open and also pass it the argument mode equals 'r', which makes sure that we can only read it (we wouldn't want to accidentally write to it!), assign the text from the file to a variable text by applying the method read to the connection to the file. After you do this, make sure that you close the connection to the file using the command file dot close. It’s always best practice to clean while cooking!"
   ],
   "execution_count": null,
   "cell_type": "markdown"
  },
  {
   "cell_type": "code",
   "execution_count": 1,
   "outputs": [],
   "source": [
    "filename =\"data/moby_dick.txt\"\n",
    "file = open(filename,mode=\"r\")\n",
    "text = file.read()\n",
    "file.close()"
   ],
   "metadata": {
    "collapsed": false,
    "pycharm": {
     "name": "#%%\n"
    }
   }
  },
  {
   "metadata": {
    "pycharm": {
     "name": "#%% md\n"
    }
   },
   "outputs": [],
   "source": [
    "### 9. Printing a text file\n",
    "\n",
    "You can then print the file to console and check it out using the command print(text). A brief side note:"
   ],
   "execution_count": null,
   "cell_type": "markdown"
  },
  {
   "cell_type": "code",
   "execution_count": 2,
   "outputs": [
    {
     "name": "stdout",
     "output_type": "stream",
     "text": [
      "CHAPTER 1. Loomings.\n",
      "\n",
      "Call me Ishmael. Some years ago--never mind how long precisely--having\n",
      "little or no money in my purse, and nothing particular to interest me on\n",
      "shore, I thought I would sail about a little and see the watery part of\n",
      "the world. It is a way I have of driving off the spleen and regulating\n",
      "the circulation. Whenever I find myself growing grim about the mouth;\n",
      "whenever it is a damp, drizzly November in my soul; whenever I find\n",
      "myself involuntarily pausing before coffin warehouses, and bringing up\n",
      "the rear of every funeral I meet; and especially whenever my hypos get\n",
      "such an upper hand of me, that it requires a strong moral principle to\n",
      "prevent me from deliberately stepping into the street, and methodically\n",
      "knocking people's hats off--then, I account it high time to get to sea\n",
      "as soon as I can. This is my substitute for pistol and ball. With a\n",
      "philosophical flourish Cato throws himself upon his sword; I quietly\n",
      "take to the ship. There is nothing surprising in this. If they but knew\n",
      "it, almost all men in their degree, some time or other, cherish very\n",
      "nearly the same feelings towards the ocean with me.\n",
      "\n"
     ]
    }
   ],
   "source": [
    "print(text)"
   ],
   "metadata": {
    "collapsed": false,
    "pycharm": {
     "name": "#%%\n"
    }
   }
  },
  {
   "metadata": {
    "pycharm": {
     "name": "#%% md\n"
    }
   },
   "outputs": [],
   "source": [
    "### 10. Writing to a file\n",
    "\n",
    "if you wanted to open a file in order to write to it, you would pass it the argument mode equals 'w'. We won't use that in this course as this is course on Importing Data but it is good to know. You can avoid having to close the connection to the file by"
   ],
   "execution_count": null,
   "cell_type": "markdown"
  },
  {
   "metadata": {
    "pycharm": {
     "name": "#%% md\n"
    }
   },
   "outputs": [],
   "source": [
    "### 11. Context manager with\n",
    "\n",
    "using a with statement. This allows you to create a context in which you can execute commands with the file open. Once out of this clause/context, the file is no longer open and, for this reason, with is called a Context Manager. What you're doing here is called 'binding' a variable in the context manager construct; while still within this construct, the variable file will be bound to open(filename, 'r'). It is best practice to use the with statement as you never have to concern yourself with closing the files again."
   ],
   "execution_count": null,
   "cell_type": "markdown"
  },
  {
   "cell_type": "code",
   "execution_count": 4,
   "outputs": [
    {
     "name": "stdout",
     "output_type": "stream",
     "text": [
      "CHAPTER 1. Loomings.\n",
      "\n",
      "Call me Ishmael. Some years ago--never mind how long precisely--having\n",
      "little or no money in my purse, and nothing particular to interest me on\n",
      "shore, I thought I would sail about a little and see the watery part of\n",
      "the world. It is a way I have of driving off the spleen and regulating\n",
      "the circulation. Whenever I find myself growing grim about the mouth;\n",
      "whenever it is a damp, drizzly November in my soul; whenever I find\n",
      "myself involuntarily pausing before coffin warehouses, and bringing up\n",
      "the rear of every funeral I meet; and especially whenever my hypos get\n",
      "such an upper hand of me, that it requires a strong moral principle to\n",
      "prevent me from deliberately stepping into the street, and methodically\n",
      "knocking people's hats off--then, I account it high time to get to sea\n",
      "as soon as I can. This is my substitute for pistol and ball. With a\n",
      "philosophical flourish Cato throws himself upon his sword; I quietly\n",
      "take to the ship. There is nothing surprising in this. If they but knew\n",
      "it, almost all men in their degree, some time or other, cherish very\n",
      "nearly the same feelings towards the ocean with me.\n",
      "\n",
      "Cant perform operation since file is close inside the context manager\n"
     ]
    }
   ],
   "source": [
    "with open(filename,mode=\"r\") as f:\n",
    "    print(f.read())\n",
    "\n",
    "try:\n",
    "    f.read()\n",
    "except ValueError:\n",
    "    print(\"Cant perform operation since file is close inside the context manager\")"
   ],
   "metadata": {
    "collapsed": false,
    "pycharm": {
     "name": "#%%\n"
    }
   }
  },
  {
   "metadata": {
    "pycharm": {
     "name": "#%% md\n"
    }
   },
   "outputs": [],
   "source": [
    "### 12. In the exercises, you’ll:\n",
    "\n",
    "In the following interactive coding sessions, you’ll figure out how to print files to console. You’ll also learn to print specific lines, which can be very useful for large files. Then we’ll be back to discuss flat files and then I'll show you how to use the Python package NumPy to make our job of importing flat files & numerical data a far easier beast to tame."
   ],
   "execution_count": null,
   "cell_type": "markdown"
  },
  {
   "metadata": {
    "pycharm": {
     "name": "#%% md\n"
    }
   },
   "outputs": [],
   "source": [
    "### 13. Let's practice!\n",
    "\n",
    "Enjoy!"
   ],
   "execution_count": null,
   "cell_type": "markdown"
  },
  {
   "metadata": {
    "pycharm": {
     "name": "#%% md\n"
    }
   },
   "outputs": [],
   "source": [
    "## Importing entire text files\n",
    "\n",
    "<p>In this exercise, you'll be working with the file <code>moby_dick.txt</code>.\n",
    "It is a text file that contains the opening sentences of Moby Dick,\n",
    "one of the great American novels! Here you'll get experience\n",
    "opening a text file, printing its contents to the shell and, finally,\n",
    "closing it.</p>"
   ],
   "execution_count": null,
   "cell_type": "markdown"
  },
  {
   "metadata": {
    "pycharm": {
     "name": "#%% md\n"
    }
   },
   "outputs": [],
   "source": [
    "Open the file <code>moby_dick.txt</code> as <em>read-only</em> and store it in the variable <code>file</code>. Make sure to pass the filename enclosed in quotation marks <code>''</code>."
   ],
   "execution_count": null,
   "cell_type": "markdown"
  },
  {
   "cell_type": "code",
   "execution_count": 8,
   "outputs": [],
   "source": [
    "file = open(\"data/moby_dick.txt\",mode=\"r\")"
   ],
   "metadata": {
    "collapsed": false,
    "pycharm": {
     "name": "#%%\n"
    }
   }
  },
  {
   "metadata": {
    "pycharm": {
     "name": "#%% md\n"
    }
   },
   "outputs": [],
   "source": [
    "Print the contents of the file to the shell using the <code>print()</code> function. As Hugo showed in the video, you'll need to apply the method <code>read()</code> to the object <code>file</code>."
   ],
   "execution_count": null,
   "cell_type": "markdown"
  },
  {
   "cell_type": "code",
   "execution_count": 9,
   "outputs": [
    {
     "name": "stdout",
     "output_type": "stream",
     "text": [
      "CHAPTER 1. Loomings.\n",
      "\n",
      "Call me Ishmael. Some years ago--never mind how long precisely--having\n",
      "little or no money in my purse, and nothing particular to interest me on\n",
      "shore, I thought I would sail about a little and see the watery part of\n",
      "the world. It is a way I have of driving off the spleen and regulating\n",
      "the circulation. Whenever I find myself growing grim about the mouth;\n",
      "whenever it is a damp, drizzly November in my soul; whenever I find\n",
      "myself involuntarily pausing before coffin warehouses, and bringing up\n",
      "the rear of every funeral I meet; and especially whenever my hypos get\n",
      "such an upper hand of me, that it requires a strong moral principle to\n",
      "prevent me from deliberately stepping into the street, and methodically\n",
      "knocking people's hats off--then, I account it high time to get to sea\n",
      "as soon as I can. This is my substitute for pistol and ball. With a\n",
      "philosophical flourish Cato throws himself upon his sword; I quietly\n",
      "take to the ship. There is nothing surprising in this. If they but knew\n",
      "it, almost all men in their degree, some time or other, cherish very\n",
      "nearly the same feelings towards the ocean with me.\n",
      "\n"
     ]
    }
   ],
   "source": [
    "print(file.read())"
   ],
   "metadata": {
    "collapsed": false,
    "pycharm": {
     "name": "#%%\n"
    }
   }
  },
  {
   "metadata": {
    "pycharm": {
     "name": "#%% md\n"
    }
   },
   "outputs": [],
   "source": [
    "Check whether the file is closed by executing <code>print(file.closed)</code>."
   ],
   "execution_count": null,
   "cell_type": "markdown"
  },
  {
   "cell_type": "code",
   "execution_count": 10,
   "outputs": [
    {
     "name": "stdout",
     "output_type": "stream",
     "text": [
      "False\n"
     ]
    }
   ],
   "source": [
    "print(file.closed)"
   ],
   "metadata": {
    "collapsed": false,
    "pycharm": {
     "name": "#%%\n"
    }
   }
  },
  {
   "metadata": {
    "pycharm": {
     "name": "#%% md\n"
    }
   },
   "outputs": [],
   "source": [
    "Close the file using the <code>close()</code> method."
   ],
   "execution_count": null,
   "cell_type": "markdown"
  },
  {
   "cell_type": "code",
   "execution_count": 11,
   "outputs": [],
   "source": [
    "file.close()"
   ],
   "metadata": {
    "collapsed": false,
    "pycharm": {
     "name": "#%%\n"
    }
   }
  },
  {
   "metadata": {
    "pycharm": {
     "name": "#%% md\n"
    }
   },
   "outputs": [],
   "source": [
    "Check again that the file is closed as you did above."
   ],
   "execution_count": null,
   "cell_type": "markdown"
  },
  {
   "cell_type": "code",
   "execution_count": 12,
   "outputs": [
    {
     "name": "stdout",
     "output_type": "stream",
     "text": [
      "True\n"
     ]
    }
   ],
   "source": [
    "print(file.closed)"
   ],
   "metadata": {
    "collapsed": false,
    "pycharm": {
     "name": "#%%\n"
    }
   }
  },
  {
   "metadata": {
    "pycharm": {
     "name": "#%% md\n"
    }
   },
   "outputs": [],
   "source": [
    "## Importing text files line by line\n",
    "\n",
    "<p>For large files, we may not want to print all of their content to the shell:\n",
    "you may wish to print only the first few lines. Enter the <code>readline()</code> method,\n",
    "which allows you to do this. When a file called <code>file</code> is open, you can print\n",
    "out the first line by executing <code>file.readline()</code>. If you execute the same\n",
    "command again, the second line will print, and so on.</p>\n",
    "<p>In the introductory video, Hugo also introduced the concept of a <strong>context manager</strong>. He showed that you can bind a variable <code>file</code> by using a context manager construct:</p>\n",
    "<pre><code>with open('huck_finn.txt') as file:\n",
    "</code></pre>\n",
    "<p>While still within this construct, the variable <code>file</code> will be bound to <code>open('huck_finn.txt')</code>;\n",
    "thus, to print the file to the shell, all the code you need to execute is:</p>\n",
    "<pre><code>with open('huck_finn.txt') as file:\n",
    "    print(file.readline())\n",
    "</code></pre>\n",
    "<p>You'll now use these tools to print the first few lines of <code>moby_dick.txt</code>!</p>"
   ],
   "execution_count": null,
   "cell_type": "markdown"
  },
  {
   "metadata": {
    "pycharm": {
     "name": "#%% md\n"
    }
   },
   "outputs": [],
   "source": [
    "Open <code>moby_dick.txt</code> using the <code>with</code> context manager and the variable <code>file</code>."
   ],
   "execution_count": null,
   "cell_type": "markdown"
  },
  {
   "metadata": {
    "pycharm": {
     "name": "#%% md\n"
    }
   },
   "outputs": [],
   "source": [
    "Print the first three lines of the file to the shell by using <code>readline()</code> three times within the context manager."
   ],
   "execution_count": null,
   "cell_type": "markdown"
  },
  {
   "cell_type": "code",
   "execution_count": 13,
   "outputs": [
    {
     "name": "stdout",
     "output_type": "stream",
     "text": [
      "CHAPTER 1. Loomings.\n",
      "\n",
      "\n",
      "\n",
      "Call me Ishmael. Some years ago--never mind how long precisely--having\n",
      "\n"
     ]
    }
   ],
   "source": [
    "# Read & print the first 3 lines\n",
    "with open('data/moby_dick.txt',\"r\") as file:\n",
    "    print(file.readline())\n",
    "    print(file.readline())\n",
    "    print(file.readline())"
   ],
   "metadata": {
    "collapsed": false,
    "pycharm": {
     "name": "#%%\n"
    }
   }
  },
  {
   "metadata": {
    "pycharm": {
     "name": "#%% md\n"
    }
   },
   "outputs": [],
   "source": [
    "## The importance of flat files in data science"
   ],
   "execution_count": null,
   "cell_type": "markdown"
  },
  {
   "metadata": {
    "pycharm": {
     "name": "#%% md\n"
    }
   },
   "outputs": [],
   "source": [
    "### 1. The importance of flat files in data science\n",
    "\n",
    "Now you know how to import plain text files,"
   ],
   "execution_count": null,
   "cell_type": "markdown"
  },
  {
   "metadata": {
    "pycharm": {
     "name": "#%% md\n"
    }
   },
   "outputs": [],
   "source": [
    "### 2. Flat files\n",
    "\n",
    "we're going to look at flat files, such as 'titanic dot csv',\n",
    "\n",
    "<img src=\"image/img.png\">"
   ],
   "execution_count": null,
   "cell_type": "markdown"
  },
  {
   "metadata": {
    "pycharm": {
     "name": "#%% md\n"
    }
   },
   "outputs": [],
   "source": [
    "### 3. Flat files\n",
    "\n",
    "in which each\n",
    "<img src=\"image/img_1.png\">"
   ],
   "execution_count": null,
   "cell_type": "markdown"
  },
  {
   "metadata": {
    "pycharm": {
     "name": "#%% md\n"
    }
   },
   "outputs": [],
   "source": [
    "### 4. Flat files\n",
    "\n",
    "row is a unique passenger onboard and each\n",
    "\n",
    "<img src=\"image/img_2.png\">"
   ],
   "execution_count": null,
   "cell_type": "markdown"
  },
  {
   "metadata": {
    "pycharm": {
     "name": "#%% md\n"
    }
   },
   "outputs": [],
   "source": [
    "### 5. Flat files\n",
    "\n",
    "column is a feature of attribute, such as gender, cabin and 'survived or not'. It is essential for any budding data scientist to know precisely what the term flat file means.\n",
    "\n",
    "<img src=\"image/img_3.png\">"
   ],
   "execution_count": null,
   "cell_type": "markdown"
  },
  {
   "metadata": {
    "pycharm": {
     "name": "#%% md\n"
    }
   },
   "outputs": [],
   "source": [
    "### 6. Flat files\n",
    "\n",
    "Flat files are basic text files containing records, that is, table data, without structured relationships. This is in contrast to a relational database, for example, in which columns of distinct tables can be related. We'll get to these later. To be even more precise, flat files consist of records, where by a record we mean a row of fields or attributes, each of which contains at most one item of information. In the flat file 'titanic dot csv', each\n",
    "\n",
    "<img src=\"image/img_3.png\">"
   ],
   "execution_count": null,
   "cell_type": "markdown"
  },
  {
   "metadata": {
    "pycharm": {
     "name": "#%% md\n"
    }
   },
   "outputs": [],
   "source": [
    "### 7. Flat files\n",
    "\n",
    "row or record is a unique passenger onboard and each column is a feature or attribute, such as\n",
    "\n",
    "<img src=\"image/img_4.png\">"
   ],
   "execution_count": null,
   "cell_type": "markdown"
  },
  {
   "metadata": {
    "pycharm": {
     "name": "#%% md\n"
    }
   },
   "outputs": [],
   "source": [
    "### 8. Flat files\n",
    "\n",
    "name, gender and cabin.\n",
    "\n",
    "<img src=\"image/img_5.png\">"
   ],
   "execution_count": null,
   "cell_type": "markdown"
  },
  {
   "metadata": {
    "pycharm": {
     "name": "#%% md\n"
    }
   },
   "outputs": [],
   "source": [
    "### 9. Header\n",
    "\n",
    "It is also essential to note that a flat file can have a header, such as in 'titanic dot csv', which is a\n",
    "\n",
    "<img src=\"image/img_6.png\">"
   ],
   "execution_count": null,
   "cell_type": "markdown"
  },
  {
   "metadata": {
    "pycharm": {
     "name": "#%% md\n"
    }
   },
   "outputs": [],
   "source": [
    "### 10. Header\n",
    "\n",
    "row that occurs as the first row and describes the contents of the data columns or states what the corresponding attributes or features in each column are. It will be important to know whether or not your file has a header as it may alter your data import. The reason that flat files are so important in data science is that we data scientists really honestly like to think in records or rows of attributes."
   ],
   "execution_count": null,
   "cell_type": "markdown"
  },
  {
   "metadata": {
    "pycharm": {
     "name": "#%% md\n"
    }
   },
   "outputs": [],
   "source": [
    "### 11. File extension\n",
    "\n",
    "Now you may have noticed that the file extension was dot csv. You may be wondering what this is? Well, CSV is an acronym for comma separated value and it means exactly what it says. The values in each row are separated by commas. Another common extension for a flat file is dot txt, which means a text file. Values in flat files can be separated by characters or sequences of characters other than commas, such as a tab, and the character or characters in question is called a delimiter."
   ],
   "execution_count": null,
   "cell_type": "markdown"
  },
  {
   "metadata": {
    "pycharm": {
     "name": "#%% md\n"
    }
   },
   "outputs": [],
   "source": [
    "### 12. Tab-delimited file\n",
    "\n",
    "See here an example of a tab-delimited file. The data consists of the famous MNIST digit recognition images, where"
   ],
   "execution_count": null,
   "cell_type": "markdown"
  },
  {
   "metadata": {
    "pycharm": {
     "name": "#%% md\n"
    }
   },
   "outputs": [],
   "source": [
    "### 13. Tab-delimited file\n",
    "\n",
    "each row contains the pixel values of a given image. Note that all fields in the MNIST data are numeric, while the 'titanic dot csv' also contained strings.\n",
    "\n",
    "<img src=\"image/img_7.png\">"
   ],
   "execution_count": null,
   "cell_type": "markdown"
  },
  {
   "metadata": {
    "pycharm": {
     "name": "#%% md\n"
    }
   },
   "outputs": [],
   "source": [
    "### 14. How do you import flat files?\n",
    "\n",
    "How do we import such files? If they consist entirely of numbers and we want to store them as a numpy array, we could use numpy. If, instead, we want to store the data in a dataframe, we could use pandas. Most of the time, you will use one of these options. In the rest of this Chapter, you'll learn how to import flat files that contain only numerical data, such as the MNIST data, and import flat files that contain both numerical data and strings, such as 'titanic dot csv'."
   ],
   "execution_count": null,
   "cell_type": "markdown"
  },
  {
   "metadata": {
    "pycharm": {
     "name": "#%% md\n"
    }
   },
   "outputs": [],
   "source": [
    "### 15. Let's practice!\n",
    "\n",
    "But first, lets get you to do a couple of quick multiple choice questions to test your knowledge of flat files."
   ],
   "execution_count": null,
   "cell_type": "markdown"
  },
  {
   "metadata": {
    "pycharm": {
     "name": "#%% md\n"
    }
   },
   "outputs": [],
   "source": [
    "## Importing flat files using NumPy"
   ],
   "execution_count": null,
   "cell_type": "markdown"
  },
  {
   "metadata": {
    "pycharm": {
     "name": "#%% md\n"
    }
   },
   "outputs": [],
   "source": [
    "### 1. Importing flat files using NumPy\n",
    "\n",
    "Okay so you now know how to use Python’s built-in open function to open text files. What if you now want to import a flat file and assign it to a variable? If all the data are numerical, you can use the package numpy to import the data as a numpy array. Why would we want to do this?"
   ],
   "execution_count": null,
   "cell_type": "markdown"
  },
  {
   "metadata": {
    "pycharm": {
     "name": "#%% md\n"
    }
   },
   "outputs": [],
   "source": [
    "### 2. Why NumPy?\n",
    "\n",
    "First off, numpy arrays are the Python standard for storing numerical data. They are efficient, fast and clean."
   ],
   "execution_count": null,
   "cell_type": "markdown"
  },
  {
   "metadata": {
    "pycharm": {
     "name": "#%% md\n"
    }
   },
   "outputs": [],
   "source": [
    "### 3. Why NumPy?\n",
    "\n",
    "Secondly, numpy arrays are often essential for other packages, such as scikit-learn, a popular Machine Learning package for Python. Numpy itself has a number of built-in functions that make it far easier and more efficient for us to import data as arrays. Enter the NumPy functions loadtxt and genfromtxt."
   ],
   "execution_count": null,
   "cell_type": "markdown"
  },
  {
   "metadata": {
    "pycharm": {
     "name": "#%% md\n"
    }
   },
   "outputs": [],
   "source": [
    "### 4. Importing flat files using NumPy\n",
    "\n",
    "To use either of these we first need to import NumPy. We then call loadtxt and pass it the filename as the first argument, along with the delimiter as the 2nd argument. Note that the default delimiter is any white space so we’ll usually need to specify it explicitly."
   ],
   "execution_count": null,
   "cell_type": "markdown"
  },
  {
   "cell_type": "code",
   "execution_count": 14,
   "outputs": [
    {
     "name": "stdout",
     "output_type": "stream",
     "text": [
      "[[1. 0. 0. ... 0. 0. 0.]\n",
      " [0. 0. 0. ... 0. 0. 0.]\n",
      " [1. 0. 0. ... 0. 0. 0.]\n",
      " ...\n",
      " [2. 0. 0. ... 0. 0. 0.]\n",
      " [0. 0. 0. ... 0. 0. 0.]\n",
      " [5. 0. 0. ... 0. 0. 0.]]\n"
     ]
    }
   ],
   "source": [
    "import numpy as np\n",
    "data = np.loadtxt(\"data/mnist_kaggle_some_rows.csv\",delimiter=\",\")\n",
    "print(data)"
   ],
   "metadata": {
    "collapsed": false,
    "pycharm": {
     "name": "#%%\n"
    }
   }
  },
  {
   "metadata": {
    "pycharm": {
     "name": "#%% md\n"
    }
   },
   "outputs": [],
   "source": [
    "### 5. Customizing your NumPy import\n",
    "\n",
    "There are a number of additional arguments you may wish to specify. If, for example, your data consists of numerics and your header has strings in it, such as in the MNIST digits data, you will want to skip the first row by calling loadtxt with the argument skiprows equals 1; if you want only the 1st and 3rd columns of the data,"
   ],
   "execution_count": null,
   "cell_type": "markdown"
  },
  {
   "cell_type": "code",
   "execution_count": 15,
   "outputs": [
    {
     "name": "stdout",
     "output_type": "stream",
     "text": [
      "[[0. 0. 0. ... 0. 0. 0.]\n",
      " [1. 0. 0. ... 0. 0. 0.]\n",
      " [4. 0. 0. ... 0. 0. 0.]\n",
      " ...\n",
      " [2. 0. 0. ... 0. 0. 0.]\n",
      " [0. 0. 0. ... 0. 0. 0.]\n",
      " [5. 0. 0. ... 0. 0. 0.]]\n"
     ]
    }
   ],
   "source": [
    "data = np.loadtxt(\"data/mnist_kaggle_some_rows.csv\",delimiter=\",\",skiprows=1)\n",
    "print(data)"
   ],
   "metadata": {
    "collapsed": false,
    "pycharm": {
     "name": "#%%\n"
    }
   }
  },
  {
   "metadata": {
    "pycharm": {
     "name": "#%% md\n"
    }
   },
   "outputs": [],
   "source": [
    "### 6. Customizing your NumPy import\n",
    "\n",
    "you’ll want to set usecols equals the list containing ints 0 and 2."
   ],
   "execution_count": null,
   "cell_type": "markdown"
  },
  {
   "cell_type": "code",
   "execution_count": 17,
   "outputs": [
    {
     "name": "stdout",
     "output_type": "stream",
     "text": [
      "[[0. 0.]\n",
      " [1. 0.]\n",
      " [4. 0.]\n",
      " [0. 0.]\n",
      " [0. 0.]\n",
      " [7. 0.]\n",
      " [3. 0.]\n",
      " [5. 0.]\n",
      " [3. 0.]\n",
      " [8. 0.]\n",
      " [9. 0.]\n",
      " [1. 0.]\n",
      " [3. 0.]\n",
      " [3. 0.]\n",
      " [1. 0.]\n",
      " [2. 0.]\n",
      " [0. 0.]\n",
      " [7. 0.]\n",
      " [5. 0.]\n",
      " [8. 0.]\n",
      " [6. 0.]\n",
      " [2. 0.]\n",
      " [0. 0.]\n",
      " [2. 0.]\n",
      " [3. 0.]\n",
      " [6. 0.]\n",
      " [9. 0.]\n",
      " [9. 0.]\n",
      " [7. 0.]\n",
      " [8. 0.]\n",
      " [9. 0.]\n",
      " [4. 0.]\n",
      " [9. 0.]\n",
      " [2. 0.]\n",
      " [1. 0.]\n",
      " [3. 0.]\n",
      " [1. 0.]\n",
      " [1. 0.]\n",
      " [4. 0.]\n",
      " [9. 0.]\n",
      " [1. 0.]\n",
      " [4. 0.]\n",
      " [4. 0.]\n",
      " [2. 0.]\n",
      " [6. 0.]\n",
      " [3. 0.]\n",
      " [7. 0.]\n",
      " [7. 0.]\n",
      " [4. 0.]\n",
      " [7. 0.]\n",
      " [5. 0.]\n",
      " [1. 0.]\n",
      " [9. 0.]\n",
      " [0. 0.]\n",
      " [2. 0.]\n",
      " [2. 0.]\n",
      " [3. 0.]\n",
      " [9. 0.]\n",
      " [1. 0.]\n",
      " [1. 0.]\n",
      " [1. 0.]\n",
      " [5. 0.]\n",
      " [0. 0.]\n",
      " [6. 0.]\n",
      " [3. 0.]\n",
      " [4. 0.]\n",
      " [8. 0.]\n",
      " [1. 0.]\n",
      " [0. 0.]\n",
      " [3. 0.]\n",
      " [9. 0.]\n",
      " [6. 0.]\n",
      " [2. 0.]\n",
      " [6. 0.]\n",
      " [4. 0.]\n",
      " [7. 0.]\n",
      " [1. 0.]\n",
      " [4. 0.]\n",
      " [1. 0.]\n",
      " [5. 0.]\n",
      " [4. 0.]\n",
      " [8. 0.]\n",
      " [9. 0.]\n",
      " [2. 0.]\n",
      " [9. 0.]\n",
      " [9. 0.]\n",
      " [8. 0.]\n",
      " [9. 0.]\n",
      " [6. 0.]\n",
      " [3. 0.]\n",
      " [6. 0.]\n",
      " [4. 0.]\n",
      " [6. 0.]\n",
      " [2. 0.]\n",
      " [9. 0.]\n",
      " [1. 0.]\n",
      " [2. 0.]\n",
      " [0. 0.]\n",
      " [5. 0.]]\n"
     ]
    }
   ],
   "source": [
    "data = np.loadtxt(\"data/mnist_kaggle_some_rows.csv\",delimiter=\",\",skiprows=1,usecols=[0,2])\n",
    "print(data)"
   ],
   "metadata": {
    "collapsed": false,
    "pycharm": {
     "name": "#%%\n"
    }
   }
  },
  {
   "cell_type": "code",
   "execution_count": 18,
   "outputs": [
    {
     "data": {
      "text/plain": "dtype('float64')"
     },
     "execution_count": 18,
     "metadata": {},
     "output_type": "execute_result"
    }
   ],
   "source": [
    "data.dtype"
   ],
   "metadata": {
    "collapsed": false,
    "pycharm": {
     "name": "#%%\n"
    }
   }
  },
  {
   "metadata": {
    "pycharm": {
     "name": "#%% md\n"
    }
   },
   "outputs": [],
   "source": [
    "### 7. Customizing your NumPy import\n",
    "\n",
    "You can also import different datatypes into NumPy arrays: for example, setting the argument dtype equals 'str' will ensure that all entries are imported as strings. loadtxt is great for basic cases, but tends to break down when we have"
   ],
   "execution_count": null,
   "cell_type": "markdown"
  },
  {
   "cell_type": "code",
   "execution_count": 20,
   "outputs": [
    {
     "name": "stdout",
     "output_type": "stream",
     "text": [
      "[['0.0' '0.0' '0.0' ... '0.0' '0.0' '0.0']\n",
      " ['1.0' '0.0' '0.0' ... '0.0' '0.0' '0.0']\n",
      " ['4.0' '0.0' '0.0' ... '0.0' '0.0' '0.0']\n",
      " ...\n",
      " ['2.0' '0.0' '0.0' ... '0.0' '0.0' '0.0']\n",
      " ['0.0' '0.0' '0.0' ... '0.0' '0.0' '0.0']\n",
      " ['5.0' '0.0' '0.0' ... '0.0' '0.0' '0.0']]\n"
     ]
    }
   ],
   "source": [
    "data = np.loadtxt(\"data/mnist_kaggle_some_rows.csv\",skiprows=1,delimiter=\",\",dtype=str)\n",
    "print(data)"
   ],
   "metadata": {
    "collapsed": false,
    "pycharm": {
     "name": "#%%\n"
    }
   }
  },
  {
   "cell_type": "code",
   "execution_count": 21,
   "outputs": [
    {
     "data": {
      "text/plain": "dtype('<U5')"
     },
     "execution_count": 21,
     "metadata": {},
     "output_type": "execute_result"
    }
   ],
   "source": [
    "data.dtype"
   ],
   "metadata": {
    "collapsed": false,
    "pycharm": {
     "name": "#%%\n"
    }
   }
  },
  {
   "metadata": {
    "pycharm": {
     "name": "#%% md\n"
    }
   },
   "outputs": [],
   "source": [
    "### 8. Mixed datatypes\n",
    "\n",
    "mixed datatypes, for example,"
   ],
   "execution_count": null,
   "cell_type": "markdown"
  },
  {
   "metadata": {
    "pycharm": {
     "name": "#%% md\n"
    }
   },
   "outputs": [],
   "source": [
    "### 9. Mixed datatypes\n",
    "\n",
    "columns consisting of floats AND columns consisting of strings, such as we saw in the Titanic dataset."
   ],
   "execution_count": null,
   "cell_type": "markdown"
  },
  {
   "metadata": {
    "pycharm": {
     "name": "#%% md\n"
    }
   },
   "outputs": [],
   "source": [
    "### 10. Let's practice!\n",
    "\n",
    "Now it's your turn to have fun with loadtxt. You'll also gain hands-on experience with other functions that can handle mixed datatypes. In the next video we’ll see that, although NumPy arrays can handle data of mixed types, the natural place for such data really is the dataframe."
   ],
   "execution_count": null,
   "cell_type": "markdown"
  },
  {
   "metadata": {
    "pycharm": {
     "name": "#%% md\n"
    }
   },
   "outputs": [],
   "source": [
    "## Using NumPy to import flat files\n",
    "\n",
    "<p>In this exercise, you're now going to load the MNIST digit recognition dataset using the numpy function <code>loadtxt()</code> and see just how easy it can be:</p>\n",
    "<ul>\n",
    "<li>The first argument will be the filename.</li>\n",
    "<li>The second will be the delimiter which, in this case, is a comma.</li>\n",
    "</ul>\n",
    "<p>You can find more information about the MNIST dataset <a href=\"http://yann.lecun.com/exdb/mnist/\" target=\"_blank\" rel=\"noopener noreferrer\">here</a> on the webpage of Yann LeCun, who is currently Director of AI Research at Facebook and Founding Director of the NYU Center for Data Science, among many other things.</p>"
   ],
   "execution_count": null,
   "cell_type": "markdown"
  },
  {
   "metadata": {
    "pycharm": {
     "name": "#%% md\n"
    }
   },
   "outputs": [],
   "source": [
    "Fill in the arguments of <code>np.loadtxt()</code> by passing <code>file</code> and a  comma <code>','</code> for the delimiter."
   ],
   "execution_count": null,
   "cell_type": "markdown"
  },
  {
   "cell_type": "code",
   "execution_count": 23,
   "outputs": [],
   "source": [
    "digits = np.loadtxt(\"data/digits.csv\",delimiter=\",\")"
   ],
   "metadata": {
    "collapsed": false,
    "pycharm": {
     "name": "#%%\n"
    }
   }
  },
  {
   "metadata": {
    "pycharm": {
     "name": "#%% md\n"
    }
   },
   "outputs": [],
   "source": [
    "Fill in the argument of <code>print()</code> to print the type of the object <code>digits</code>. Use the function <code>type()</code>."
   ],
   "execution_count": null,
   "cell_type": "markdown"
  },
  {
   "cell_type": "code",
   "execution_count": 24,
   "outputs": [
    {
     "name": "stdout",
     "output_type": "stream",
     "text": [
      "<class 'numpy.ndarray'>\n"
     ]
    }
   ],
   "source": [
    "print(type(digits))"
   ],
   "metadata": {
    "collapsed": false,
    "pycharm": {
     "name": "#%%\n"
    }
   }
  },
  {
   "cell_type": "code",
   "execution_count": 25,
   "outputs": [
    {
     "data": {
      "text/plain": "<Figure size 432x288 with 1 Axes>",
      "image/png": "[encoded data removed]"
     },
     "metadata": {
      "needs_background": "light"
     },
     "output_type": "display_data"
    }
   ],
   "source": [
    "import matplotlib.pyplot as plt\n",
    "\n",
    "im = digits[21,1:]\n",
    "im_sq = np.reshape(im,(28,28))\n",
    "\n",
    "plt.imshow(im_sq,cmap=\"Greys\",interpolation=\"nearest\")\n",
    "plt.show()"
   ],
   "metadata": {
    "collapsed": false,
    "pycharm": {
     "name": "#%%\n"
    }
   }
  },
  {
   "metadata": {
    "pycharm": {
     "name": "#%% md\n"
    }
   },
   "outputs": [],
   "source": [
    "## Customizing your NumPy import\n",
    "\n",
    "<p>What if there are rows, such as a header, that you don't want to import? What if your file has a delimiter other than a comma? What if you only wish to import particular columns?</p>\n",
    "<p>There are a number of arguments that <code>np.loadtxt()</code> takes\n",
    "that you'll find useful: </p>\n",
    "<ul>\n",
    "<li><code>delimiter</code> changes the delimiter that <code>loadtxt()</code> is expecting.<ul>\n",
    "<li>You can use <code>','</code> for comma-delimited.</li>\n",
    "<li>You can use <code>'\\t'</code> for tab-delimited. </li></ul></li>\n",
    "<li><code>skiprows</code> allows you to specify <em>how many rows</em> (not indices) you wish to skip</li>\n",
    "<li><code>usecols</code> takes a <em>list</em> of the indices of the columns you wish to keep.</li>\n",
    "</ul>\n",
    "<p>The file that you'll be importing, <code>digits_header.txt</code>, has a header and is tab-delimited.</p>"
   ],
   "execution_count": null,
   "cell_type": "markdown"
  },
  {
   "metadata": {
    "pycharm": {
     "name": "#%% md\n"
    }
   },
   "outputs": [],
   "source": [
    "Complete the arguments of <code>np.loadtxt()</code>: the file you're importing is tab-delimited, you want to skip the first row and you only want to import the first and third columns."
   ],
   "execution_count": null,
   "cell_type": "markdown"
  },
  {
   "metadata": {
    "pycharm": {
     "name": "#%% md\n"
    }
   },
   "outputs": [],
   "source": [
    "Complete the argument of the <code>print()</code> call in order to print the entire array that you just imported."
   ],
   "execution_count": null,
   "cell_type": "markdown"
  },
  {
   "cell_type": "code",
   "execution_count": 26,
   "outputs": [
    {
     "name": "stdout",
     "output_type": "stream",
     "text": [
      "[1. 0.]\n"
     ]
    }
   ],
   "source": [
    "# Import numpy\n",
    "import numpy as np\n",
    "\n",
    "# Assign the filename: file\n",
    "file = 'data/digits_header.txt'\n",
    "\n",
    "# Load the data: data\n",
    "data = np.loadtxt(file, delimiter=\"\\t\", skiprows=1, usecols=[0,2])\n",
    "\n",
    "# Print data\n",
    "print(data)\n"
   ],
   "metadata": {
    "collapsed": false,
    "pycharm": {
     "name": "#%%\n"
    }
   }
  },
  {
   "metadata": {
    "pycharm": {
     "name": "#%% md\n"
    }
   },
   "outputs": [],
   "source": [
    "## Importing different datatypes\n",
    "\n",
    "<p>The file <code>seaslug.txt</code></p>\n",
    "<ul>\n",
    "<li>has a text header, consisting of strings</li>\n",
    "<li>is tab-delimited.</li>\n",
    "</ul>\n",
    "<p>These data consists of percentage of\n",
    "sea slug larvae that had metamorphosed in a given time period.\n",
    "Read more <a href=\"http://www.stat.ucla.edu/~rgould/datasets/aboutseaslugs.html\" target=\"_blank\" rel=\"noopener noreferrer\">here</a>.</p>\n",
    "<p>Due to the header, if you tried to import it as-is using\n",
    "<code>np.loadtxt()</code>, Python would throw you a <code>ValueError</code> and tell\n",
    "you that it <code>could not convert string to float</code>. There are\n",
    "two ways to deal with this: firstly, you can set the data type\n",
    "argument <code>dtype</code> equal to <code>str</code> (for string).</p>\n",
    "<p>Alternatively, you can skip the first row as we have seen before,\n",
    "using the <code>skiprows</code> argument.</p>"
   ],
   "execution_count": null,
   "cell_type": "markdown"
  },
  {
   "metadata": {
    "pycharm": {
     "name": "#%% md\n"
    }
   },
   "outputs": [],
   "source": [
    "Complete the first call to <code>np.loadtxt()</code> by passing <code>file</code> as the first argument."
   ],
   "execution_count": null,
   "cell_type": "markdown"
  },
  {
   "metadata": {
    "pycharm": {
     "name": "#%% md\n"
    }
   },
   "outputs": [],
   "source": [
    "Execute <code>print(data[0])</code> to print the first element of <code>data</code>."
   ],
   "execution_count": null,
   "cell_type": "markdown"
  },
  {
   "metadata": {
    "pycharm": {
     "name": "#%% md\n"
    }
   },
   "outputs": [],
   "source": [
    "Complete the second call to <code>np.loadtxt()</code>. The file you're importing is tab-delimited, the datatype is <code>float</code>, and you want to skip the first row."
   ],
   "execution_count": null,
   "cell_type": "markdown"
  },
  {
   "metadata": {
    "pycharm": {
     "name": "#%% md\n"
    }
   },
   "outputs": [],
   "source": [
    "Print the 10th element of <code>data_float</code> by completing the <code>print()</code> command. Be guided by the previous <code>print()</code> call."
   ],
   "execution_count": null,
   "cell_type": "markdown"
  },
  {
   "metadata": {
    "pycharm": {
     "name": "#%% md\n"
    }
   },
   "outputs": [],
   "source": [
    "Execute the rest of the code to visualize the data."
   ],
   "execution_count": null,
   "cell_type": "markdown"
  },
  {
   "cell_type": "code",
   "execution_count": 27,
   "outputs": [
    {
     "name": "stdout",
     "output_type": "stream",
     "text": [
      "['Time' 'Percent']\n",
      "[0.    0.357]\n"
     ]
    },
    {
     "data": {
      "text/plain": "<Figure size 432x288 with 1 Axes>",
      "image/png": "[encoded data removed]"
     },
     "metadata": {
      "needs_background": "light"
     },
     "output_type": "display_data"
    }
   ],
   "source": [
    "# Assign filename: file\n",
    "file = 'data/seaslug.txt'\n",
    "\n",
    "# Import file: data\n",
    "data = np.loadtxt(file, delimiter='\\t', dtype=str)\n",
    "\n",
    "# Print the first element of data\n",
    "print(data[0])\n",
    "\n",
    "# Import data as floats and skip the first row: data_float\n",
    "data_float = np.loadtxt(file, delimiter=\"\\t\", dtype=float, skiprows=1)\n",
    "\n",
    "# Print the 10th element of data_float\n",
    "print(data_float[9])\n",
    "\n",
    "# Plot a scatterplot of the data\n",
    "plt.scatter(data_float[:, 0], data_float[:, 1])\n",
    "plt.xlabel('time (min.)')\n",
    "plt.ylabel('percentage of larvae')\n",
    "plt.show()\n"
   ],
   "metadata": {
    "collapsed": false,
    "pycharm": {
     "name": "#%%\n"
    }
   }
  },
  {
   "cell_type": "markdown",
   "source": [
    "<div class=\"exercise--assignment exercise--typography\"><h1 class=\"exercise--title\">Working with mixed datatypes (1)</h1><div class=\"\"><p>Much of the time you will need to import datasets which have\n",
    "different datatypes in different columns; one column\n",
    "may contain strings and another floats, for example. The function\n",
    "<code>np.loadtxt()</code> will freak at this. There is another function,\n",
    "<code>np.genfromtxt()</code>, which can handle such structures. If we\n",
    "pass <code>dtype=None</code> to it, it will figure out what types\n",
    "each column should be.</p>\n",
    "<p>Import <code>'titanic.csv'</code> using the function <code>np.genfromtxt()</code> as follows:</p>\n",
    "<pre><code>data = np.genfromtxt('titanic.csv', delimiter=',', names=True, dtype=None)\n",
    "</code></pre>\n",
    "<p>Here, the first argument is the filename, the second\n",
    "specifies the delimiter <code>,</code> and the third argument <code>names</code> tells us there is a header.\n",
    "Because the data are of different types, <code>data</code> is an object called a\n",
    "<a href=\"http://docs.scipy.org/doc/numpy/user/basics.rec.html\" target=\"_blank\" rel=\"noopener noreferrer\">structured array</a>. Because numpy arrays have\n",
    "to contain elements that are all the same type, the structured array solves this by being a 1D array,\n",
    "where each element of the array is a row of the flat file imported. You can test this by checking\n",
    "out the array's shape in the shell by executing <code>np.shape(data)</code>.</p>\n",
    "<p>Accessing rows and columns of structured arrays is super-intuitive: to get the ith row, merely\n",
    "execute <code>data[i]</code> and to get the column with name <code>'Fare'</code>, execute <code>data['Fare']</code>.</p>\n",
    "<p>After importing the Titanic data as a structured array (as per the instructions above), print the entire column with the name <code>Survived</code> to the shell. What are the last 4 values of this column?</p></div></div>"
   ],
   "metadata": {
    "collapsed": false,
    "pycharm": {
     "name": "#%% md\n"
    }
   }
  },
  {
   "cell_type": "code",
   "execution_count": 33,
   "outputs": [
    {
     "name": "stdout",
     "output_type": "stream",
     "text": [
      "[0 1 1 1 0 0 0 0 1 1 1 1 0 0 0 1 0 1 0 1 0 1 1 1 0 1 0 0 1 0 0 1 1 0 0 0 1\n",
      " 0 0 1 0 0 0 1 1 0 0 1 0 0 0 0 1 1 0 1 1 0 1 0 0 1 0 0 0 1 1 0 1 0 0 0 0 0\n",
      " 1 0 0 0 1 1 0 1 1 0 1 1 0 0 1 0 0 0 0 0 0 0 0 1 1 0 0 0 0 0 0 0 1 1 0 1 0\n",
      " 0 0 0 0 0 0 0 0 0 0 0 0 1 0 1 0 1 1 0 0 0 0 1 0 0 1 0 0 0 0 1 1 0 0 0 1 0\n",
      " 0 0 0 1 0 0 0 0 1 0 0 0 0 1 0 0 0 1 1 0 0 0 0 0 1 0 0 0 0 0 0 0 0 0 0 1 1\n",
      " 0 1 1 0 0 1 0 1 1 1 1 0 0 1 0 0 0 0 0 1 0 0 1 1 1 0 1 0 0 0 1 1 0 1 0 1 0\n",
      " 0 0 1 0 1 0 0 0 1 0 0 1 0 0 0 1 0 0 0 1 0 0 0 0 0 1 1 0 0 0 0 0 0 1 1 1 1\n",
      " 1 0 1 0 0 0 0 0 1 1 1 0 1 1 0 1 1 0 0 0 1 0 0 0 1 0 0 1 0 1 1 1 1 0 0 0 0\n",
      " 0 0 1 1 1 1 0 1 0 1 1 1 0 1 1 1 0 0 0 1 1 0 1 1 0 0 1 1 0 1 0 1 1 1 1 0 0\n",
      " 0 1 0 0 1 1 0 1 1 0 0 0 1 1 1 1 0 0 0 0 0 0 0 1 0 1 1 0 0 0 0 0 0 1 1 1 1\n",
      " 1 0 0 0 0 1 1 0 0 0 1 1 0 1 0 0 0 1 0 1 1 1 0 1 1 0 0 0 0 1 1 0 0 0 0 0 0\n",
      " 1 0 0 0 0 1 0 1 0 1 1 0 0 0 0 0 0 0 0 1 1 0 1 1 1 1 0 0 1 0 1 0 0 1 0 0 1\n",
      " 1 1 1 1 1 1 0 0 0 1 0 1 0 1 1 0 1 0 0 0 0 0 0 0 0 1 0 0 1 1 0 0 0 0 0 1 0\n",
      " 0 0 1 1 0 1 0 0 1 0 0 0 0 0 0 1 0 0 0 0 0 0 0 1 0 1 1 0 1 1 0 1 1 0 0 1 0\n",
      " 1 0 1 0 0 1 0 0 1 0 0 0 1 0 0 1 0 1 0 1 0 1 1 0 0 1 0 0 1 1 0 1 1 0 0 1 1\n",
      " 0 1 0 1 1 0 0 0 0 0 0 0 0 0 1 1 1 1 1 0 0 1 1 0 1 1 1 0 0 0 1 0 1 0 0 0 1\n",
      " 0 0 0 0 1 0 0 1 1 0 0 0 1 0 0 1 1 1 0 0 1 0 0 1 0 0 1 0 0 1 1 0 0 0 0 1 0\n",
      " 0 1 0 1 0 0 1 0 0 0 0 0 1 0 1 1 1 0 1 0 1 0 1 0 1 0 0 0 0 0 0 1 0 0 0 1 0\n",
      " 0 0 0 1 1 0 0 1 0 0 0 1 0 1 0 1 0 0 0 0 0 0 0 1 1 1 1 0 0 0 0 1 0 0 1 1 0\n",
      " 0 0 0 1 1 1 1 1 0 1 0 0 0 1 1 0 0 1 0 0 0 1 0 1 1 0 0 1 0 0 0 0 0 0 1 0 0\n",
      " 1 0 1 0 1 0 0 1 0 0 1 1 0 0 1 1 0 0 0 1 0 0 1 1 0 1 0 0 0 0 0 0 0 0 1 0 0\n",
      " 1 0 1 1 1 0 0 0 0 1 0 1 0 0 0 0 0 0 0 1 1 0 0 0 1 1 1 1 0 0 0 0 1 0 0 0 0\n",
      " 0 0 0 0 0 0 1 1 0 1 0 0 0 1 1 1 1 1 0 0 0 1 0 0 1 1 0 0 1 0 0 0 0 0 0 1 0\n",
      " 0 0 1 0 1 1 1 1 0 0 0 1 0 0 1 1 0 0 1 0 1 0 0 1 1 0 0 0 1 1 0 0 0 0 0 0 1\n",
      " 0 1 0]\n"
     ]
    }
   ],
   "source": [
    "data = np.genfromtxt(\"data/titanic_sub.csv\",names=True,delimiter=\",\",dtype=None,encoding=None)\n",
    "print(data[\"Survived\"])"
   ],
   "metadata": {
    "collapsed": false,
    "pycharm": {
     "name": "#%%\n"
    }
   }
  },
  {
   "metadata": {
    "pycharm": {
     "name": "#%% md\n"
    }
   },
   "outputs": [],
   "source": [
    "## Working with mixed datatypes (2)\n",
    "\n",
    "<p>You have just used <code>np.genfromtxt()</code> to import data containing\n",
    "mixed datatypes. There is also another function <code>np.recfromcsv()</code> that behaves\n",
    "similarly to <code>np.genfromtxt()</code>, except that its default\n",
    "<code>dtype</code> is <code>None</code>. In this exercise, you'll practice using this to\n",
    "achieve the same result.</p>"
   ],
   "execution_count": null,
   "cell_type": "markdown"
  },
  {
   "metadata": {
    "pycharm": {
     "name": "#%% md\n"
    }
   },
   "outputs": [],
   "source": [
    "Import <code>titanic.csv</code> using the function <code>np.recfromcsv()</code> and assign it to the variable, <code>d</code>. You'll only need to pass <code>file</code> to it because it has the defaults <code>delimiter=','</code> and <code>names=True</code> in addition to <code>dtype=None</code>!"
   ],
   "execution_count": null,
   "cell_type": "markdown"
  },
  {
   "metadata": {
    "pycharm": {
     "name": "#%% md\n"
    }
   },
   "outputs": [],
   "source": [
    "Run the remaining code to print the first three entries of the resulting array <code>d</code>."
   ],
   "execution_count": null,
   "cell_type": "markdown"
  },
  {
   "cell_type": "code",
   "execution_count": 32,
   "outputs": [
    {
     "name": "stdout",
     "output_type": "stream",
     "text": [
      "[(1, 0, 3, 'male', 22., 1, 0, 'A/5 21171',  7.25  , '', 'S')\n",
      " (2, 1, 1, 'female', 38., 1, 0, 'PC 17599', 71.2833, 'C85', 'C')\n",
      " (3, 1, 3, 'female', 26., 0, 0, 'STON/O2. 3101282',  7.925 , '', 'S')]\n"
     ]
    }
   ],
   "source": [
    "# Assign the filename: file\n",
    "file = 'data/titanic_sub.csv'\n",
    "\n",
    "# Import file using np.recfromcsv: d\n",
    "d = np.recfromcsv(file,delimiter =\",\",names=True,encoding=None)\n",
    "\n",
    "# Print out first three entries of d\n",
    "print(d[:3])\n"
   ],
   "metadata": {
    "collapsed": false,
    "pycharm": {
     "name": "#%%\n"
    }
   }
  },
  {
   "metadata": {
    "pycharm": {
     "name": "#%% md\n"
    }
   },
   "outputs": [],
   "source": [
    "## Importing flat files using pandas"
   ],
   "execution_count": null,
   "cell_type": "markdown"
  },
  {
   "metadata": {
    "pycharm": {
     "name": "#%% md\n"
    }
   },
   "outputs": [],
   "source": [
    "### 1. Importing flat files using pandas\n",
    "\n",
    "Congrats! You're now able to import a bunch of different types of flat files into Python as NumPy arrays. Although arrays are incredibly powerful and serve a number of essential purposes, they cannot fulfill one of the most basic needs of a Data Scientist:"
   ],
   "execution_count": null,
   "cell_type": "markdown"
  },
  {
   "metadata": {
    "pycharm": {
     "name": "#%% md\n"
    }
   },
   "outputs": [],
   "source": [
    "### 2. What a data scientist needs\n",
    "\n",
    "to have \"[two]-dimensional labeled data structure[s] with columns of potentially different types\" that you can easily perform a plethora of Data Sciencey type things on: manipulate, slice, reshaped, groupby, join, merge, perform statistics in a missing-value-friendly manner, deal with times series. The need for such a data structure, among other issues,"
   ],
   "execution_count": null,
   "cell_type": "markdown"
  },
  {
   "metadata": {
    "pycharm": {
     "name": "#%% md\n"
    }
   },
   "outputs": [],
   "source": [
    "### 3. Pandas and the DataFrame\n",
    "\n",
    "prompted Wes McKinney to develop the"
   ],
   "execution_count": null,
   "cell_type": "markdown"
  },
  {
   "metadata": {
    "pycharm": {
     "name": "#%% md\n"
    }
   },
   "outputs": [],
   "source": [
    "### 4. Pandas and the DataFrame\n",
    "\n",
    "pandas library for Python. Nothing speaks to the project of pandas more than the documentation itself:"
   ],
   "execution_count": null,
   "cell_type": "markdown"
  },
  {
   "metadata": {
    "pycharm": {
     "name": "#%% md\n"
    }
   },
   "outputs": [],
   "source": [
    "### 5. Pandas and the DataFrame\n",
    "\n",
    "\"Python has long been great for data munging and preparation, but less so for data analysis and modeling. pandas helps fill this gap, enabling you to carry out your entire data analysis workflow in Python without having to switch to a more domain specific language like R.\" The data structure most relevant to the data manipulation and analysis workflow that pandas offers is the dataframe and it is the Pythonic analogue of R’s dataframe."
   ],
   "execution_count": null,
   "cell_type": "markdown"
  },
  {
   "metadata": {
    "pycharm": {
     "name": "#%% md\n"
    }
   },
   "outputs": [],
   "source": [
    "### 6. Pandas and the DataFrame\n",
    "\n",
    "As Hadley Wickham tweeted, \"A matrix has rows and columns. A data frame has observations and variables.\""
   ],
   "execution_count": null,
   "cell_type": "markdown"
  },
  {
   "metadata": {
    "pycharm": {
     "name": "#%% md\n"
    }
   },
   "outputs": [],
   "source": [
    "### 7. Manipulating pandas DataFrames\n",
    "\n",
    "Manipulating dataframes in pandas can be useful in all steps of the data scientific method, from exploratory data analysis to data wrangling, preprocessing, building models and visualization. Here we will see its great utility in importing flat files, even merely in the way that it deals with missing data, comments along with the many other issues that plague working data scientists. For all of these reasons, it is now standard and best practice in Data Science to use pandas to import flat files as dataframes. Later in this course, we’ll see how many other types of data, whether they’re stored in relational databases, hdf5, MATLAB or excel files, can easily be imported as dataframes."
   ],
   "execution_count": null,
   "cell_type": "markdown"
  },
  {
   "metadata": {
    "pycharm": {
     "name": "#%% md\n"
    }
   },
   "outputs": [],
   "source": [
    "### 8. Importing using pandas\n",
    "\n",
    "To use pandas, you first need to import it. Then, if we wish to import a CSV in the most basic case all we need to do is to call the function read_csv and supply it with a single argument, the name of the file. Having assigned the dataframe to the variable data, we can check the first 5 rows of the dataframe, including the header, with the command 'data dot head'. We can also easily convert to the dataframe to a numpy array by calling the dataframe attribute values. Now it's your turn to play around importing flat files using Python."
   ],
   "execution_count": null,
   "cell_type": "markdown"
  },
  {
   "cell_type": "code",
   "execution_count": 34,
   "outputs": [
    {
     "data": {
      "text/plain": "   PassengerId  Survived  Pclass     Sex   Age  SibSp  Parch  \\\n0            1         0       3    male  22.0      1      0   \n1            2         1       1  female  38.0      1      0   \n2            3         1       3  female  26.0      0      0   \n3            4         1       1  female  35.0      1      0   \n4            5         0       3    male  35.0      0      0   \n\n             Ticket     Fare Cabin Embarked  \n0         A/5 21171   7.2500   NaN        S  \n1          PC 17599  71.2833   C85        C  \n2  STON/O2. 3101282   7.9250   NaN        S  \n3            113803  53.1000  C123        S  \n4            373450   8.0500   NaN        S  ",
      "text/html": "<div>\n<style scoped>\n    .dataframe tbody tr th:only-of-type {\n        vertical-align: middle;\n    }\n\n    .dataframe tbody tr th {\n        vertical-align: top;\n    }\n\n    .dataframe thead th {\n        text-align: right;\n    }\n</style>\n<table border=\"1\" class=\"dataframe\">\n  <thead>\n    <tr style=\"text-align: right;\">\n      <th></th>\n      <th>PassengerId</th>\n      <th>Survived</th>\n      <th>Pclass</th>\n      <th>Sex</th>\n      <th>Age</th>\n      <th>SibSp</th>\n      <th>Parch</th>\n      <th>Ticket</th>\n      <th>Fare</th>\n      <th>Cabin</th>\n      <th>Embarked</th>\n    </tr>\n  </thead>\n  <tbody>\n    <tr>\n      <th>0</th>\n      <td>1</td>\n      <td>0</td>\n      <td>3</td>\n      <td>male</td>\n      <td>22.0</td>\n      <td>1</td>\n      <td>0</td>\n      <td>A/5 21171</td>\n      <td>7.2500</td>\n      <td>NaN</td>\n      <td>S</td>\n    </tr>\n    <tr>\n      <th>1</th>\n      <td>2</td>\n      <td>1</td>\n      <td>1</td>\n      <td>female</td>\n      <td>38.0</td>\n      <td>1</td>\n      <td>0</td>\n      <td>PC 17599</td>\n      <td>71.2833</td>\n      <td>C85</td>\n      <td>C</td>\n    </tr>\n    <tr>\n      <th>2</th>\n      <td>3</td>\n      <td>1</td>\n      <td>3</td>\n      <td>female</td>\n      <td>26.0</td>\n      <td>0</td>\n      <td>0</td>\n      <td>STON/O2. 3101282</td>\n      <td>7.9250</td>\n      <td>NaN</td>\n      <td>S</td>\n    </tr>\n    <tr>\n      <th>3</th>\n      <td>4</td>\n      <td>1</td>\n      <td>1</td>\n      <td>female</td>\n      <td>35.0</td>\n      <td>1</td>\n      <td>0</td>\n      <td>113803</td>\n      <td>53.1000</td>\n      <td>C123</td>\n      <td>S</td>\n    </tr>\n    <tr>\n      <th>4</th>\n      <td>5</td>\n      <td>0</td>\n      <td>3</td>\n      <td>male</td>\n      <td>35.0</td>\n      <td>0</td>\n      <td>0</td>\n      <td>373450</td>\n      <td>8.0500</td>\n      <td>NaN</td>\n      <td>S</td>\n    </tr>\n  </tbody>\n</table>\n</div>"
     },
     "execution_count": 34,
     "metadata": {},
     "output_type": "execute_result"
    }
   ],
   "source": [
    "import pandas as pd\n",
    "data = pd.read_csv(\"data/titanic_sub.csv\")\n",
    "data.head()"
   ],
   "metadata": {
    "collapsed": false,
    "pycharm": {
     "name": "#%%\n"
    }
   }
  },
  {
   "cell_type": "code",
   "execution_count": 35,
   "outputs": [
    {
     "name": "stdout",
     "output_type": "stream",
     "text": [
      "<class 'numpy.ndarray'>\n"
     ]
    }
   ],
   "source": [
    "data_array = data.values\n",
    "print(type(data_array))"
   ],
   "metadata": {
    "collapsed": false,
    "pycharm": {
     "name": "#%%\n"
    }
   }
  },
  {
   "metadata": {
    "pycharm": {
     "name": "#%% md\n"
    }
   },
   "outputs": [],
   "source": [
    "### 9. You’ll experience:\n",
    "\n",
    "You'll get experience importing a flat file that is straightforward and you'll also get experience importing a flat file that has a few issues, such as containing comments and strings that should be interpreted as missing values."
   ],
   "execution_count": null,
   "cell_type": "markdown"
  },
  {
   "metadata": {
    "pycharm": {
     "name": "#%% md\n"
    }
   },
   "outputs": [],
   "source": [
    "### 10. Let's practice!\n",
    "\n",
    "Have fun importing!"
   ],
   "execution_count": null,
   "cell_type": "markdown"
  },
  {
   "metadata": {
    "pycharm": {
     "name": "#%% md\n"
    }
   },
   "outputs": [],
   "source": [
    "## Using pandas to import flat files as DataFrames (1)\n",
    "\n",
    "<p>In the last exercise, you were able to import flat files\n",
    "containing columns with different datatypes as <code>numpy</code> arrays. However,\n",
    "the <code>DataFrame</code> object in pandas is\n",
    "a more appropriate structure in which to store such data and,\n",
    "thankfully, we can easily import files of mixed data types as DataFrames\n",
    "using the pandas functions <code>read_csv()</code> and <code>read_table()</code>.</p>"
   ],
   "execution_count": null,
   "cell_type": "markdown"
  },
  {
   "metadata": {
    "pycharm": {
     "name": "#%% md\n"
    }
   },
   "outputs": [],
   "source": [
    "Import the <code>pandas</code> package using the alias <code>pd</code>."
   ],
   "execution_count": null,
   "cell_type": "markdown"
  },
  {
   "metadata": {
    "pycharm": {
     "name": "#%% md\n"
    }
   },
   "outputs": [],
   "source": [
    "Read <code>titanic.csv</code> into a DataFrame called <code>df</code>. The file name is already stored in the <code>file</code> object."
   ],
   "execution_count": null,
   "cell_type": "markdown"
  },
  {
   "metadata": {
    "pycharm": {
     "name": "#%% md\n"
    }
   },
   "outputs": [],
   "source": [
    "In a <code>print()</code> call, view the head of the DataFrame."
   ],
   "execution_count": null,
   "cell_type": "markdown"
  },
  {
   "cell_type": "code",
   "execution_count": 37,
   "outputs": [
    {
     "name": "stdout",
     "output_type": "stream",
     "text": [
      "   PassengerId  Survived  Pclass     Sex   Age  SibSp  Parch  \\\n",
      "0            1         0       3    male  22.0      1      0   \n",
      "1            2         1       1  female  38.0      1      0   \n",
      "2            3         1       3  female  26.0      0      0   \n",
      "3            4         1       1  female  35.0      1      0   \n",
      "4            5         0       3    male  35.0      0      0   \n",
      "\n",
      "             Ticket     Fare Cabin Embarked  \n",
      "0         A/5 21171   7.2500   NaN        S  \n",
      "1          PC 17599  71.2833   C85        C  \n",
      "2  STON/O2. 3101282   7.9250   NaN        S  \n",
      "3            113803  53.1000  C123        S  \n",
      "4            373450   8.0500   NaN        S  \n"
     ]
    }
   ],
   "source": [
    "# Import pandas as pd\n",
    "import pandas as pd\n",
    "\n",
    "# Assign the filename: file\n",
    "file = 'data/titanic_sub.csv'\n",
    "\n",
    "# Read the file into a DataFrame: df\n",
    "df = pd.read_csv(file)\n",
    "\n",
    "# View the head of the DataFrame\n",
    "print(df.head())\n"
   ],
   "metadata": {
    "collapsed": false,
    "pycharm": {
     "name": "#%%\n"
    }
   }
  },
  {
   "metadata": {
    "pycharm": {
     "name": "#%% md\n"
    }
   },
   "outputs": [],
   "source": [
    "## Using pandas to import flat files as DataFrames (2)\n",
    "\n",
    "<p>In the last exercise, you were able to import flat files\n",
    "into a <code>pandas</code> DataFrame. As a bonus, it is then straightforward\n",
    "to retrieve the corresponding\n",
    "<code>numpy</code> array using the attribute <code>values</code>. You'll now have a chance\n",
    "to do this using the MNIST dataset, which is available as <code>digits.csv</code>.</p>"
   ],
   "execution_count": null,
   "cell_type": "markdown"
  },
  {
   "metadata": {
    "pycharm": {
     "name": "#%% md\n"
    }
   },
   "outputs": [],
   "source": [
    "Import the first 5 rows of the file into a DataFrame using the function <code>pd.read_csv()</code> and assign the result to <code>data</code>. You'll need to use the arguments <code>nrows</code> and <code>header</code> (there is no header in this file)."
   ],
   "execution_count": null,
   "cell_type": "markdown"
  },
  {
   "metadata": {
    "pycharm": {
     "name": "#%% md\n"
    }
   },
   "outputs": [],
   "source": [
    "Build a <code>numpy</code> array from the resulting DataFrame in <code>data</code> and assign to <code>data_array</code>."
   ],
   "execution_count": null,
   "cell_type": "markdown"
  },
  {
   "metadata": {
    "pycharm": {
     "name": "#%% md\n"
    }
   },
   "outputs": [],
   "source": [
    "Execute <code>print(type(data_array))</code> to print the datatype of <code>data_array</code>."
   ],
   "execution_count": null,
   "cell_type": "markdown"
  },
  {
   "cell_type": "code",
   "execution_count": 38,
   "outputs": [
    {
     "name": "stdout",
     "output_type": "stream",
     "text": [
      "<class 'numpy.ndarray'>\n"
     ]
    }
   ],
   "source": [
    "# Assign the filename: file\n",
    "file = 'data/digits.csv'\n",
    "\n",
    "# Read the first 5 rows of the file into a DataFrame: data\n",
    "data = pd.read_csv(file,nrows = 5,header=None)\n",
    "\n",
    "# Build a numpy array from the DataFrame: data_array\n",
    "data_array = data.values\n",
    "\n",
    "# Print the datatype of data_array to the shell\n",
    "print(type(data_array))"
   ],
   "metadata": {
    "collapsed": false,
    "pycharm": {
     "name": "#%%\n"
    }
   }
  },
  {
   "metadata": {
    "pycharm": {
     "name": "#%% md\n"
    }
   },
   "outputs": [],
   "source": [
    "## Customizing your pandas import\n",
    "\n",
    "<p>The <code>pandas</code> package is also great at dealing with many of the issues you will\n",
    "encounter when importing data as a data scientist, such as comments\n",
    "occurring in flat files, empty lines and missing values. Note that missing values are also commonly referred to as <code>NA</code> or <code>NaN</code>. To wrap up this chapter, you're now going to import a slightly corrupted\n",
    "copy of the Titanic dataset <code>titanic_corrupt.txt</code>, which</p>\n",
    "<ul>\n",
    "<li>contains comments after the character <code>'#'</code></li>\n",
    "<li>is tab-delimited.</li>\n",
    "</ul>"
   ],
   "execution_count": null,
   "cell_type": "markdown"
  },
  {
   "metadata": {
    "pycharm": {
     "name": "#%% md\n"
    }
   },
   "outputs": [],
   "source": [
    "Complete the <code>sep</code> (the <code>pandas</code> version of <code>delim</code>), <code>comment</code> and <code>na_values</code> arguments of <code>pd.read_csv()</code>. <code>comment</code> takes characters that comments occur after in the file, which in this case is <code>'#'</code>. <code>na_values</code> takes a list of strings to recognize as <code>NA</code>/<code>NaN</code>, in this case the string <code>'Nothing'</code>."
   ],
   "execution_count": null,
   "cell_type": "markdown"
  },
  {
   "metadata": {
    "pycharm": {
     "name": "#%% md\n"
    }
   },
   "outputs": [],
   "source": [
    "Execute the rest of the code to print the head of the resulting DataFrame and plot the histogram of the <code>'Age'</code> of passengers aboard the Titanic."
   ],
   "execution_count": null,
   "cell_type": "markdown"
  },
  {
   "cell_type": "code",
   "execution_count": 40,
   "outputs": [
    {
     "name": "stdout",
     "output_type": "stream",
     "text": [
      "   PassengerId  Survived  Pclass     Sex   Age  SibSp  Parch  \\\n",
      "0            1         0       3    male  22.0      1      0   \n",
      "1            2         1       1  female  38.0      1      0   \n",
      "2            3         1       3  female  26.0      0      0   \n",
      "3            4         1       1  female  35.0      1      0   \n",
      "4            5         0       3    male  35.0      0      0   \n",
      "\n",
      "             Ticket    Fare Cabin Embarked  \n",
      "0         A/5 21171   7.250   NaN       S   \n",
      "1          PC 17599     NaN   NaN      NaN  \n",
      "2  STON/O2. 3101282   7.925   NaN        S  \n",
      "3            113803  53.100  C123        S  \n",
      "4            373450   8.050   NaN        S  \n"
     ]
    },
    {
     "data": {
      "text/plain": "<Figure size 432x288 with 1 Axes>",
      "image/png": "[encoded data removed]"
     },
     "metadata": {
      "needs_background": "light"
     },
     "output_type": "display_data"
    }
   ],
   "source": [
    "# Import matplotlib.pyplot as plt\n",
    "import matplotlib.pyplot as plt\n",
    "\n",
    "# Assign filename: file\n",
    "file = 'data/titanic_corrupt.txt'\n",
    "\n",
    "# Import file: data\n",
    "data = pd.read_csv(file, sep=\"\\t\", comment=\"#\", na_values=[\"Nothing\"])\n",
    "\n",
    "# Print the head of the DataFrame\n",
    "print(data.head())\n",
    "\n",
    "# Plot 'Age' variable in a histogram\n",
    "pd.DataFrame.hist(data[['Age']])\n",
    "plt.xlabel('Age (years)')\n",
    "plt.ylabel('count')\n",
    "plt.show()\n"
   ],
   "metadata": {
    "collapsed": false,
    "pycharm": {
     "name": "#%%\n"
    }
   }
  },
  {
   "metadata": {
    "pycharm": {
     "name": "#%% md\n"
    }
   },
   "outputs": [],
   "source": [
    "## Final thoughts on data import"
   ],
   "execution_count": null,
   "cell_type": "markdown"
  },
  {
   "metadata": {
    "pycharm": {
     "name": "#%% md\n"
    }
   },
   "outputs": [],
   "source": [
    "### 1. Final thoughts on data import\n",
    "\n",
    "We have seen a number of ways to read, print and import flat files. As a data scientist, you will most often wish to use pandas, however it was important to check out all the possible ways to import because you never know when they will be useful."
   ],
   "execution_count": null,
   "cell_type": "markdown"
  },
  {
   "metadata": {
    "pycharm": {
     "name": "#%% md\n"
    }
   },
   "outputs": [],
   "source": [
    "### 2. Next chapters:\n",
    "\n",
    "In the next chapter, we'll see just how useful pandas can be when attempting to import a variety of other file types, such as Excel spreadsheets, along with native SAS & Stata files. It is also important to remember that, due to the active development community in open source softwares, there is constant activity in file formats and ways to import data: for example, on March 29, 2016, Wes McKinney, the creator of pandas, and Hadley Wickham, of R development fame, announced a new and fast on-disk format for dataframes for R and Python, called feather . As dataframes are one the most important data structures for data scientists, let's definitely keep our eyes on feather. After learning to import many other file types in the next chapter, you'll learn how to interact with relational databases in Python."
   ],
   "execution_count": null,
   "cell_type": "markdown"
  },
  {
   "metadata": {
    "pycharm": {
     "name": "#%% md\n"
    }
   },
   "outputs": [],
   "source": [
    "### 3. Next course:\n",
    "\n",
    "Then, in the sequel to this course, you'll learn how to tear all types of data down from the web and how to interact with APIs to fulfil your big data fix. These are all essential techniques for the modern day Data Scientist to master, and the upcoming Chapters will place you in good stead to becoming"
   ],
   "execution_count": null,
   "cell_type": "markdown"
  },
  {
   "metadata": {
    "pycharm": {
     "name": "#%% md\n"
    }
   },
   "outputs": [],
   "source": [
    "### 4. Let's practice!\n",
    "\n",
    "an Importing Data ninja Pythonista."
   ],
   "execution_count": null,
   "cell_type": "markdown"
  },
  {
   "metadata": {
    "pycharm": {
     "name": "#%% md\n"
    }
   },
   "outputs": [],
   "source": [
    "# Importing data from other file types"
   ],
   "execution_count": null,
   "cell_type": "markdown"
  },
  {
   "metadata": {
    "pycharm": {
     "name": "#%% md\n"
    }
   },
   "outputs": [],
   "source": [
    "## Introduction to other file types"
   ],
   "execution_count": null,
   "cell_type": "markdown"
  },
  {
   "metadata": {
    "pycharm": {
     "name": "#%% md\n"
    }
   },
   "outputs": [],
   "source": [
    "### 1. Introduction to other file types\n",
    "\n",
    "Now that you have mastered the art of importing flat files in Python, it is time to check out a number of other file types that you will find yourself needing to work with as a data scientist."
   ],
   "execution_count": null,
   "cell_type": "markdown"
  },
  {
   "metadata": {
    "pycharm": {
     "name": "#%% md\n"
    }
   },
   "outputs": [],
   "source": [
    "### 2. Other file types\n",
    "\n",
    "In this chapter, you will learn how to import Excel spreadsheets, which professionals from all disciplines use to store their data. You will also gain familiarity with importing MATLAB, SAS and Stata files, which are commonplace. You will also learn how to import HDF5 files and you'll actually import an HDF5 file containing data from the Laser Interferometer Gravitational-Wave Observatory project that provided empirical support for Einstein's Theory of Gravitational Waves in 2016. HDF5 files are becoming a more prevalent way to store large datasets, as demonstrated by the fact that the LIGO researchers use it to store their data."
   ],
   "execution_count": null,
   "cell_type": "markdown"
  },
  {
   "metadata": {
    "pycharm": {
     "name": "#%% md\n"
    }
   },
   "outputs": [],
   "source": [
    "### 3. Pickled files\n",
    "\n",
    "Another file type you'll learn about in this Chapter is that of a 'pickled' file. This is a file type native to Python. The concept of pickling a file is motivated by the following: while it may be easy to save a numpy array or a pandas dataframe to a flat file, there are many other datatypes, such as dictionaries and lists, for which it isn't obvious how to store them. 'Pickle' to the rescue! If you want your files to be human readable, you may want to save them as text files in a clever manner (JSONs, which you will see in a later chapter, are appropriate for Python dictionaries). If, however, you merely want to be able to import them into Python, you can serialize them. All this means is converting the object into a sequence of bytes, or bytestream. As this is a course in Importing Data in Python,"
   ],
   "execution_count": null,
   "cell_type": "markdown"
  },
  {
   "metadata": {
    "pycharm": {
     "name": "#%% md\n"
    }
   },
   "outputs": [],
   "source": [
    "### 4. Pickled files\n",
    "\n",
    "you'll learn how to import files that have already been pickled. As you have done before, when opening such a file, you'll want to specify that it is read only; you'll also want to specify that it is a binary file, meaning that it is computer-readable and not human-readable. To specify both read only and binary, you'll want pass the string 'rb' as the second argument of open."
   ],
   "execution_count": null,
   "cell_type": "markdown"
  },
  {
   "cell_type": "code",
   "execution_count": 52,
   "outputs": [
    {
     "name": "stdout",
     "output_type": "stream",
     "text": [
      "{'peaches': 13, 'apples': 4, 'oranges': 11}\n"
     ]
    }
   ],
   "source": [
    "import pickle\n",
    "with open(\"data/data.pkl\",\"rb\") as f:\n",
    "    data = pickle.load(f)\n",
    "print(data)\n"
   ],
   "metadata": {
    "collapsed": false,
    "pycharm": {
     "name": "#%%\n"
    }
   }
  },
  {
   "metadata": {
    "pycharm": {
     "name": "#%% md\n"
    }
   },
   "outputs": [],
   "source": [
    "### 5. Importing Excel spreadsheets\n",
    "\n",
    "You'll then dive head-first into Excel spreadsheets, the use of which is so widespread that they need next to no introduction at all. An Excel file generally consists of a number of sheets. There are many ways to import Excel files and you'll use pandas to do so because it produces dataframes natively, which is great for your practice as a Data Scientist. As you can see in this example, you can use the functionExcelfile to assign an Excel file to a variable data. As an Excel file consists of sheets, the first thing to do is figure out what the sheets are. This is straightforward with the command 'data dot sheet_names'. To then load a particular sheet as a dataframe, you need only apply the method parse to the object data with a single argument, which is either the name as a string or the index as a float of the sheet that you wish to load: pandas is clever enough to know if you're telling it the sheet name or the index!"
   ],
   "execution_count": null,
   "cell_type": "markdown"
  },
  {
   "cell_type": "code",
   "execution_count": 53,
   "outputs": [
    {
     "name": "stdout",
     "output_type": "stream",
     "text": [
      "['2002', '2004']\n"
     ]
    }
   ],
   "source": [
    "data = pd.ExcelFile(\"data/battledeath.xlsx\")\n",
    "print(data.sheet_names)"
   ],
   "metadata": {
    "collapsed": false,
    "pycharm": {
     "name": "#%%\n"
    }
   }
  },
  {
   "cell_type": "code",
   "execution_count": 54,
   "outputs": [],
   "source": [
    "df1 = data.parse(\"2002\") # sheet name as string\n",
    "df2 = data.parse(0)     # sheet index as int"
   ],
   "metadata": {
    "collapsed": false,
    "pycharm": {
     "name": "#%%\n"
    }
   }
  },
  {
   "metadata": {
    "pycharm": {
     "name": "#%% md\n"
    }
   },
   "outputs": [],
   "source": [
    "### 6. You’ll learn:\n",
    "\n",
    "You'll also learn how to customize your spreadsheet import in order to skip rows, import only certain columns and to change the column names. That's enough from me,"
   ],
   "execution_count": null,
   "cell_type": "markdown"
  },
  {
   "metadata": {
    "pycharm": {
     "name": "#%% md\n"
    }
   },
   "outputs": [],
   "source": [
    "### 7. Let's practice!\n",
    "\n",
    "it's now time to get your hands dirty with pickled files and Excel spreadsheets. Enjoy!"
   ],
   "execution_count": null,
   "cell_type": "markdown"
  },
  {
   "metadata": {
    "pycharm": {
     "name": "#%% md\n"
    }
   },
   "outputs": [],
   "source": [
    "## Loading a pickled file\n",
    "\n",
    "<p>There are a number of datatypes that cannot be saved easily\n",
    "to flat files, such as lists and dictionaries. If you want your\n",
    "files to be human readable, you may want to save them as text files\n",
    "in a clever manner. JSONs, which you will see in a later chapter, are\n",
    "appropriate for Python dictionaries.</p>\n",
    "<p>However, if you merely want to\n",
    "be able to import them into Python, you can <a href=\"https://en.wikipedia.org/wiki/Serialization\" target=\"_blank\" rel=\"noopener noreferrer\">serialize</a>\n",
    "them. All this means is converting the object into a sequence of bytes,\n",
    "or a bytestream.</p>\n",
    "<p>In this exercise, you'll import the <code>pickle</code> package, open a previously\n",
    "pickled data structure from a file and load it.</p>"
   ],
   "execution_count": null,
   "cell_type": "markdown"
  },
  {
   "metadata": {
    "pycharm": {
     "name": "#%% md\n"
    }
   },
   "outputs": [],
   "source": [
    "Import the <code>pickle</code> package."
   ],
   "execution_count": null,
   "cell_type": "markdown"
  },
  {
   "metadata": {
    "pycharm": {
     "name": "#%% md\n"
    }
   },
   "outputs": [],
   "source": [
    "Complete the second argument of <code>open()</code> so that it is read only\n",
    "for a binary file. This argument will be a string of two letters,\n",
    "one signifying 'read only', the other 'binary'."
   ],
   "execution_count": null,
   "cell_type": "markdown"
  },
  {
   "metadata": {
    "pycharm": {
     "name": "#%% md\n"
    }
   },
   "outputs": [],
   "source": [
    "Pass the correct argument to <code>pickle.load()</code>; it should use the variable\n",
    "that is bound to <code>open</code>."
   ],
   "execution_count": null,
   "cell_type": "markdown"
  },
  {
   "metadata": {
    "pycharm": {
     "name": "#%% md\n"
    }
   },
   "outputs": [],
   "source": [
    "Print the data, <code>d</code>."
   ],
   "execution_count": null,
   "cell_type": "markdown"
  },
  {
   "metadata": {
    "pycharm": {
     "name": "#%% md\n"
    }
   },
   "outputs": [],
   "source": [
    "Print the datatype of <code>d</code>; take your mind back to your previous use of the function <code>type()</code>."
   ],
   "execution_count": null,
   "cell_type": "markdown"
  },
  {
   "cell_type": "code",
   "execution_count": 55,
   "outputs": [
    {
     "name": "stdout",
     "output_type": "stream",
     "text": [
      "{'peaches': 13, 'apples': 4, 'oranges': 11}\n",
      "<class 'dict'>\n"
     ]
    }
   ],
   "source": [
    "\n",
    "# Open pickle file and load data: d\n",
    "with open('data/data.pkl', \"rb\") as file:\n",
    "    d = pickle.load(file)\n",
    "\n",
    "# Print d\n",
    "print(d)\n",
    "\n",
    "# Print datatype of d\n",
    "print(type(d))"
   ],
   "metadata": {
    "collapsed": false,
    "pycharm": {
     "name": "#%%\n"
    }
   }
  },
  {
   "metadata": {
    "pycharm": {
     "name": "#%% md\n"
    }
   },
   "outputs": [],
   "source": [
    "## Listing sheets in Excel files\n",
    "\n",
    "<p>Whether you like it or not, any working data scientist will need\n",
    "to deal with Excel spreadsheets at some point in time. You won't\n",
    "always want to do so in Excel, however!</p>\n",
    "<p>Here, you'll learn how to use <code>pandas</code> to import Excel spreadsheets\n",
    "and how to list the names of the sheets in any loaded .xlsx file.</p>\n",
    "<p>Recall from the video that, given an Excel file imported into a variable\n",
    "<code>spreadsheet</code>, you can retrieve a list of the sheet names using the attribute\n",
    "<code>spreadsheet.sheet_names</code>.</p>\n",
    "<p>Specifically, you'll be loading and checking out the spreadsheet\n",
    "<code>'battledeath.xlsx'</code>, modified from the Peace Research Institute Oslo's (PRIO)\n",
    "<a href=\"https://www.prio.org/Data/Armed-Conflict/Battle-Deaths/The-Battle-Deaths-Dataset-version-30/\" target=\"_blank\" rel=\"noopener noreferrer\">dataset</a>.\n",
    "This data contains age-adjusted mortality rates due to war in various countries over several years.</p>"
   ],
   "execution_count": null,
   "cell_type": "markdown"
  },
  {
   "metadata": {
    "pycharm": {
     "name": "#%% md\n"
    }
   },
   "outputs": [],
   "source": [
    "Assign the spreadsheet filename (provided above) to the variable <code>file</code>."
   ],
   "execution_count": null,
   "cell_type": "markdown"
  },
  {
   "metadata": {
    "pycharm": {
     "name": "#%% md\n"
    }
   },
   "outputs": [],
   "source": [
    "Pass the correct argument to <code>pd.ExcelFile()</code> to load the file using pandas, assigning the result to the variable <code>xls</code>."
   ],
   "execution_count": null,
   "cell_type": "markdown"
  },
  {
   "metadata": {
    "pycharm": {
     "name": "#%% md\n"
    }
   },
   "outputs": [],
   "source": [
    "Print the sheetnames of the Excel spreadsheet by passing the necessary argument to the <code>print()</code> function."
   ],
   "execution_count": null,
   "cell_type": "markdown"
  },
  {
   "cell_type": "code",
   "execution_count": 57,
   "outputs": [
    {
     "name": "stdout",
     "output_type": "stream",
     "text": [
      "['2002', '2004']\n"
     ]
    }
   ],
   "source": [
    "xls = pd.ExcelFile(\"data/battledeath.xlsx\")\n",
    "print(xls.sheet_names)"
   ],
   "metadata": {
    "collapsed": false,
    "pycharm": {
     "name": "#%%\n"
    }
   }
  },
  {
   "metadata": {
    "pycharm": {
     "name": "#%% md\n"
    }
   },
   "outputs": [],
   "source": [
    "## Importing sheets from Excel files\n",
    "\n",
    "<p>In the previous exercises, you saw that the Excel file contains two sheets, <code>'2002'</code> and <code>'2004'</code>.\n",
    "The next step is to import these.</p>\n",
    "<p>In this exercise, you'll learn how to import any given\n",
    "sheet of your loaded .xlsx file as a DataFrame. You'll\n",
    "be able to do so by specifying either the sheet's name or its\n",
    "index.</p>\n",
    "<p>The spreadsheet <code>'battledeath.xlsx'</code> is already loaded as\n",
    "<code>xls</code>.</p>"
   ],
   "execution_count": null,
   "cell_type": "markdown"
  },
  {
   "metadata": {
    "pycharm": {
     "name": "#%% md\n"
    }
   },
   "outputs": [],
   "source": [
    "Load the sheet <code>'2004'</code> into the DataFrame <code>df1</code> using its name as a string."
   ],
   "execution_count": null,
   "cell_type": "markdown"
  },
  {
   "metadata": {
    "pycharm": {
     "name": "#%% md\n"
    }
   },
   "outputs": [],
   "source": [
    "Print the head of <code>df1</code> to the shell."
   ],
   "execution_count": null,
   "cell_type": "markdown"
  },
  {
   "metadata": {
    "pycharm": {
     "name": "#%% md\n"
    }
   },
   "outputs": [],
   "source": [
    "Load the sheet <code>2002</code> into the DataFrame <code>df2</code> using its index (<code>0</code>)."
   ],
   "execution_count": null,
   "cell_type": "markdown"
  },
  {
   "metadata": {
    "pycharm": {
     "name": "#%% md\n"
    }
   },
   "outputs": [],
   "source": [
    "Print the head of <code>df2</code> to the shell."
   ],
   "execution_count": null,
   "cell_type": "markdown"
  },
  {
   "cell_type": "code",
   "execution_count": 58,
   "outputs": [
    {
     "name": "stdout",
     "output_type": "stream",
     "text": [
      "  War(country)      2004\n",
      "0  Afghanistan  9.451028\n",
      "1      Albania  0.130354\n",
      "2      Algeria  3.407277\n",
      "3      Andorra  0.000000\n",
      "4       Angola  2.597931\n",
      "  War, age-adjusted mortality due to       2002\n",
      "0                        Afghanistan  36.083990\n",
      "1                            Albania   0.128908\n",
      "2                            Algeria  18.314120\n",
      "3                            Andorra   0.000000\n",
      "4                             Angola  18.964560\n"
     ]
    }
   ],
   "source": [
    "# Load a sheet into a DataFrame by name: df1\n",
    "df1 = xls.parse(\"2004\")\n",
    "\n",
    "# Print the head of the DataFrame df1\n",
    "print(df1.head())\n",
    "\n",
    "# Load a sheet into a DataFrame by index: df2\n",
    "df2 = xls.parse(0)\n",
    "\n",
    "# Print the head of the DataFrame df2\n",
    "print(df2.head())"
   ],
   "metadata": {
    "collapsed": false,
    "pycharm": {
     "name": "#%%\n"
    }
   }
  },
  {
   "metadata": {
    "pycharm": {
     "name": "#%% md\n"
    }
   },
   "outputs": [],
   "source": [
    "## Customizing your spreadsheet import\n",
    "\n",
    "<p>Here, you'll parse your spreadsheets and use additional\n",
    "arguments to skip rows, rename columns and select only\n",
    "particular columns.</p>\n",
    "<p>The spreadsheet <code>'battledeath.xlsx'</code> is already loaded as\n",
    "<code>xls</code>.</p>\n",
    "<p>As before, you'll use the method <code>parse()</code>. This time, however,\n",
    "you'll add the additional arguments <code>skiprows</code>, <code>names</code> and\n",
    "<code>usecols</code>. These skip rows, name the columns and designate\n",
    "which columns to parse, respectively. All these arguments can\n",
    "be assigned to lists containing the specific row numbers, strings\n",
    "and column numbers, as appropriate.</p>"
   ],
   "execution_count": null,
   "cell_type": "markdown"
  },
  {
   "metadata": {
    "pycharm": {
     "name": "#%% md\n"
    }
   },
   "outputs": [],
   "source": [
    "Parse the first sheet by index. In doing so, skip the first row of data and name the columns <code>'Country'</code> and <code>'AAM due to War (2002)'</code> using the argument <code>names</code>. The values passed to <code>skiprows</code> and <code>names</code> all need to be of type <code>list</code>."
   ],
   "execution_count": null,
   "cell_type": "markdown"
  },
  {
   "cell_type": "code",
   "execution_count": 59,
   "outputs": [
    {
     "name": "stdout",
     "output_type": "stream",
     "text": [
      "               Country  AAM due to War (2002)\n",
      "0              Albania               0.128908\n",
      "1              Algeria              18.314120\n",
      "2              Andorra               0.000000\n",
      "3               Angola              18.964560\n",
      "4  Antigua and Barbuda               0.000000\n"
     ]
    }
   ],
   "source": [
    "# Parse the first sheet and rename the columns: df1\n",
    "df1 = xls.parse(0, skiprows=1, names=[\"Country\",\"AAM due to War (2002)\"])\n",
    "\n",
    "# Print the head of the DataFrame df1\n",
    "print(df1.head())"
   ],
   "metadata": {
    "collapsed": false,
    "pycharm": {
     "name": "#%%\n"
    }
   }
  },
  {
   "cell_type": "markdown",
   "source": [
    "Parse the second sheet by index. In doing so, parse only the first column with the <code>usecols</code> parameter, skip the first row and rename the column <code>'Country'</code>. The argument passed to <code>usecols</code> also needs to be of type <code>list</code>."
   ],
   "metadata": {
    "collapsed": false,
    "pycharm": {
     "name": "#%% md\n"
    }
   }
  },
  {
   "cell_type": "code",
   "execution_count": 60,
   "outputs": [
    {
     "name": "stdout",
     "output_type": "stream",
     "text": [
      "               Country\n",
      "0              Albania\n",
      "1              Algeria\n",
      "2              Andorra\n",
      "3               Angola\n",
      "4  Antigua and Barbuda\n"
     ]
    }
   ],
   "source": [
    "\n",
    "# Parse the first column of the second sheet and rename the column: df2\n",
    "df2 = xls.parse(1, usecols=[0], skiprows=1, names=[\"Country\"])\n",
    "\n",
    "# Print the head of the DataFrame df2\n",
    "print(df2.head())\n"
   ],
   "metadata": {
    "collapsed": false,
    "pycharm": {
     "name": "#%%\n"
    }
   }
  },
  {
   "metadata": {
    "pycharm": {
     "name": "#%% md\n"
    }
   },
   "outputs": [],
   "source": [
    "## Importing SAS/Stata files using pandas"
   ],
   "execution_count": null,
   "cell_type": "markdown"
  },
  {
   "metadata": {
    "pycharm": {
     "name": "#%% md\n"
    }
   },
   "outputs": [],
   "source": [
    "### 1. Importing SAS/Stata files using pandas\n",
    "\n",
    "There are many statistical software packages out there and, although you may not need to do so all the time, it will be important for you, as a working Data Scientist, to be able to import these files into your Python environment."
   ],
   "execution_count": null,
   "cell_type": "markdown"
  },
  {
   "metadata": {
    "pycharm": {
     "name": "#%% md\n"
    }
   },
   "outputs": [],
   "source": [
    "### 2. SAS and Stata files\n",
    "\n",
    "The most common examples are SAS, which is an acronym for 'Statistical Analysis System', and Stata, which is a contraction of 'Statistics' and 'Data'. The former is used a great deal in business analytics and biostatistics, while the latter is popular in academic social sciences research, such as economics and epidemiology."
   ],
   "execution_count": null,
   "cell_type": "markdown"
  },
  {
   "metadata": {
    "pycharm": {
     "name": "#%% md\n"
    }
   },
   "outputs": [],
   "source": [
    "### 3. SAS files\n",
    "\n",
    "SAS files are important because SAS is a software suite that performs advanced analytics, multivariate analyses, business intelligence, data management, predictive analytics and is a standard for statisticians to do computational analysis."
   ],
   "execution_count": null,
   "cell_type": "markdown"
  },
  {
   "metadata": {
    "pycharm": {
     "name": "#%% md\n"
    }
   },
   "outputs": [],
   "source": [
    "### 4. Importing SAS files\n",
    "\n",
    "The most common SAS files have the extension dot sas7bdat and dot sas7bcat, which are dataset files and catalog files respectively. You'll learn how to import the former as dataframes using the function SAS7BDAT (upper case) from the package sas7bdat (lower case). In this case, you can bind the variable file to a connection to the file 'urbanpop dot sas7bdat' in a context manager. Within this context, you can assign to a variable df_sas the result of applying method to_data_frame to file."
   ],
   "execution_count": null,
   "cell_type": "markdown"
  },
  {
   "cell_type": "code",
   "execution_count": 61,
   "outputs": [
    {
     "name": "stdout",
     "output_type": "stream",
     "text": [
      "     YEAR     P           S\n",
      "0  1950.0  12.9  181.899994\n",
      "1  1951.0  11.9  245.000000\n",
      "2  1952.0  10.7  250.199997\n",
      "3  1953.0  11.3  265.899994\n",
      "4  1954.0  11.2  248.500000\n"
     ]
    }
   ],
   "source": [
    "from sas7bdat import SAS7BDAT\n",
    "with SAS7BDAT(\"data/sales.sas7bdat\") as file:\n",
    "    df_sas = file.to_data_frame()\n",
    "\n",
    "print(df_sas.head())"
   ],
   "metadata": {
    "collapsed": false,
    "pycharm": {
     "name": "#%%\n"
    }
   }
  },
  {
   "metadata": {
    "pycharm": {
     "name": "#%% md\n"
    }
   },
   "outputs": [],
   "source": [
    "### 5. Importing Stata files\n",
    "\n",
    "Stata files have extension dot dta and we can import them using pandas. We don't even need to initialize a context manager in this case! We merely pass the filename to the function read_stata and assign it to a variable, just like this. In the following exercises, you'll gain invaluable experience at importing these important file formats in Python as pandas dataframes and then seeing what was inside them."
   ],
   "execution_count": null,
   "cell_type": "markdown"
  },
  {
   "cell_type": "code",
   "execution_count": 62,
   "outputs": [
    {
     "data": {
      "text/plain": "  wbcode               country  disa1  disa2  disa3  disa4  disa5  disa6  \\\n0    AFG           Afghanistan   0.00   0.00   0.76   0.73    0.0   0.00   \n1    AGO                Angola   0.32   0.02   0.56   0.00    0.0   0.00   \n2    ALB               Albania   0.00   0.00   0.02   0.00    0.0   0.00   \n3    ARE  United Arab Emirates   0.00   0.00   0.00   0.00    0.0   0.00   \n4    ARG             Argentina   0.00   0.24   0.24   0.00    0.0   0.23   \n\n   disa7  disa8  ...  disa16  disa17  disa18  disa19  disa20  disa21  disa22  \\\n0   0.00    0.0  ...     0.0     0.0     0.0    0.00    0.00     0.0    0.00   \n1   0.56    0.0  ...     0.0     0.4     0.0    0.61    0.00     0.0    0.99   \n2   0.00    0.0  ...     0.0     0.0     0.0    0.00    0.00     0.0    0.00   \n3   0.00    0.0  ...     0.0     0.0     0.0    0.00    0.00     0.0    0.00   \n4   0.00    0.0  ...     0.0     0.0     0.0    0.00    0.05     0.0    0.00   \n\n   disa23  disa24  disa25  \n0    0.02    0.00    0.00  \n1    0.98    0.61    0.00  \n2    0.00    0.00    0.16  \n3    0.00    0.00    0.00  \n4    0.01    0.00    0.11  \n\n[5 rows x 27 columns]",
      "text/html": "<div>\n<style scoped>\n    .dataframe tbody tr th:only-of-type {\n        vertical-align: middle;\n    }\n\n    .dataframe tbody tr th {\n        vertical-align: top;\n    }\n\n    .dataframe thead th {\n        text-align: right;\n    }\n</style>\n<table border=\"1\" class=\"dataframe\">\n  <thead>\n    <tr style=\"text-align: right;\">\n      <th></th>\n      <th>wbcode</th>\n      <th>country</th>\n      <th>disa1</th>\n      <th>disa2</th>\n      <th>disa3</th>\n      <th>disa4</th>\n      <th>disa5</th>\n      <th>disa6</th>\n      <th>disa7</th>\n      <th>disa8</th>\n      <th>...</th>\n      <th>disa16</th>\n      <th>disa17</th>\n      <th>disa18</th>\n      <th>disa19</th>\n      <th>disa20</th>\n      <th>disa21</th>\n      <th>disa22</th>\n      <th>disa23</th>\n      <th>disa24</th>\n      <th>disa25</th>\n    </tr>\n  </thead>\n  <tbody>\n    <tr>\n      <th>0</th>\n      <td>AFG</td>\n      <td>Afghanistan</td>\n      <td>0.00</td>\n      <td>0.00</td>\n      <td>0.76</td>\n      <td>0.73</td>\n      <td>0.0</td>\n      <td>0.00</td>\n      <td>0.00</td>\n      <td>0.0</td>\n      <td>...</td>\n      <td>0.0</td>\n      <td>0.0</td>\n      <td>0.0</td>\n      <td>0.00</td>\n      <td>0.00</td>\n      <td>0.0</td>\n      <td>0.00</td>\n      <td>0.02</td>\n      <td>0.00</td>\n      <td>0.00</td>\n    </tr>\n    <tr>\n      <th>1</th>\n      <td>AGO</td>\n      <td>Angola</td>\n      <td>0.32</td>\n      <td>0.02</td>\n      <td>0.56</td>\n      <td>0.00</td>\n      <td>0.0</td>\n      <td>0.00</td>\n      <td>0.56</td>\n      <td>0.0</td>\n      <td>...</td>\n      <td>0.0</td>\n      <td>0.4</td>\n      <td>0.0</td>\n      <td>0.61</td>\n      <td>0.00</td>\n      <td>0.0</td>\n      <td>0.99</td>\n      <td>0.98</td>\n      <td>0.61</td>\n      <td>0.00</td>\n    </tr>\n    <tr>\n      <th>2</th>\n      <td>ALB</td>\n      <td>Albania</td>\n      <td>0.00</td>\n      <td>0.00</td>\n      <td>0.02</td>\n      <td>0.00</td>\n      <td>0.0</td>\n      <td>0.00</td>\n      <td>0.00</td>\n      <td>0.0</td>\n      <td>...</td>\n      <td>0.0</td>\n      <td>0.0</td>\n      <td>0.0</td>\n      <td>0.00</td>\n      <td>0.00</td>\n      <td>0.0</td>\n      <td>0.00</td>\n      <td>0.00</td>\n      <td>0.00</td>\n      <td>0.16</td>\n    </tr>\n    <tr>\n      <th>3</th>\n      <td>ARE</td>\n      <td>United Arab Emirates</td>\n      <td>0.00</td>\n      <td>0.00</td>\n      <td>0.00</td>\n      <td>0.00</td>\n      <td>0.0</td>\n      <td>0.00</td>\n      <td>0.00</td>\n      <td>0.0</td>\n      <td>...</td>\n      <td>0.0</td>\n      <td>0.0</td>\n      <td>0.0</td>\n      <td>0.00</td>\n      <td>0.00</td>\n      <td>0.0</td>\n      <td>0.00</td>\n      <td>0.00</td>\n      <td>0.00</td>\n      <td>0.00</td>\n    </tr>\n    <tr>\n      <th>4</th>\n      <td>ARG</td>\n      <td>Argentina</td>\n      <td>0.00</td>\n      <td>0.24</td>\n      <td>0.24</td>\n      <td>0.00</td>\n      <td>0.0</td>\n      <td>0.23</td>\n      <td>0.00</td>\n      <td>0.0</td>\n      <td>...</td>\n      <td>0.0</td>\n      <td>0.0</td>\n      <td>0.0</td>\n      <td>0.00</td>\n      <td>0.05</td>\n      <td>0.0</td>\n      <td>0.00</td>\n      <td>0.01</td>\n      <td>0.00</td>\n      <td>0.11</td>\n    </tr>\n  </tbody>\n</table>\n<p>5 rows × 27 columns</p>\n</div>"
     },
     "execution_count": 62,
     "metadata": {},
     "output_type": "execute_result"
    }
   ],
   "source": [
    "df_stat = pd.read_stata(\"data/disarea.dta\")\n",
    "df_stat.head()"
   ],
   "metadata": {
    "collapsed": false,
    "pycharm": {
     "name": "#%%\n"
    }
   }
  },
  {
   "metadata": {
    "pycharm": {
     "name": "#%% md\n"
    }
   },
   "outputs": [],
   "source": [
    "### 6. Let's practice!\n",
    "\n",
    "Now it's your turn, happy importing!"
   ],
   "execution_count": null,
   "cell_type": "markdown"
  },
  {
   "metadata": {
    "pycharm": {
     "name": "#%% md\n"
    }
   },
   "outputs": [],
   "source": [
    "## Importing SAS files\n",
    "\n",
    "<p>In this exercise, you'll figure out how to\n",
    "import a SAS file as a DataFrame using <code>SAS7BDAT</code> and\n",
    "<code>pandas</code>. The file <code>'sales.sas7bdat'</code> is already\n",
    "in your working directory and both <code>pandas</code> and <code>matplotlib.pyplot</code> have\n",
    "already been imported as follows:</p>\n",
    "<pre><code>import pandas as pd\n",
    "import matplotlib.pyplot as plt\n",
    "</code></pre>\n",
    "<p>The data are adapted from the website of the undergraduate text book\n",
    "<a href=\"http://www.principlesofeconometrics.com/\" target=\"_blank\" rel=\"noopener noreferrer\">Principles of Econometrics</a>\n",
    "by Hill, Griffiths and Lim.</p>"
   ],
   "execution_count": null,
   "cell_type": "markdown"
  },
  {
   "metadata": {
    "pycharm": {
     "name": "#%% md\n"
    }
   },
   "outputs": [],
   "source": [
    "Import the module <code>SAS7BDAT</code> from the library <code>sas7bdat</code>."
   ],
   "execution_count": null,
   "cell_type": "markdown"
  },
  {
   "cell_type": "code",
   "execution_count": null,
   "outputs": [],
   "source": [
    "# Import sas7bdat package\n",
    "from sas7bdat import SAS7BDAT"
   ],
   "metadata": {
    "collapsed": false,
    "pycharm": {
     "name": "#%%\n"
    }
   }
  },
  {
   "cell_type": "markdown",
   "source": [
    "In the context of the file <code>'sales.sas7bdat'</code>, load its contents to a DataFrame <code>df_sas</code>, using the method <code>to_data_frame()</code> on the object <code>file</code>."
   ],
   "metadata": {
    "collapsed": false,
    "pycharm": {
     "name": "#%% md\n"
    }
   }
  },
  {
   "cell_type": "code",
   "execution_count": 65,
   "outputs": [
    {
     "ename": "FileNotFoundError",
     "evalue": "[Errno 2] No such file or directory: 'sales.sas7bdat'",
     "output_type": "error",
     "traceback": [
      "\u001B[1;31m---------------------------------------------------------------------------\u001B[0m",
      "\u001B[1;31mFileNotFoundError\u001B[0m                         Traceback (most recent call last)",
      "Input \u001B[1;32mIn [65]\u001B[0m, in \u001B[0;36m<cell line: 2>\u001B[1;34m()\u001B[0m\n\u001B[0;32m      1\u001B[0m \u001B[38;5;66;03m# Save file to a DataFrame: df_sas\u001B[39;00m\n\u001B[1;32m----> 2\u001B[0m \u001B[38;5;28;01mwith\u001B[39;00m \u001B[43mSAS7BDAT\u001B[49m\u001B[43m(\u001B[49m\u001B[38;5;124;43m'\u001B[39;49m\u001B[38;5;124;43msales.sas7bdat\u001B[39;49m\u001B[38;5;124;43m'\u001B[39;49m\u001B[43m)\u001B[49m \u001B[38;5;28;01mas\u001B[39;00m file:\n\u001B[0;32m      3\u001B[0m     df_sas \u001B[38;5;241m=\u001B[39m file\u001B[38;5;241m.\u001B[39mto_data_frame()\n",
      "File \u001B[1;32m~\\anaconda3\\lib\\site-packages\\sas7bdat.py:349\u001B[0m, in \u001B[0;36mSAS7BDAT.__init__\u001B[1;34m(self, path, log_level, extra_time_format_strings, extra_date_time_format_strings, extra_date_format_strings, skip_header, encoding, encoding_errors, align_correction, fh, strip_whitespace_from_strings)\u001B[0m\n\u001B[0;32m    347\u001B[0m \u001B[38;5;28mself\u001B[39m\u001B[38;5;241m.\u001B[39mencoding_errors \u001B[38;5;241m=\u001B[39m encoding_errors\n\u001B[0;32m    348\u001B[0m \u001B[38;5;28mself\u001B[39m\u001B[38;5;241m.\u001B[39malign_correction \u001B[38;5;241m=\u001B[39m align_correction\n\u001B[1;32m--> 349\u001B[0m \u001B[38;5;28mself\u001B[39m\u001B[38;5;241m.\u001B[39m_file \u001B[38;5;241m=\u001B[39m fh \u001B[38;5;129;01mor\u001B[39;00m \u001B[38;5;28;43mopen\u001B[39;49m\u001B[43m(\u001B[49m\u001B[38;5;28;43mself\u001B[39;49m\u001B[38;5;241;43m.\u001B[39;49m\u001B[43mpath\u001B[49m\u001B[43m,\u001B[49m\u001B[43m \u001B[49m\u001B[38;5;124;43m'\u001B[39;49m\u001B[38;5;124;43mrb\u001B[39;49m\u001B[38;5;124;43m'\u001B[39;49m\u001B[43m)\u001B[49m\n\u001B[0;32m    350\u001B[0m \u001B[38;5;28mself\u001B[39m\u001B[38;5;241m.\u001B[39m_open_files\u001B[38;5;241m.\u001B[39mappend(\u001B[38;5;28mself\u001B[39m\u001B[38;5;241m.\u001B[39m_file)\n\u001B[0;32m    351\u001B[0m \u001B[38;5;28mself\u001B[39m\u001B[38;5;241m.\u001B[39mcached_page \u001B[38;5;241m=\u001B[39m \u001B[38;5;28;01mNone\u001B[39;00m\n",
      "File \u001B[1;32m~\\anaconda3\\lib\\codecs.py:905\u001B[0m, in \u001B[0;36mopen\u001B[1;34m(filename, mode, encoding, errors, buffering)\u001B[0m\n\u001B[0;32m    901\u001B[0m \u001B[38;5;28;01mif\u001B[39;00m encoding \u001B[38;5;129;01mis\u001B[39;00m \u001B[38;5;129;01mnot\u001B[39;00m \u001B[38;5;28;01mNone\u001B[39;00m \u001B[38;5;129;01mand\u001B[39;00m \\\n\u001B[0;32m    902\u001B[0m    \u001B[38;5;124m'\u001B[39m\u001B[38;5;124mb\u001B[39m\u001B[38;5;124m'\u001B[39m \u001B[38;5;129;01mnot\u001B[39;00m \u001B[38;5;129;01min\u001B[39;00m mode:\n\u001B[0;32m    903\u001B[0m     \u001B[38;5;66;03m# Force opening of the file in binary mode\u001B[39;00m\n\u001B[0;32m    904\u001B[0m     mode \u001B[38;5;241m=\u001B[39m mode \u001B[38;5;241m+\u001B[39m \u001B[38;5;124m'\u001B[39m\u001B[38;5;124mb\u001B[39m\u001B[38;5;124m'\u001B[39m\n\u001B[1;32m--> 905\u001B[0m file \u001B[38;5;241m=\u001B[39m \u001B[43mbuiltins\u001B[49m\u001B[38;5;241;43m.\u001B[39;49m\u001B[43mopen\u001B[49m\u001B[43m(\u001B[49m\u001B[43mfilename\u001B[49m\u001B[43m,\u001B[49m\u001B[43m \u001B[49m\u001B[43mmode\u001B[49m\u001B[43m,\u001B[49m\u001B[43m \u001B[49m\u001B[43mbuffering\u001B[49m\u001B[43m)\u001B[49m\n\u001B[0;32m    906\u001B[0m \u001B[38;5;28;01mif\u001B[39;00m encoding \u001B[38;5;129;01mis\u001B[39;00m \u001B[38;5;28;01mNone\u001B[39;00m:\n\u001B[0;32m    907\u001B[0m     \u001B[38;5;28;01mreturn\u001B[39;00m file\n",
      "\u001B[1;31mFileNotFoundError\u001B[0m: [Errno 2] No such file or directory: 'sales.sas7bdat'"
     ]
    }
   ],
   "source": [
    "\n",
    "# Save file to a DataFrame: df_sas\n",
    "with SAS7BDAT('sales.sas7bdat') as file:\n",
    "    df_sas = file.to_data_frame()"
   ],
   "metadata": {
    "collapsed": false,
    "pycharm": {
     "name": "#%%\n"
    }
   }
  },
  {
   "cell_type": "markdown",
   "source": [
    "Print the head of the DataFrame <code>df_sas</code>."
   ],
   "metadata": {
    "collapsed": false,
    "pycharm": {
     "name": "#%% md\n"
    }
   }
  },
  {
   "cell_type": "code",
   "execution_count": 66,
   "outputs": [
    {
     "name": "stdout",
     "output_type": "stream",
     "text": [
      "     YEAR     P           S\n",
      "0  1950.0  12.9  181.899994\n",
      "1  1951.0  11.9  245.000000\n",
      "2  1952.0  10.7  250.199997\n",
      "3  1953.0  11.3  265.899994\n",
      "4  1954.0  11.2  248.500000\n"
     ]
    }
   ],
   "source": [
    "\n",
    "# Print head of DataFrame\n",
    "print(df_sas.head())"
   ],
   "metadata": {
    "collapsed": false,
    "pycharm": {
     "name": "#%%\n"
    }
   }
  },
  {
   "cell_type": "code",
   "execution_count": 68,
   "outputs": [
    {
     "data": {
      "text/plain": "<Figure size 432x288 with 1 Axes>",
      "image/png": "[encoded data removed]"
     },
     "metadata": {
      "needs_background": "light"
     },
     "output_type": "display_data"
    }
   ],
   "source": [
    "\n",
    "# Plot histogram of DataFrame features (pandas and pyplot already imported)\n",
    "pd.DataFrame.hist(df_sas[['P']])\n",
    "plt.ylabel('count')\n",
    "plt.show()\n",
    "\n"
   ],
   "metadata": {
    "collapsed": false,
    "pycharm": {
     "name": "#%%\n"
    }
   }
  },
  {
   "metadata": {
    "pycharm": {
     "name": "#%% md\n"
    }
   },
   "outputs": [],
   "source": [
    "Execute your entire script to produce a histogram plot!"
   ],
   "execution_count": null,
   "cell_type": "markdown"
  },
  {
   "metadata": {
    "pycharm": {
     "name": "#%% md\n"
    }
   },
   "outputs": [],
   "source": [
    "## Importing Stata files\n",
    "\n",
    "<p>Here, you'll gain expertise in\n",
    "importing Stata files as DataFrames using the\n",
    "<code>pd.read_stata()</code> function from <code>pandas</code>.\n",
    "The last exercise's file, <code>'disarea.dta'</code>, is still\n",
    "in your working directory.</p>"
   ],
   "execution_count": null,
   "cell_type": "markdown"
  },
  {
   "metadata": {
    "pycharm": {
     "name": "#%% md\n"
    }
   },
   "outputs": [],
   "source": [
    "Use <code>pd.read_stata()</code> to load the file <code>'disarea.dta'</code> into the DataFrame <code>df</code>."
   ],
   "execution_count": null,
   "cell_type": "markdown"
  },
  {
   "cell_type": "code",
   "execution_count": 74,
   "outputs": [],
   "source": [
    "# Load Stata file into a pandas DataFrame: df\n",
    "df = pd.read_stata(\"data\\disarea.dta\")"
   ],
   "metadata": {
    "collapsed": false,
    "pycharm": {
     "name": "#%%\n"
    }
   }
  },
  {
   "cell_type": "markdown",
   "source": [
    "Print the head of the DataFrame <code>df</code>."
   ],
   "metadata": {
    "collapsed": false,
    "pycharm": {
     "name": "#%% md\n"
    }
   }
  },
  {
   "cell_type": "code",
   "execution_count": 75,
   "outputs": [
    {
     "name": "stdout",
     "output_type": "stream",
     "text": [
      "  wbcode               country  disa1  disa2  disa3  disa4  disa5  disa6  \\\n",
      "0    AFG           Afghanistan   0.00   0.00   0.76   0.73    0.0   0.00   \n",
      "1    AGO                Angola   0.32   0.02   0.56   0.00    0.0   0.00   \n",
      "2    ALB               Albania   0.00   0.00   0.02   0.00    0.0   0.00   \n",
      "3    ARE  United Arab Emirates   0.00   0.00   0.00   0.00    0.0   0.00   \n",
      "4    ARG             Argentina   0.00   0.24   0.24   0.00    0.0   0.23   \n",
      "\n",
      "   disa7  disa8  ...  disa16  disa17  disa18  disa19  disa20  disa21  disa22  \\\n",
      "0   0.00    0.0  ...     0.0     0.0     0.0    0.00    0.00     0.0    0.00   \n",
      "1   0.56    0.0  ...     0.0     0.4     0.0    0.61    0.00     0.0    0.99   \n",
      "2   0.00    0.0  ...     0.0     0.0     0.0    0.00    0.00     0.0    0.00   \n",
      "3   0.00    0.0  ...     0.0     0.0     0.0    0.00    0.00     0.0    0.00   \n",
      "4   0.00    0.0  ...     0.0     0.0     0.0    0.00    0.05     0.0    0.00   \n",
      "\n",
      "   disa23  disa24  disa25  \n",
      "0    0.02    0.00    0.00  \n",
      "1    0.98    0.61    0.00  \n",
      "2    0.00    0.00    0.16  \n",
      "3    0.00    0.00    0.00  \n",
      "4    0.01    0.00    0.11  \n",
      "\n",
      "[5 rows x 27 columns]\n"
     ]
    }
   ],
   "source": [
    "\n",
    "# Print the head of the DataFrame df\n",
    "print(df.head())"
   ],
   "metadata": {
    "collapsed": false,
    "pycharm": {
     "name": "#%%\n"
    }
   }
  },
  {
   "cell_type": "markdown",
   "source": [
    "Visualize your results by plotting a histogram of the column <code>disa10</code>. We’ve already provided this code for you, so just run it!"
   ],
   "metadata": {
    "collapsed": false,
    "pycharm": {
     "name": "#%% md\n"
    }
   }
  },
  {
   "cell_type": "code",
   "execution_count": 76,
   "outputs": [
    {
     "data": {
      "text/plain": "<Figure size 432x288 with 1 Axes>",
      "image/png": "[encoded data removed]"
     },
     "metadata": {
      "needs_background": "light"
     },
     "output_type": "display_data"
    }
   ],
   "source": [
    "\n",
    "# Plot histogram of one column of the DataFrame\n",
    "pd.DataFrame.hist(df[['disa10']])\n",
    "plt.xlabel('Extent of disease')\n",
    "plt.ylabel('Number of countries')\n",
    "plt.show()\n"
   ],
   "metadata": {
    "collapsed": false,
    "pycharm": {
     "name": "#%%\n"
    }
   }
  },
  {
   "metadata": {
    "pycharm": {
     "name": "#%% md\n"
    }
   },
   "outputs": [],
   "source": [
    "## Importing HDF5 files"
   ],
   "execution_count": null,
   "cell_type": "markdown"
  },
  {
   "metadata": {
    "pycharm": {
     "name": "#%% md\n"
    }
   },
   "outputs": [],
   "source": [
    "### 1. Importing HDF5 files\n",
    "\n",
    "According to the 2013 O'Reilly book Python and HDF5 by Andrew Collette,"
   ],
   "execution_count": null,
   "cell_type": "markdown"
  },
  {
   "metadata": {
    "pycharm": {
     "name": "#%% md\n"
    }
   },
   "outputs": [],
   "source": [
    "### 2. HDF5 files\n",
    "\n",
    "\"In the Python world, consensus is rapidly converging on Hierarchical Data Format version 5, or 'HDF5,' as the standard mechanism for storing large quantities of numerical data.\" How large are we talking here? According to Collette, \"It’s now relatively common to deal with datasets hundreds of gigabytes or even terabytes in size; HDF5 itself can scale up to exabytes.\" Let's explore with a concrete example from LIGO, the Laser Interferometer Gravitational-Wave Observatory project."
   ],
   "execution_count": null,
   "cell_type": "markdown"
  },
  {
   "metadata": {
    "pycharm": {
     "name": "#%% md\n"
    }
   },
   "outputs": [],
   "source": [
    "### 3. Importing HDF5 files\n",
    "\n",
    "You first import the package h5py and then import the file using 'h5py dot File', remembering to use 'r' in order to specify read only. Printing the datatype to the shell reveals that we are dealing with an h5py file."
   ],
   "execution_count": null,
   "cell_type": "markdown"
  },
  {
   "metadata": {
    "pycharm": {
     "name": "#%% md\n"
    }
   },
   "outputs": [],
   "source": [
    "### 4. The structure of HDF5 files\n",
    "\n",
    "But what is the structure of this file? You can explore it's hierarchical structure as you would that of a Python dictionary using the method keys. You see that there are three keys, meta, quality and strain. Each of these is an HDF group. You can think of these groups as directories. The LIGO documentation tells us that 'meta' contains meta-data for the file, 'quality' contains information about data quality and 'strain' contains 'strain data from the interferometer', the main measurement performed by LIGO, the data of interest. If you knew what data and metadata should be in each group, you could access it straightforwardly. However, if not, due to the hierarchical nature of the file structure, it is easy to explore. For example,"
   ],
   "execution_count": null,
   "cell_type": "markdown"
  },
  {
   "metadata": {
    "pycharm": {
     "name": "#%% md\n"
    }
   },
   "outputs": [],
   "source": [
    "### 5. The structure of HDF5 files\n",
    "\n",
    "let's say you wanted to find out what type of metadata there is, you could easily print out the keys. Now you know the keys, you can access any metadata of interest. If you're interested in 'Description' and 'Detector', you can pass these keys to the numpy-dot-array function to convert the values to a NumPy array. You see that the data in the file is 'Strain data time series from LIGO' and that the detector used was 'H1'. Next perhaps you would like to check out the actual data? Great idea and that's precisely what you're going to do in the upcoming exercises!"
   ],
   "execution_count": null,
   "cell_type": "markdown"
  },
  {
   "metadata": {
    "pycharm": {
     "name": "#%% md\n"
    }
   },
   "outputs": [],
   "source": [
    "### 6. The HDF Project\n",
    "\n",
    "Before you do so, it is also worth noting that the HDF project is actively maintained by the HDF group, based in Champaign, Illinois and formerly part of the University of Illinois Urbana-Champaign."
   ],
   "execution_count": null,
   "cell_type": "markdown"
  },
  {
   "metadata": {
    "pycharm": {
     "name": "#%% md\n"
    }
   },
   "outputs": [],
   "source": [
    "### 7. Let's practice!\n",
    "\n",
    "Now it's time for you to import and visualize some of the data that led to the validation of Einstein's Theory of Gravitational Waves, enjoy!"
   ],
   "execution_count": null,
   "cell_type": "markdown"
  },
  {
   "metadata": {
    "pycharm": {
     "name": "#%% md\n"
    }
   },
   "outputs": [],
   "source": [
    "## Using h5py to import HDF5 files\n",
    "\n",
    "<p>The file <code>'LIGO_data.hdf5'</code> is already in your working directory.\n",
    "In this exercise, you'll import it using the <code>h5py</code> library.\n",
    "You'll also print out its datatype to confirm you have imported\n",
    "it correctly. You'll then study the structure of the file in order\n",
    "to see precisely what HDF groups it contains.</p>\n",
    "<p>You can find the LIGO data plus loads of documentation and tutorials <a href=\"https://losc.ligo.org/events/GW150914/\" target=\"_blank\" rel=\"noopener noreferrer\">here</a>. There is also a great tutorial on Signal Processing with the data <a href=\"https://www.gw-openscience.org/GW150914data/LOSC_Event_tutorial_GW150914.html\" target=\"_blank\" rel=\"noopener noreferrer\">here</a>.</p>"
   ],
   "execution_count": null,
   "cell_type": "markdown"
  },
  {
   "cell_type": "markdown",
   "source": [
    "Import the package <code>h5py</code>."
   ],
   "metadata": {
    "collapsed": false,
    "pycharm": {
     "name": "#%% md\n"
    }
   }
  },
  {
   "cell_type": "code",
   "execution_count": 77,
   "outputs": [],
   "source": [
    "# Import packages\n",
    "import h5py"
   ],
   "metadata": {
    "collapsed": false,
    "pycharm": {
     "name": "#%%\n"
    }
   }
  },
  {
   "cell_type": "markdown",
   "source": [
    "Assign the name of the file to the variable <code>file</code>."
   ],
   "metadata": {
    "collapsed": false,
    "pycharm": {
     "name": "#%% md\n"
    }
   }
  },
  {
   "cell_type": "code",
   "execution_count": 78,
   "outputs": [],
   "source": [
    "\n",
    "# Assign filename: file\n",
    "file = \"data/L-L1_LOSC_4_V1-1126259446-32.hdf5\""
   ],
   "metadata": {
    "collapsed": false,
    "pycharm": {
     "name": "#%%\n"
    }
   }
  },
  {
   "cell_type": "markdown",
   "source": [
    "Load the file as read only into the variable <code>data</code>."
   ],
   "metadata": {
    "collapsed": false,
    "pycharm": {
     "name": "#%% md\n"
    }
   }
  },
  {
   "cell_type": "code",
   "execution_count": 79,
   "outputs": [],
   "source": [
    "\n",
    "# Load file: data\n",
    "data = h5py.File(file, \"r\")"
   ],
   "metadata": {
    "collapsed": false,
    "pycharm": {
     "name": "#%%\n"
    }
   }
  },
  {
   "cell_type": "markdown",
   "source": [
    "Print the datatype of <code>data</code>."
   ],
   "metadata": {
    "collapsed": false,
    "pycharm": {
     "name": "#%% md\n"
    }
   }
  },
  {
   "cell_type": "code",
   "execution_count": 80,
   "outputs": [
    {
     "name": "stdout",
     "output_type": "stream",
     "text": [
      "<class 'h5py._hl.files.File'>\n"
     ]
    }
   ],
   "source": [
    "\n",
    "# Print the datatype of the loaded file\n",
    "print(type(data))"
   ],
   "metadata": {
    "collapsed": false,
    "pycharm": {
     "name": "#%%\n"
    }
   }
  },
  {
   "cell_type": "markdown",
   "source": [
    "Print the names of the groups in the HDF5 file <code>'LIGO_data.hdf5'</code>."
   ],
   "metadata": {
    "collapsed": false,
    "pycharm": {
     "name": "#%% md\n"
    }
   }
  },
  {
   "cell_type": "code",
   "execution_count": 81,
   "outputs": [
    {
     "name": "stdout",
     "output_type": "stream",
     "text": [
      "meta\n",
      "quality\n",
      "strain\n"
     ]
    }
   ],
   "source": [
    "\n",
    "# Print the keys of the file\n",
    "for key in data.keys():\n",
    "    print(key)\n"
   ],
   "metadata": {
    "collapsed": false,
    "pycharm": {
     "name": "#%%\n"
    }
   }
  },
  {
   "metadata": {
    "pycharm": {
     "name": "#%% md\n"
    }
   },
   "outputs": [],
   "source": [
    "## Extracting data from your HDF5 file\n",
    "\n",
    "<p>In this exercise, you'll extract some of the LIGO experiment's\n",
    "actual data from the HDF5 file and you'll visualize it.</p>\n",
    "<p>To do so, you'll need to first explore the HDF5 group <code>'strain'</code>.</p>"
   ],
   "execution_count": null,
   "cell_type": "markdown"
  },
  {
   "metadata": {
    "pycharm": {
     "name": "#%% md\n"
    }
   },
   "outputs": [],
   "source": [
    "Assign the HDF5 group <code>data['strain']</code> to <code>group</code>."
   ],
   "execution_count": null,
   "cell_type": "markdown"
  },
  {
   "cell_type": "code",
   "execution_count": 82,
   "outputs": [],
   "source": [
    "# Get the HDF5 group: group\n",
    "group =data[\"strain\"]"
   ],
   "metadata": {
    "collapsed": false,
    "pycharm": {
     "name": "#%%\n"
    }
   }
  },
  {
   "metadata": {
    "pycharm": {
     "name": "#%% md\n"
    }
   },
   "outputs": [],
   "source": [
    "In the <code>for</code> loop, print out the keys of the HDF5 group in <code>group</code>."
   ],
   "execution_count": null,
   "cell_type": "markdown"
  },
  {
   "cell_type": "code",
   "execution_count": 83,
   "outputs": [
    {
     "name": "stdout",
     "output_type": "stream",
     "text": [
      "Strain\n"
     ]
    }
   ],
   "source": [
    "# Check out keys of group\n",
    "for key in group.keys():\n",
    "    print(key)"
   ],
   "metadata": {
    "collapsed": false,
    "pycharm": {
     "name": "#%%\n"
    }
   }
  },
  {
   "metadata": {
    "pycharm": {
     "name": "#%% md\n"
    }
   },
   "outputs": [],
   "source": [
    "Assign the time series data <code>data['strain']['Strain']</code> to a NumPy array called <code>strain</code>."
   ],
   "execution_count": null,
   "cell_type": "markdown"
  },
  {
   "cell_type": "code",
   "execution_count": 84,
   "outputs": [],
   "source": [
    "# Set variable equal to time series data: strain\n",
    "strain = np.array(data[\"strain\"][\"Strain\"])"
   ],
   "metadata": {
    "collapsed": false,
    "pycharm": {
     "name": "#%%\n"
    }
   }
  },
  {
   "metadata": {
    "pycharm": {
     "name": "#%% md\n"
    }
   },
   "outputs": [],
   "source": [
    "Set <code>num_samples</code> equal to <code>10000</code>, the number of time points we wish to sample."
   ],
   "execution_count": null,
   "cell_type": "markdown"
  },
  {
   "cell_type": "code",
   "execution_count": 85,
   "outputs": [],
   "source": [
    "# Set number of time points to sample: num_samples\n",
    "num_samples =10000"
   ],
   "metadata": {
    "collapsed": false,
    "pycharm": {
     "name": "#%%\n"
    }
   }
  },
  {
   "metadata": {
    "pycharm": {
     "name": "#%% md\n"
    }
   },
   "outputs": [],
   "source": [
    "Execute the rest of the code to produce a plot of the time series data in <code>LIGO_data.hdf5</code>."
   ],
   "execution_count": null,
   "cell_type": "markdown"
  },
  {
   "cell_type": "code",
   "execution_count": 86,
   "outputs": [
    {
     "data": {
      "text/plain": "<Figure size 432x288 with 1 Axes>",
      "image/png": "[encoded data removed]"
     },
     "metadata": {
      "needs_background": "light"
     },
     "output_type": "display_data"
    }
   ],
   "source": [
    "# Set time vector\n",
    "time = np.arange(0, 1, 1/num_samples)\n",
    "\n",
    "# Plot data\n",
    "plt.plot(time, strain[:num_samples])\n",
    "plt.xlabel('GPS Time (s)')\n",
    "plt.ylabel('strain')\n",
    "plt.show()"
   ],
   "metadata": {
    "collapsed": false,
    "pycharm": {
     "name": "#%%\n"
    }
   }
  },
  {
   "metadata": {
    "pycharm": {
     "name": "#%% md\n"
    }
   },
   "outputs": [],
   "source": [
    "## Importing MATLAB files"
   ],
   "execution_count": null,
   "cell_type": "markdown"
  },
  {
   "metadata": {
    "pycharm": {
     "name": "#%% md\n"
    }
   },
   "outputs": [],
   "source": [
    "### 1. Importing MATLAB files\n",
    "\n",
    "MATLAB, which is short"
   ],
   "execution_count": null,
   "cell_type": "markdown"
  },
  {
   "metadata": {
    "pycharm": {
     "name": "#%% md\n"
    }
   },
   "outputs": [],
   "source": [
    "### 2. MATLAB\n",
    "\n",
    "for Matrix Laboratory, is a numerical computing environment that is an industry standard in the disciplines of engineering and science. This is due in part to its powerful linear algebra and matrix capabilities, in part to its proprietary nature and in part to how difficult the academic world finds it to shake off old habits. Regardless of the reasons for its widespread use, the fact of the matter is that a lot of people use MATLAB and save their data as 'dot mat' files, the file format native to MATLAB. How can you import these into Python?"
   ],
   "execution_count": null,
   "cell_type": "markdown"
  },
  {
   "metadata": {
    "pycharm": {
     "name": "#%% md\n"
    }
   },
   "outputs": [],
   "source": [
    "### 3. SciPy to the rescue!\n",
    "\n",
    "Luckily for us Python afficionados, the standard library scipy has functions loadmat and savemat, which allow us to read and write dot mat files, respectively."
   ],
   "execution_count": null,
   "cell_type": "markdown"
  },
  {
   "metadata": {
    "pycharm": {
     "name": "#%% md\n"
    }
   },
   "outputs": [],
   "source": [
    "### 4. What is a .mat file?\n",
    "\n",
    "\"What exactly is in a dot mat file?\" you may ask. To answer this, lets look at the MATLAB IDE. In particular,"
   ],
   "execution_count": null,
   "cell_type": "markdown"
  },
  {
   "metadata": {
    "pycharm": {
     "name": "#%% md\n"
    }
   },
   "outputs": [],
   "source": [
    "### 5. What is a .mat file?\n",
    "\n",
    "check out the MATLAB workspace where all your variables are stored. This workspace can contain strings, floats, vectors and arrays, among many other objects. A dot mat file is simply a collection of such objects."
   ],
   "execution_count": null,
   "cell_type": "markdown"
  },
  {
   "metadata": {
    "pycharm": {
     "name": "#%% md\n"
    }
   },
   "outputs": [],
   "source": [
    "### 6. Importing a .mat file\n",
    "\n",
    "Now this means when importing a dot mat file in Python, we should expect to see a number of different variables and objects. In this code, I first import scipy-dot-io and then load the file 'workspace dot mat'. Checking out what type of object results tells me that it's a dictionary. How this dictionary relates to a MATLAB workspace is straightforward: the keys of the Python dictionary are the MATLAB variable names and the values of the Python dictionary are the objects that are assigned to the variables. In the example above, mat['x'] is a numpy corresponding to the MATLAB array x in your MATLAB workspace. It's that easy."
   ],
   "execution_count": null,
   "cell_type": "markdown"
  },
  {
   "cell_type": "code",
   "execution_count": 87,
   "outputs": [
    {
     "name": "stdout",
     "output_type": "stream",
     "text": [
      "<class 'dict'>\n"
     ]
    }
   ],
   "source": [
    "import scipy.io\n",
    "mat = scipy.io.loadmat(\"data/ja_data2.mat\")\n",
    "print(type(mat))"
   ],
   "metadata": {
    "collapsed": false,
    "pycharm": {
     "name": "#%%\n"
    }
   }
  },
  {
   "cell_type": "code",
   "execution_count": 89,
   "outputs": [
    {
     "data": {
      "text/plain": "array([[  0.        , 238.62933333, 238.62264151, ..., 250.17403315,\n        249.05801105, 251.3489011 ],\n       [  0.        , 291.7718254 , 292.006     , ..., 269.99239544,\n        271.32044199, 271.26086957],\n       [  0.        , 252.45212766, 253.34851138, ..., 225.76428571,\n        224.02909091, 226.38103757],\n       ...,\n       [  0.        ,   0.        ,   0.        , ...,   0.        ,\n          0.        ,   0.        ],\n       [  0.        , 373.45756458, 377.05420561, ...,   0.        ,\n          0.        ,   0.        ],\n       [  0.        , 415.25079365,   0.        , ..., 407.76514032,\n        402.54331865, 409.40528634]])"
     },
     "execution_count": 89,
     "metadata": {},
     "output_type": "execute_result"
    }
   ],
   "source": [
    "mat[\"rfpCyt\"]"
   ],
   "metadata": {
    "collapsed": false,
    "pycharm": {
     "name": "#%%\n"
    }
   }
  },
  {
   "metadata": {
    "pycharm": {
     "name": "#%% md\n"
    }
   },
   "outputs": [],
   "source": [
    "### 7. Let's practice!\n",
    "\n",
    "Now it's your turn to import a MATLAB workspace and check out what it contains, happy exploring!"
   ],
   "execution_count": null,
   "cell_type": "markdown"
  },
  {
   "metadata": {
    "pycharm": {
     "name": "#%% md\n"
    }
   },
   "outputs": [],
   "source": [
    "## Loading .mat files\n",
    "\n",
    "<p>In this exercise, you'll figure out how to\n",
    "load a MATLAB file using <code>scipy.io.loadmat()</code>\n",
    "and you'll discover what Python\n",
    "datatype it yields.</p>\n",
    "<p>The file <code>'albeck_gene_expression.mat'</code> is in\n",
    "your working directory. This file contains <a href=\"https://www.mcb.ucdavis.edu/faculty-labs/albeck/workshop.htm\" target=\"_blank\" rel=\"noopener noreferrer\">gene expression data</a> from the Albeck Lab at UC Davis. You can find the data and some great documentation <a href=\"https://www.mcb.ucdavis.edu/faculty-labs/albeck/workshop.htm\" target=\"_blank\" rel=\"noopener noreferrer\">here</a>.</p>"
   ],
   "execution_count": null,
   "cell_type": "markdown"
  },
  {
   "metadata": {
    "pycharm": {
     "name": "#%% md\n"
    }
   },
   "outputs": [],
   "source": [
    "Import the package <code>scipy.io</code>."
   ],
   "execution_count": null,
   "cell_type": "markdown"
  },
  {
   "metadata": {
    "pycharm": {
     "name": "#%% md\n"
    }
   },
   "outputs": [],
   "source": [
    "Load the file <code>'albeck_gene_expression.mat'</code> into the variable <code>mat</code>; do so using the function <code>scipy.io.loadmat()</code>."
   ],
   "execution_count": null,
   "cell_type": "markdown"
  },
  {
   "metadata": {
    "pycharm": {
     "name": "#%% md\n"
    }
   },
   "outputs": [],
   "source": [
    "Use the function <code>type()</code> to print the datatype of <code>mat</code> to the IPython shell."
   ],
   "execution_count": null,
   "cell_type": "markdown"
  },
  {
   "metadata": {
    "pycharm": {
     "name": "#%% md\n"
    }
   },
   "outputs": [],
   "source": [
    "## The structure of .mat in Python\n",
    "\n",
    "<p>Here, you'll discover what is in the MATLAB\n",
    "dictionary that you loaded in the previous\n",
    "exercise.</p>\n",
    "<p>The file <code>'albeck_gene_expression.mat'</code> is already loaded\n",
    "into the variable <code>mat</code>. The following libraries have already\n",
    "been imported as follows:</p>\n",
    "<pre><code>import scipy.io\n",
    "import matplotlib.pyplot as plt\n",
    "import numpy as np\n",
    "</code></pre>\n",
    "<p>Once again, this file contains <a href=\"https://www.mcb.ucdavis.edu/faculty-labs/albeck/workshop.htm\" target=\"_blank\" rel=\"noopener noreferrer\">gene expression data</a> from the Albeck Lab at UCDavis. You can find the data and some great documentation <a href=\"https://www.mcb.ucdavis.edu/faculty-labs/albeck/workshop.htm\" target=\"_blank\" rel=\"noopener noreferrer\">here</a>.</p>"
   ],
   "execution_count": null,
   "cell_type": "markdown"
  },
  {
   "metadata": {
    "pycharm": {
     "name": "#%% md\n"
    }
   },
   "outputs": [],
   "source": [
    "Use the method <code>.keys()</code> on the dictionary <code>mat</code> to print the keys. Most of these keys (in fact the ones that do NOT begin and end with '__') are variables from the corresponding MATLAB environment."
   ],
   "execution_count": null,
   "cell_type": "markdown"
  },
  {
   "cell_type": "code",
   "execution_count": 90,
   "outputs": [
    {
     "name": "stdout",
     "output_type": "stream",
     "text": [
      "dict_keys(['__header__', '__version__', '__globals__', 'rfpCyt', 'rfpNuc', 'cfpNuc', 'cfpCyt', 'yfpNuc', 'yfpCyt', 'CYratioCyt'])\n"
     ]
    }
   ],
   "source": [
    "# Print the keys of the MATLAB dictionary\n",
    "print(mat.keys())"
   ],
   "metadata": {
    "collapsed": false,
    "pycharm": {
     "name": "#%%\n"
    }
   }
  },
  {
   "cell_type": "markdown",
   "source": [
    "Print the type of the value corresponding to the key <code>'CYratioCyt'</code> in <code>mat</code>. Recall that <code>mat['CYratioCyt']</code> accesses the value."
   ],
   "metadata": {
    "collapsed": false,
    "pycharm": {
     "name": "#%% md\n"
    }
   }
  },
  {
   "cell_type": "code",
   "execution_count": 91,
   "outputs": [
    {
     "name": "stdout",
     "output_type": "stream",
     "text": [
      "<class 'numpy.ndarray'>\n"
     ]
    }
   ],
   "source": [
    "\n",
    "# Print the type of the value corresponding to the key 'CYratioCyt'\n",
    "print(type(mat[\"CYratioCyt\"]))"
   ],
   "metadata": {
    "collapsed": false,
    "pycharm": {
     "name": "#%%\n"
    }
   }
  },
  {
   "cell_type": "markdown",
   "source": [
    "Print the shape of the value corresponding to the key <code>'CYratioCyt'</code> using the <code>numpy</code> function <code>shape()</code>."
   ],
   "metadata": {
    "collapsed": false,
    "pycharm": {
     "name": "#%% md\n"
    }
   }
  },
  {
   "cell_type": "code",
   "execution_count": 92,
   "outputs": [
    {
     "name": "stdout",
     "output_type": "stream",
     "text": [
      "(200, 137)\n"
     ]
    }
   ],
   "source": [
    "\n",
    "# Print the shape of the value corresponding to the key 'CYratioCyt'\n",
    "print(mat[\"CYratioCyt\"].shape)"
   ],
   "metadata": {
    "collapsed": false,
    "pycharm": {
     "name": "#%%\n"
    }
   }
  },
  {
   "cell_type": "markdown",
   "source": [
    "Execute the entire script to see some oscillatory gene expression data!"
   ],
   "metadata": {
    "collapsed": false,
    "pycharm": {
     "name": "#%% md\n"
    }
   }
  },
  {
   "cell_type": "code",
   "execution_count": 93,
   "outputs": [
    {
     "data": {
      "text/plain": "<Figure size 432x288 with 1 Axes>",
      "image/png": "[encoded data removed]"
     },
     "metadata": {
      "needs_background": "light"
     },
     "output_type": "display_data"
    }
   ],
   "source": [
    "\n",
    "# Subset the array and plot it\n",
    "data = mat['CYratioCyt'][25, 5:]\n",
    "fig = plt.figure()\n",
    "plt.plot(data)\n",
    "plt.xlabel('time (min.)')\n",
    "plt.ylabel('normalized fluorescence (measure of expression)')\n",
    "plt.show()\n"
   ],
   "metadata": {
    "collapsed": false,
    "pycharm": {
     "name": "#%%\n"
    }
   }
  },
  {
   "metadata": {
    "pycharm": {
     "name": "#%% md\n"
    }
   },
   "outputs": [],
   "source": [
    "# Working with relational databases in Python"
   ],
   "execution_count": null,
   "cell_type": "markdown"
  },
  {
   "metadata": {
    "pycharm": {
     "name": "#%% md\n"
    }
   },
   "outputs": [],
   "source": [
    "## Introduction to relational databases"
   ],
   "execution_count": null,
   "cell_type": "markdown"
  },
  {
   "metadata": {
    "pycharm": {
     "name": "#%% md\n"
    }
   },
   "outputs": [],
   "source": [
    "### 1. Introduction to relational databases\n",
    "\n",
    "You have already mastered the art of importing all types of single files in Python: congratulations! However, to earn your daily bread and butter as a Data Scientist, you'll be required to interact with more complex data structures, such as relational databases."
   ],
   "execution_count": null,
   "cell_type": "markdown"
  },
  {
   "metadata": {
    "pycharm": {
     "name": "#%% md\n"
    }
   },
   "outputs": [],
   "source": [
    "### 2. What is a relational database?\n",
    "\n",
    "What is a relational database? It's a type of database that is based upon the Relational model of data, first described by Ted Codd in the late 1960s. Before getting too theoretical, however, let's check out at an illuminating example,"
   ],
   "execution_count": null,
   "cell_type": "markdown"
  },
  {
   "metadata": {
    "pycharm": {
     "name": "#%% md\n"
    }
   },
   "outputs": [],
   "source": [
    "### 3. Example: Northwind database\n",
    "\n",
    "the Northwind Traders database, a synthetic database that contains sales data for a fictitious company. Firstly, a database consists of tables. Here you can see 3 tables from the Northwind database:"
   ],
   "execution_count": null,
   "cell_type": "markdown"
  },
  {
   "metadata": {
    "pycharm": {
     "name": "#%% md\n"
    }
   },
   "outputs": [],
   "source": [
    "### 4. Example: Northwind database\n",
    "\n",
    "'Orders',"
   ],
   "execution_count": null,
   "cell_type": "markdown"
  },
  {
   "metadata": {
    "pycharm": {
     "name": "#%% md\n"
    }
   },
   "outputs": [],
   "source": [
    "### 5. Example: Northwind database\n",
    "\n",
    "'Customers' and"
   ],
   "execution_count": null,
   "cell_type": "markdown"
  },
  {
   "metadata": {
    "pycharm": {
     "name": "#%% md\n"
    }
   },
   "outputs": [],
   "source": [
    "### 6. Example: Northwind database\n",
    "\n",
    "'Employees'. So what's a table? A table generally represents one entity type,"
   ],
   "execution_count": null,
   "cell_type": "markdown"
  },
  {
   "metadata": {
    "pycharm": {
     "name": "#%% md\n"
    }
   },
   "outputs": [],
   "source": [
    "### 7. The Orders table\n",
    "\n",
    "such as 'Order' . Notice that this table looks a great deal like a dataframe. That's the point. In a relational database table,"
   ],
   "execution_count": null,
   "cell_type": "markdown"
  },
  {
   "metadata": {
    "pycharm": {
     "name": "#%% md\n"
    }
   },
   "outputs": [],
   "source": [
    "### 8. The Orders table\n",
    "\n",
    "each row or record represents an instance of the entity type: in this case, each row is an Order."
   ],
   "execution_count": null,
   "cell_type": "markdown"
  },
  {
   "metadata": {
    "pycharm": {
     "name": "#%% md\n"
    }
   },
   "outputs": [],
   "source": [
    "### 9. The Orders table\n",
    "\n",
    "Each column represents an attribute of each instance, such as 'OrderDate' in the case of 'Orders'. In this sense, a table is entirely analogous to a dataframe. It is essential that each row contain a unique identifier, known as a primary key, that we can use to explicitly access the row in question. In our 'Orders' table, you can see that"
   ],
   "execution_count": null,
   "cell_type": "markdown"
  },
  {
   "metadata": {
    "pycharm": {
     "name": "#%% md\n"
    }
   },
   "outputs": [],
   "source": [
    "### 10. The Orders table\n",
    "\n",
    "the key is 'OrderID' the first column. But recall that a database consists of many tables! The really cool thing about relational databases is not merely that you have a bunch of tables,"
   ],
   "execution_count": null,
   "cell_type": "markdown"
  },
  {
   "metadata": {
    "pycharm": {
     "name": "#%% md\n"
    }
   },
   "outputs": [],
   "source": [
    "### 11. Tables are linked\n",
    "\n",
    "but that the tables are linked. How this linking works is ultra-intuitive: see that the 'Orders' table has"
   ],
   "execution_count": null,
   "cell_type": "markdown"
  },
  {
   "metadata": {
    "pycharm": {
     "name": "#%% md\n"
    }
   },
   "outputs": [],
   "source": [
    "### 12. Tables are linked\n",
    "\n",
    "both a column called 'CustomerID' and one called 'EmployeeID'. These columns correspond precisely to the primary keys in the"
   ],
   "execution_count": null,
   "cell_type": "markdown"
  },
  {
   "metadata": {
    "pycharm": {
     "name": "#%% md\n"
    }
   },
   "outputs": [],
   "source": [
    "### 13. Tables are linked\n",
    "\n",
    "'Customers' and 'Employees' tables, respectively. So, given an Order, you can immediately look up the details of the relevant Customer or Employee. This is cool because it means that you don't need to store all the Customer details, such as first name, last name, company with every order that they place: you merely need to look it up in the 'Customers' table. This saves an incredible amount of space!"
   ],
   "execution_count": null,
   "cell_type": "markdown"
  },
  {
   "metadata": {
    "pycharm": {
     "name": "#%% md\n"
    }
   },
   "outputs": [],
   "source": [
    "### 14. Relational model\n",
    "\n",
    "As stated earlier, the relational database model was originally proposed by \"Ted\" Codd and has been widely adopted. There is a great deal to theory but it is most neatly summarized in Codd's 12 Rules, also known as Codd's 12 Commandments, which he developed in the early 1980s to combat what he viewed as a dilution of his original relational database vision. Codd's 12 Rules actually consist of 13 rules but they are zero-indexed, that is, the first rule is zero-indexed. If that makes you laugh, you're definitely a geek like me! These 13 rules were defined to describe what a Relational Database Management System should adhere to in order to be considered relational."
   ],
   "execution_count": null,
   "cell_type": "markdown"
  },
  {
   "metadata": {
    "pycharm": {
     "name": "#%% md\n"
    }
   },
   "outputs": [],
   "source": [
    "### 15. Relational Database Management Systems\n",
    "\n",
    "Among the most popular of such systems are PostreSQL (commonly called Postgres),"
   ],
   "execution_count": null,
   "cell_type": "markdown"
  },
  {
   "metadata": {
    "pycharm": {
     "name": "#%% md\n"
    }
   },
   "outputs": [],
   "source": [
    "### 16. Relational Database Management Systems\n",
    "\n",
    "MySQL and"
   ],
   "execution_count": null,
   "cell_type": "markdown"
  },
  {
   "metadata": {
    "pycharm": {
     "name": "#%% md\n"
    }
   },
   "outputs": [],
   "source": [
    "### 17. Relational Database Management Systems\n",
    "\n",
    "SQLite, all of which use the SQL query language. In fact, SQL itself is actually an acronym"
   ],
   "execution_count": null,
   "cell_type": "markdown"
  },
  {
   "metadata": {
    "pycharm": {
     "name": "#%% md\n"
    }
   },
   "outputs": [],
   "source": [
    "### 18. Relational Database Management Systems\n",
    "\n",
    "for Structured Query Language, which describes how you communicate with a database in order to both access and update the information it contains. The term \"querying\" is really just a fancy way of saying getting data out from the database. Next up, you'll learn how to connect to databases but before that,"
   ],
   "execution_count": null,
   "cell_type": "markdown"
  },
  {
   "metadata": {
    "pycharm": {
     "name": "#%% md\n"
    }
   },
   "outputs": [],
   "source": [
    "### 19. Let's practice!\n",
    "\n",
    "let's make sure that you have a solid conceptual grip on the relational model."
   ],
   "execution_count": null,
   "cell_type": "markdown"
  },
  {
   "metadata": {
    "pycharm": {
     "name": "#%% md\n"
    }
   },
   "outputs": [],
   "source": [
    "## Creating a database engine in Python"
   ],
   "execution_count": null,
   "cell_type": "markdown"
  },
  {
   "metadata": {
    "pycharm": {
     "name": "#%% md\n"
    }
   },
   "outputs": [],
   "source": [
    "### 1. Creating a database engine in Python\n",
    "\n",
    "All right, we're back! What we really want to do is to get data out of our databases using SQL, or the Structured Query Language. But before we get to that, we're going to need to figure out how to connect to a database."
   ],
   "execution_count": null,
   "cell_type": "markdown"
  },
  {
   "metadata": {
    "pycharm": {
     "name": "#%% md\n"
    }
   },
   "outputs": [],
   "source": [
    "### 2. Creating a database engine\n",
    "\n",
    "We'll use an SQLite database as an example because SQLite is fast and simple while still containing enough functionality to introduce you to all the necessary concepts of querying a database. There are times when you would prefer to use PostgreSQL or MySQL, but for our purposes here, an Introduction to Interacting with Relational Databases in Python, a SQLite database is perfect. We'll once again look at the Northwind database. There are many packages we could use to access an SQLite database such as sqlite3 and SQLAlchemy. We'll use SQLAlchemy as it works with many other Relational Database Management Systems, such as Postgres and MySQL. So without further ado, to connect to 'Northwind dot sqlite', we need to import the relevant funtion create_engine from the package SQLAlchemy. We then use the function create_engine to fire up an SQL engine that will communicate our queries to the database. The only required argument of create_engine is a string that indicates the type of database you're connecting to and the name of the database. Next, In order to query the database, we need to connect to the engine to do so."
   ],
   "execution_count": null,
   "cell_type": "markdown"
  },
  {
   "cell_type": "code",
   "execution_count": 96,
   "outputs": [],
   "source": [
    "from sqlalchemy import create_engine\n",
    "engine = create_engine(\"sqlite:///data/Chinook.sqlite\")"
   ],
   "metadata": {
    "collapsed": false,
    "pycharm": {
     "name": "#%%\n"
    }
   }
  },
  {
   "metadata": {
    "pycharm": {
     "name": "#%% md\n"
    }
   },
   "outputs": [],
   "source": [
    "### 3. Getting table names\n",
    "\n",
    "But before we do this, we would like to know the names of the tables it contains. To do this, apply the method table_names to the object engine. This will return a list of the table names that you can then print the console. Now it's your turn to do the same: fire up the database engine and print the table names!"
   ],
   "execution_count": null,
   "cell_type": "markdown"
  },
  {
   "cell_type": "code",
   "execution_count": 97,
   "outputs": [
    {
     "name": "stderr",
     "output_type": "stream",
     "text": [
      "C:\\Users\\Lenovo\\AppData\\Local\\Temp\\ipykernel_13696\\509743474.py:1: SADeprecationWarning: The Engine.table_names() method is deprecated and will be removed in a future release.  Please refer to Inspector.get_table_names(). (deprecated since: 1.4)\n",
      "  engine.table_names()\n"
     ]
    },
    {
     "data": {
      "text/plain": "['Album',\n 'Artist',\n 'Customer',\n 'Employee',\n 'Genre',\n 'Invoice',\n 'InvoiceLine',\n 'MediaType',\n 'Playlist',\n 'PlaylistTrack',\n 'Track']"
     },
     "execution_count": 97,
     "metadata": {},
     "output_type": "execute_result"
    }
   ],
   "source": [
    "engine.table_names()"
   ],
   "metadata": {
    "collapsed": false,
    "pycharm": {
     "name": "#%%\n"
    }
   }
  },
  {
   "metadata": {
    "pycharm": {
     "name": "#%% md\n"
    }
   },
   "outputs": [],
   "source": [
    "### 4. Let's practice!\n",
    "\n",
    "After this, I'll be back to show you how to connect to the engine, query your DBs and then you'll get loads of practice writing your own queries to import data from relational databases!"
   ],
   "execution_count": null,
   "cell_type": "markdown"
  },
  {
   "metadata": {
    "pycharm": {
     "name": "#%% md\n"
    }
   },
   "outputs": [],
   "source": [
    "## Creating a database engine\n",
    "\n",
    "<p>Here, you're going to fire up your very first SQL engine. You'll create an engine to connect to the SQLite database <code>'Chinook.sqlite'</code>, which is in your working directory. Remember that to create an engine to connect to <code>'Northwind.sqlite'</code>, Hugo executed the command</p>\n",
    "<pre><code>engine = create_engine('sqlite:///Northwind.sqlite')\n",
    "</code></pre>\n",
    "<p>Here, <code>'sqlite:///Northwind.sqlite'</code> is called the <em>connection string</em> to the SQLite database <code>Northwind.sqlite</code>.\n",
    "A little bit of background on the <a href=\"https://github.com/lerocha/chinook-database\" target=\"_blank\" rel=\"noopener noreferrer\">Chinook database</a>: the Chinook database contains information about a semi-fictional digital media store in which media data is real and customer, employee and sales data has been manually created.</p>\n",
    "<p>Why the name Chinook, you ask? According to their <a href=\"https://github.com/lerocha/chinook-database\" target=\"_blank\" rel=\"noopener noreferrer\">website</a>,</p>\n",
    "<blockquote>\n",
    "  <p>The name of this sample database was based on the Northwind database. Chinooks are winds in the interior West of North America, where the Canadian Prairies and Great Plains meet various mountain ranges. Chinooks are most prevalent over southern Alberta in Canada. Chinook is a good name choice for a database that intends to be an alternative to Northwind.</p>\n",
    "</blockquote>"
   ],
   "execution_count": null,
   "cell_type": "markdown"
  },
  {
   "metadata": {
    "pycharm": {
     "name": "#%% md\n"
    }
   },
   "outputs": [],
   "source": [
    "Import the function <code>create_engine</code> from the module <code>sqlalchemy</code>."
   ],
   "execution_count": null,
   "cell_type": "markdown"
  },
  {
   "metadata": {
    "pycharm": {
     "name": "#%% md\n"
    }
   },
   "outputs": [],
   "source": [
    "Create an engine to connect to the SQLite database <code>'Chinook.sqlite'</code> and assign it to <code>engine</code>."
   ],
   "execution_count": null,
   "cell_type": "markdown"
  },
  {
   "metadata": {
    "pycharm": {
     "name": "#%% md\n"
    }
   },
   "outputs": [],
   "source": [
    "## What are the tables in the database?\n",
    "\n",
    "<p>In this exercise, you'll once again create an engine to connect to <code>'Chinook.sqlite'</code>.\n",
    "Before you can get any data out of the database, however, you'll need to know what tables it contains!</p>\n",
    "<p>To this end, you'll save the table names to a list using the method <code>table_names()</code> on the engine and then you will print the list.</p>"
   ],
   "execution_count": null,
   "cell_type": "markdown"
  },
  {
   "metadata": {
    "pycharm": {
     "name": "#%% md\n"
    }
   },
   "outputs": [],
   "source": [
    "Import the function <code>create_engine</code> from the module <code>sqlalchemy</code>."
   ],
   "execution_count": null,
   "cell_type": "markdown"
  },
  {
   "metadata": {
    "pycharm": {
     "name": "#%% md\n"
    }
   },
   "outputs": [],
   "source": [
    "Create an engine to connect to the SQLite database <code>'Chinook.sqlite'</code> and assign it to <code>engine</code>."
   ],
   "execution_count": null,
   "cell_type": "markdown"
  },
  {
   "metadata": {
    "pycharm": {
     "name": "#%% md\n"
    }
   },
   "outputs": [],
   "source": [
    "Using the method <code>table_names()</code> on the engine <code>engine</code>, assign the table names of <code>'Chinook.sqlite'</code> to the variable <code>table_names</code>."
   ],
   "execution_count": null,
   "cell_type": "markdown"
  },
  {
   "metadata": {
    "pycharm": {
     "name": "#%% md\n"
    }
   },
   "outputs": [],
   "source": [
    "Print the object <code>table_names</code> to the shell."
   ],
   "execution_count": null,
   "cell_type": "markdown"
  },
  {
   "metadata": {
    "pycharm": {
     "name": "#%% md\n"
    }
   },
   "outputs": [],
   "source": [
    "## Querying relational databases in Python"
   ],
   "execution_count": null,
   "cell_type": "markdown"
  },
  {
   "metadata": {
    "pycharm": {
     "name": "#%% md\n"
    }
   },
   "outputs": [],
   "source": [
    "### 1. Querying relational databases in Python\n",
    "\n",
    "Now that you have figured out how to create a database engine and to list the tables of the database in question, it's time to connect to the engine and query the database. Once again, the term \"querying\" is just a fancy way of saying getting data out from the database."
   ],
   "execution_count": null,
   "cell_type": "markdown"
  },
  {
   "metadata": {
    "pycharm": {
     "name": "#%% md\n"
    }
   },
   "outputs": [],
   "source": [
    "### 2. Basic SQL query\n",
    "\n",
    "THe HELLO WORLD of SQL queries is 'SELECT * FROM Table_Name', where 'Table_name' is the name of any of the tables in the database. This query returns all columns of all rows of the Table of interest. For example, I could query the Northwind database with 'SELECT * FROM Orders' and this would return all columns of all rows of the 'Orders' table. The star after SELECT means 'all columns'. Straightforward, right? Well, nearly! This is an SQL query and we need to figure out how to make such a query using python, SQLAlchemy and, in fact, we'll also use pandas to store the results of our queries."
   ],
   "execution_count": null,
   "cell_type": "markdown"
  },
  {
   "metadata": {
    "pycharm": {
     "name": "#%% md\n"
    }
   },
   "outputs": [],
   "source": [
    "### 3. Workflow of SQL querying\n",
    "\n",
    "The workflow will be as follows. You'll import the required packages and functions, create the engine, connect to it, query the database save the results of the query to a dataframe, and close the connection.\n",
    "<br>\n",
    "\n",
    "<img src=\"image/img_8.png\">"
   ],
   "execution_count": null,
   "cell_type": "markdown"
  },
  {
   "metadata": {
    "pycharm": {
     "name": "#%% md\n"
    }
   },
   "outputs": [],
   "source": [
    "### 4. Your first SQL query\n",
    "\n",
    "Let's now check out how to do each of these steps! Create the engine using the function create_engine. To connect to the database after creating the engine, you create a connection object con by applying the method connect to the engine. To query the DB, apply the method execute to the connection con and pass it a single argument, the relevant SQL query; This creates a SQLAlchemy results object which we assign to the variable rs. To turn the results object rs into a dataframe, we apply the method fetchall to rs and save it as a dataframe using the pandas function DataFrame. fetchall fetches all rows, as you would expect. To close the connection, execute 'con dot close'. Don't forget to do this!"
   ],
   "execution_count": null,
   "cell_type": "markdown"
  },
  {
   "cell_type": "code",
   "execution_count": 98,
   "outputs": [],
   "source": [
    "# create engine\n",
    "\n",
    "engine = create_engine(\"sqlite:///data/Chinook.sqlite\")\n",
    "\n",
    "# connect to engine\n",
    "con = engine.connect()\n",
    "\n",
    "# Query the database\n",
    "rs = con.execute(\"Select * from Artist\")\n",
    "\n",
    "# save the query to dataframe\n",
    "df = pd.DataFrame(rs.fetchall())\n",
    "\n",
    "# close the connection\n",
    "con.close()"
   ],
   "metadata": {
    "collapsed": false,
    "pycharm": {
     "name": "#%%\n"
    }
   }
  },
  {
   "metadata": {
    "pycharm": {
     "name": "#%% md\n"
    }
   },
   "outputs": [],
   "source": [
    "### 5. Printing your query results\n",
    "\n",
    "You can then print the head of the dataframe, as we have done before, as a sanity check: all the rows look good but the column names aren't correct."
   ],
   "execution_count": null,
   "cell_type": "markdown"
  },
  {
   "cell_type": "code",
   "execution_count": 99,
   "outputs": [
    {
     "data": {
      "text/plain": "   ArtistId               Name\n0         1              AC/DC\n1         2             Accept\n2         3          Aerosmith\n3         4  Alanis Morissette\n4         5    Alice In Chains",
      "text/html": "<div>\n<style scoped>\n    .dataframe tbody tr th:only-of-type {\n        vertical-align: middle;\n    }\n\n    .dataframe tbody tr th {\n        vertical-align: top;\n    }\n\n    .dataframe thead th {\n        text-align: right;\n    }\n</style>\n<table border=\"1\" class=\"dataframe\">\n  <thead>\n    <tr style=\"text-align: right;\">\n      <th></th>\n      <th>ArtistId</th>\n      <th>Name</th>\n    </tr>\n  </thead>\n  <tbody>\n    <tr>\n      <th>0</th>\n      <td>1</td>\n      <td>AC/DC</td>\n    </tr>\n    <tr>\n      <th>1</th>\n      <td>2</td>\n      <td>Accept</td>\n    </tr>\n    <tr>\n      <th>2</th>\n      <td>3</td>\n      <td>Aerosmith</td>\n    </tr>\n    <tr>\n      <th>3</th>\n      <td>4</td>\n      <td>Alanis Morissette</td>\n    </tr>\n    <tr>\n      <th>4</th>\n      <td>5</td>\n      <td>Alice In Chains</td>\n    </tr>\n  </tbody>\n</table>\n</div>"
     },
     "execution_count": 99,
     "metadata": {},
     "output_type": "execute_result"
    }
   ],
   "source": [
    "df.head()"
   ],
   "metadata": {
    "collapsed": false,
    "pycharm": {
     "name": "#%%\n"
    }
   }
  },
  {
   "metadata": {
    "pycharm": {
     "name": "#%% md\n"
    }
   },
   "outputs": [],
   "source": [
    "### 6. Set the DataFrame column names\n",
    "\n",
    "To fix this, before closing the connection, you can set the dataframe's column names by executing 'df dot columns equals rs dot keys'."
   ],
   "execution_count": null,
   "cell_type": "markdown"
  },
  {
   "metadata": {
    "pycharm": {
     "name": "#%% md\n"
    }
   },
   "outputs": [],
   "source": [
    "### 7. Set the data frame column names\n",
    "\n",
    "One last note: analogous to what you saw in chapter 1 when opening plain text files, you can use"
   ],
   "execution_count": null,
   "cell_type": "markdown"
  },
  {
   "metadata": {
    "pycharm": {
     "name": "#%% md\n"
    }
   },
   "outputs": [],
   "source": [
    "### 8. Using the context manager\n",
    "\n",
    "the context manager construct to open a connection, which will save you the trouble of closing the connection later, or save you the trouble of forgetting to close it! There are two other differences that you may have notice between this and the previous code: firstly, I no longer have 'SELECT *' in the SQL query; I now have column names of the table 'Orders'; all this does is it imports those particular columns and no others whereas 'SELECT *' imports all columns; secondly, instead of applying the method fetchall to the results rs, I apply the method fetchmany with the argument size equals 5; this imports 5 rows instead of all rows. You'll become better acquainted with these functions and arguments very soon."
   ],
   "execution_count": null,
   "cell_type": "markdown"
  },
  {
   "metadata": {
    "pycharm": {
     "name": "#%% md\n"
    }
   },
   "outputs": [],
   "source": [
    "### 9. Let's practice!\n",
    "\n",
    "That's enough out of me! It's time for you to practice writing your own SQL queries to import data from your database, enjoy!"
   ],
   "execution_count": null,
   "cell_type": "markdown"
  },
  {
   "metadata": {
    "pycharm": {
     "name": "#%% md\n"
    }
   },
   "outputs": [],
   "source": [
    "## The Hello World of SQL Queries!\n",
    "\n",
    "<p>Now, it's time for liftoff! In this exercise, you'll perform the Hello World of SQL queries, <code>SELECT</code>, in order to retrieve all columns of the table <code>Album</code> in the Chinook database. Recall that the query <code>SELECT *</code> selects all columns.</p>"
   ],
   "execution_count": null,
   "cell_type": "markdown"
  },
  {
   "cell_type": "code",
   "execution_count": 100,
   "outputs": [],
   "source": [
    "\n",
    "# Create engine: engine\n",
    "engine = create_engine('sqlite:///data/Chinook.sqlite')"
   ],
   "metadata": {
    "collapsed": false,
    "pycharm": {
     "name": "#%%\n"
    }
   }
  },
  {
   "cell_type": "markdown",
   "source": [
    "Open the engine connection as <code>con</code> using the method <code>connect()</code> on the engine."
   ],
   "metadata": {
    "collapsed": false,
    "pycharm": {
     "name": "#%% md\n"
    }
   }
  },
  {
   "cell_type": "code",
   "execution_count": 101,
   "outputs": [],
   "source": [
    "\n",
    "# Open engine connection: con\n",
    "con = engine.connect()"
   ],
   "metadata": {
    "collapsed": false,
    "pycharm": {
     "name": "#%%\n"
    }
   }
  },
  {
   "cell_type": "markdown",
   "source": [
    "Store all of your query results in the DataFrame <code>df</code> by applying the <code>fetchall()</code> method to the results <code>rs</code>."
   ],
   "metadata": {
    "collapsed": false,
    "pycharm": {
     "name": "#%% md\n"
    }
   }
  },
  {
   "cell_type": "code",
   "execution_count": 102,
   "outputs": [],
   "source": [
    "\n",
    "# Perform query: rs\n",
    "rs = con.execute(\"Select * from Album\")"
   ],
   "metadata": {
    "collapsed": false,
    "pycharm": {
     "name": "#%%\n"
    }
   }
  },
  {
   "cell_type": "markdown",
   "source": [
    "Execute the query that <strong>selects</strong> <em>ALL columns</em> <strong>from</strong> the <code>Album</code> table. Store the results in <code>rs</code>."
   ],
   "metadata": {
    "collapsed": false,
    "pycharm": {
     "name": "#%% md\n"
    }
   }
  },
  {
   "cell_type": "code",
   "execution_count": 103,
   "outputs": [],
   "source": [
    "\n",
    "# Save results of the query to DataFrame: df\n",
    "df = pd.DataFrame(rs.fetchall())"
   ],
   "metadata": {
    "collapsed": false,
    "pycharm": {
     "name": "#%%\n"
    }
   }
  },
  {
   "cell_type": "markdown",
   "source": [
    "Close the connection!"
   ],
   "metadata": {
    "collapsed": false,
    "pycharm": {
     "name": "#%% md\n"
    }
   }
  },
  {
   "cell_type": "code",
   "execution_count": 104,
   "outputs": [],
   "source": [
    "\n",
    "# Close connection\n",
    "con.close()"
   ],
   "metadata": {
    "collapsed": false,
    "pycharm": {
     "name": "#%%\n"
    }
   }
  },
  {
   "cell_type": "code",
   "execution_count": 105,
   "outputs": [
    {
     "name": "stdout",
     "output_type": "stream",
     "text": [
      "   AlbumId                                  Title  ArtistId\n",
      "0        1  For Those About To Rock We Salute You         1\n",
      "1        2                      Balls to the Wall         2\n",
      "2        3                      Restless and Wild         2\n",
      "3        4                      Let There Be Rock         1\n",
      "4        5                               Big Ones         3\n"
     ]
    }
   ],
   "source": [
    "\n",
    "# Print head of DataFrame df\n",
    "print(df.head())\n"
   ],
   "metadata": {
    "collapsed": false,
    "pycharm": {
     "name": "#%%\n"
    }
   }
  },
  {
   "metadata": {
    "pycharm": {
     "name": "#%% md\n"
    }
   },
   "outputs": [],
   "source": [
    "## Customizing the Hello World of SQL Queries\n",
    "\n",
    "<p>Congratulations on executing your first SQL query! Now you're going to figure out how to customize your query in order to:</p>\n",
    "<ul>\n",
    "<li>Select specified columns from a table;</li>\n",
    "<li>Select a specified number of rows;</li>\n",
    "<li>Import column names from the database table.</li>\n",
    "</ul>\n",
    "<p>Recall that Hugo performed a very similar query customization in the video:</p>\n",
    "<pre><code>engine = create_engine('sqlite:///Northwind.sqlite')\n",
    "\n",
    "with engine.connect() as con:\n",
    "    rs = con.execute(\"SELECT OrderID, OrderDate, ShipName FROM Orders\")\n",
    "    df = pd.DataFrame(rs.fetchmany(size=5))\n",
    "    df.columns = rs.keys()\n",
    "</code></pre>\n",
    "<p>Packages have already been imported as follows:</p>\n",
    "<pre><code>from sqlalchemy import create_engine\n",
    "import pandas as pd\n",
    "</code></pre>\n",
    "<p>The engine has also already been created:</p>\n",
    "<pre><code>engine = create_engine('sqlite:///Chinook.sqlite')\n",
    "</code></pre>\n",
    "<p>The engine connection is already open with the statement</p>\n",
    "<pre><code>with engine.connect() as con:\n",
    "</code></pre>\n",
    "<p>All the code you need to complete is within this context.</p>"
   ],
   "execution_count": null,
   "cell_type": "markdown"
  },
  {
   "metadata": {
    "pycharm": {
     "name": "#%% md\n"
    }
   },
   "outputs": [],
   "source": [
    "Execute the SQL query that <strong>selects</strong> the columns <code>LastName</code> and <code>Title</code> <strong>from</strong> the <code>Employee</code> table. Store the results in the variable <code>rs</code>."
   ],
   "execution_count": null,
   "cell_type": "markdown"
  },
  {
   "cell_type": "markdown",
   "source": [
    "Apply the method <code>fetchmany()</code> to <code>rs</code> in order to retrieve 3 of the records. Store them in the DataFrame <code>df</code>."
   ],
   "metadata": {
    "collapsed": false,
    "pycharm": {
     "name": "#%% md\n"
    }
   }
  },
  {
   "cell_type": "code",
   "execution_count": 106,
   "outputs": [],
   "source": [
    "# Open engine in context manager\n",
    "# Perform query and save results to DataFrame: df\n",
    "with engine.connect() as con:\n",
    "    rs = con.execute(\"SELECT LastName,Title FROM Employee\")\n",
    "    df = pd.DataFrame(rs.fetchmany(3))\n",
    "    df.columns = rs.keys()"
   ],
   "metadata": {
    "collapsed": false,
    "pycharm": {
     "name": "#%%\n"
    }
   }
  },
  {
   "cell_type": "markdown",
   "source": [
    "Using the <code>rs</code> object, set the DataFrame's column names to the corresponding names of the table columns."
   ],
   "metadata": {
    "collapsed": false,
    "pycharm": {
     "name": "#%% md\n"
    }
   }
  },
  {
   "cell_type": "code",
   "execution_count": 107,
   "outputs": [
    {
     "name": "stdout",
     "output_type": "stream",
     "text": [
      "3\n",
      "  LastName                Title\n",
      "0    Adams      General Manager\n",
      "1  Edwards        Sales Manager\n",
      "2  Peacock  Sales Support Agent\n"
     ]
    }
   ],
   "source": [
    "\n",
    "# Print the length of the DataFrame df\n",
    "print(len(df))\n",
    "\n",
    "# Print the head of the DataFrame df\n",
    "print(df.head())"
   ],
   "metadata": {
    "collapsed": false,
    "pycharm": {
     "name": "#%%\n"
    }
   }
  },
  {
   "metadata": {
    "pycharm": {
     "name": "#%% md\n"
    }
   },
   "outputs": [],
   "source": [
    "## Filtering your database records using SQL's WHERE\n",
    "\n",
    "<p>You can now execute a basic SQL query to select records from any table in your database and you can also perform simple query customizations to select particular columns and numbers of rows.</p>\n",
    "<p>There are a couple more standard SQL query chops that will aid you in your journey to becoming an SQL ninja.</p>\n",
    "<p>Let's say, for example that you wanted to get all records from the <code>Customer</code> table of the Chinook database for which the <code>Country</code> is <code>'Canada'</code>. You can do this very easily in SQL using a <code>SELECT</code> statement followed by a <code>WHERE</code> clause as follows:</p>\n",
    "<pre><code>SELECT * FROM Customer WHERE Country = 'Canada'\n",
    "</code></pre>\n",
    "<p>In fact, you can filter any <code>SELECT</code> statement by any condition using a <code>WHERE</code> clause. This is called <em>filtering</em> your records.</p>\n",
    "<p>In this interactive exercise, you'll select all records of the <code>Employee</code> table for which <code>'EmployeeId'</code> is greater than or equal to <code>6</code>.</p>\n",
    "<p>Packages are already imported as follows:</p>\n",
    "<pre><code>import pandas as pd\n",
    "from sqlalchemy import create_engine\n",
    "</code></pre>\n",
    "<p>Query away!</p>"
   ],
   "execution_count": null,
   "cell_type": "markdown"
  },
  {
   "metadata": {
    "pycharm": {
     "name": "#%% md\n"
    }
   },
   "outputs": [],
   "source": [
    "Complete the argument of <code>create_engine()</code> so that the engine for the SQLite database <code>'Chinook.sqlite'</code> is created."
   ],
   "execution_count": null,
   "cell_type": "markdown"
  },
  {
   "metadata": {
    "pycharm": {
     "name": "#%% md\n"
    }
   },
   "outputs": [],
   "source": [
    "Execute the query that <strong>selects</strong> <em>all</em> records <strong>from</strong> the <code>Employee</code> table <strong>where</strong> <code>'EmployeeId'</code> is greater than or equal to <code>6</code>. Use the <code>&gt;=</code> operator and assign the results to <code>rs</code>."
   ],
   "execution_count": null,
   "cell_type": "markdown"
  },
  {
   "metadata": {
    "pycharm": {
     "name": "#%% md\n"
    }
   },
   "outputs": [],
   "source": [
    "Apply the method <code>fetchall()</code> to <code>rs</code> in order to fetch all records in <code>rs</code>. Store them in the DataFrame <code>df</code>."
   ],
   "execution_count": null,
   "cell_type": "markdown"
  },
  {
   "metadata": {
    "pycharm": {
     "name": "#%% md\n"
    }
   },
   "outputs": [],
   "source": [
    "Using the <code>rs</code> object, set the DataFrame's column names to the corresponding names of the table columns."
   ],
   "execution_count": null,
   "cell_type": "markdown"
  },
  {
   "cell_type": "code",
   "execution_count": 108,
   "outputs": [
    {
     "name": "stdout",
     "output_type": "stream",
     "text": [
      "   EmployeeId  LastName FirstName       Title  ReportsTo            BirthDate  \\\n",
      "0           6  Mitchell   Michael  IT Manager          1  1973-07-01 00:00:00   \n",
      "1           7      King    Robert    IT Staff          6  1970-05-29 00:00:00   \n",
      "2           8  Callahan     Laura    IT Staff          6  1968-01-09 00:00:00   \n",
      "\n",
      "              HireDate                      Address        City State Country  \\\n",
      "0  2003-10-17 00:00:00         5827 Bowness Road NW     Calgary    AB  Canada   \n",
      "1  2004-01-02 00:00:00  590 Columbia Boulevard West  Lethbridge    AB  Canada   \n",
      "2  2004-03-04 00:00:00                  923 7 ST NW  Lethbridge    AB  Canada   \n",
      "\n",
      "  PostalCode              Phone                Fax                    Email  \n",
      "0    T3B 0C5  +1 (403) 246-9887  +1 (403) 246-9899  michael@chinookcorp.com  \n",
      "1    T1K 5N8  +1 (403) 456-9986  +1 (403) 456-8485   robert@chinookcorp.com  \n",
      "2    T1H 1Y8  +1 (403) 467-3351  +1 (403) 467-8772    laura@chinookcorp.com  \n"
     ]
    }
   ],
   "source": [
    "\n",
    "# Open engine in context manager\n",
    "# Perform query and save results to DataFrame: df\n",
    "with engine.connect() as con:\n",
    "    rs = con.execute(\"Select * from Employee where EmployeeId >= 6\")\n",
    "    df = pd.DataFrame(rs.fetchall())\n",
    "    df.columns = rs.keys()\n",
    "\n",
    "# Print the head of the DataFrame df\n",
    "print(df.head())"
   ],
   "metadata": {
    "collapsed": false,
    "pycharm": {
     "name": "#%%\n"
    }
   }
  },
  {
   "metadata": {
    "pycharm": {
     "name": "#%% md\n"
    }
   },
   "outputs": [],
   "source": [
    "## Ordering your SQL records with ORDER BY\n",
    "\n",
    "<p>You can also <em>order</em> your SQL query results. For example, if you wanted to get all records from the <code>Customer</code> table of the Chinook database and order them in increasing order by the column <code>SupportRepId</code>, you could do so with the following query:</p>\n",
    "<pre><code>\"SELECT * FROM Customer ORDER BY SupportRepId\"\n",
    "</code></pre>\n",
    "<p>In fact, you can order any <code>SELECT</code> statement by any column.</p>\n",
    "<p>In this interactive exercise, you'll select all records of the <code>Employee</code> table and order them in increasing order by the column <code>BirthDate</code>.</p>\n",
    "<p>Packages are already imported as follows:</p>\n",
    "<pre><code>import pandas as pd\n",
    "from sqlalchemy import create_engine\n",
    "</code></pre>\n",
    "<p>Get querying!</p>"
   ],
   "execution_count": null,
   "cell_type": "markdown"
  },
  {
   "metadata": {
    "pycharm": {
     "name": "#%% md\n"
    }
   },
   "outputs": [],
   "source": [
    "Using the function <code>create_engine()</code>, create an engine for the SQLite database <code>Chinook.sqlite</code> and assign it to the variable <code>engine</code>."
   ],
   "execution_count": null,
   "cell_type": "markdown"
  },
  {
   "metadata": {
    "pycharm": {
     "name": "#%% md\n"
    }
   },
   "outputs": [],
   "source": [
    "In the context manager, execute the query that <strong>selects</strong> <em>all</em> records <strong>from</strong> the <code>Employee</code> table and <strong>orders</strong> them in increasing order <strong>by</strong> the column <code>BirthDate</code>. Assign the result to <code>rs</code>."
   ],
   "execution_count": null,
   "cell_type": "markdown"
  },
  {
   "metadata": {
    "pycharm": {
     "name": "#%% md\n"
    }
   },
   "outputs": [],
   "source": [
    "In a call to <code>pd.DataFrame()</code>, apply the method <code>fetchall()</code> to <code>rs</code> in order to fetch all records in <code>rs</code>. Store them in the DataFrame <code>df</code>."
   ],
   "execution_count": null,
   "cell_type": "markdown"
  },
  {
   "metadata": {
    "pycharm": {
     "name": "#%% md\n"
    }
   },
   "outputs": [],
   "source": [
    "Set the DataFrame's column names to the corresponding names of the table columns."
   ],
   "execution_count": null,
   "cell_type": "markdown"
  },
  {
   "cell_type": "code",
   "execution_count": 109,
   "outputs": [
    {
     "name": "stdout",
     "output_type": "stream",
     "text": [
      "   EmployeeId  LastName FirstName                Title  ReportsTo  \\\n",
      "0           4      Park  Margaret  Sales Support Agent        2.0   \n",
      "1           2   Edwards     Nancy        Sales Manager        1.0   \n",
      "2           1     Adams    Andrew      General Manager        NaN   \n",
      "3           5   Johnson     Steve  Sales Support Agent        2.0   \n",
      "4           8  Callahan     Laura             IT Staff        6.0   \n",
      "\n",
      "             BirthDate             HireDate              Address        City  \\\n",
      "0  1947-09-19 00:00:00  2003-05-03 00:00:00     683 10 Street SW     Calgary   \n",
      "1  1958-12-08 00:00:00  2002-05-01 00:00:00         825 8 Ave SW     Calgary   \n",
      "2  1962-02-18 00:00:00  2002-08-14 00:00:00  11120 Jasper Ave NW    Edmonton   \n",
      "3  1965-03-03 00:00:00  2003-10-17 00:00:00         7727B 41 Ave     Calgary   \n",
      "4  1968-01-09 00:00:00  2004-03-04 00:00:00          923 7 ST NW  Lethbridge   \n",
      "\n",
      "  State Country PostalCode              Phone                Fax  \\\n",
      "0    AB  Canada    T2P 5G3  +1 (403) 263-4423  +1 (403) 263-4289   \n",
      "1    AB  Canada    T2P 2T3  +1 (403) 262-3443  +1 (403) 262-3322   \n",
      "2    AB  Canada    T5K 2N1  +1 (780) 428-9482  +1 (780) 428-3457   \n",
      "3    AB  Canada    T3B 1Y7   1 (780) 836-9987   1 (780) 836-9543   \n",
      "4    AB  Canada    T1H 1Y8  +1 (403) 467-3351  +1 (403) 467-8772   \n",
      "\n",
      "                      Email  \n",
      "0  margaret@chinookcorp.com  \n",
      "1     nancy@chinookcorp.com  \n",
      "2    andrew@chinookcorp.com  \n",
      "3     steve@chinookcorp.com  \n",
      "4     laura@chinookcorp.com  \n"
     ]
    }
   ],
   "source": [
    "# Open engine in context manager\n",
    "with engine.connect() as con:\n",
    "    rs = con.execute(\"Select * from Employee order by BirthDate\")\n",
    "    df = pd.DataFrame(rs.fetchall())\n",
    "\n",
    "    # Set the DataFrame's column names\n",
    "    df.columns = rs.keys()\n",
    "\n",
    "# Print head of DataFrame\n",
    "print(df.head())"
   ],
   "metadata": {
    "collapsed": false,
    "pycharm": {
     "name": "#%%\n"
    }
   }
  },
  {
   "metadata": {
    "pycharm": {
     "name": "#%% md\n"
    }
   },
   "outputs": [],
   "source": [
    "## Querying relational databases directly with pandas"
   ],
   "execution_count": null,
   "cell_type": "markdown"
  },
  {
   "metadata": {
    "pycharm": {
     "name": "#%% md\n"
    }
   },
   "outputs": [],
   "source": [
    "### 1. Querying relational databases directly with pandas\n",
    "\n",
    "You have seen that,"
   ],
   "execution_count": null,
   "cell_type": "markdown"
  },
  {
   "metadata": {
    "pycharm": {
     "name": "#%% md\n"
    }
   },
   "outputs": [],
   "source": [
    "### 2. The pandas way to query\n",
    "\n",
    "after creating a database engine, you can get the results of any particular line using 4 lines of code: connecting, executing a query, passing the results to a dataframe and naming the columns: 4 lines of code is pretty good but you can do better! You can actually do it in 1 line, utilizing the pandas function read_sql_query and passing it 2 arguments. The first argument will be the query you wish to make, the 2nd argument the engine you want to connect to. And thus you can achieve the same as this code by executing this single line. The power of pandas! In the following exercises, you'll gain more expertise in writing SQL queries and using pandas to execute them."
   ],
   "execution_count": null,
   "cell_type": "markdown"
  },
  {
   "cell_type": "code",
   "execution_count": 110,
   "outputs": [
    {
     "data": {
      "text/plain": "   EmployeeId LastName FirstName                Title  ReportsTo  \\\n0           1    Adams    Andrew      General Manager        NaN   \n1           2  Edwards     Nancy        Sales Manager        1.0   \n2           3  Peacock      Jane  Sales Support Agent        2.0   \n3           4     Park  Margaret  Sales Support Agent        2.0   \n4           5  Johnson     Steve  Sales Support Agent        2.0   \n\n             BirthDate             HireDate              Address      City  \\\n0  1962-02-18 00:00:00  2002-08-14 00:00:00  11120 Jasper Ave NW  Edmonton   \n1  1958-12-08 00:00:00  2002-05-01 00:00:00         825 8 Ave SW   Calgary   \n2  1973-08-29 00:00:00  2002-04-01 00:00:00        1111 6 Ave SW   Calgary   \n3  1947-09-19 00:00:00  2003-05-03 00:00:00     683 10 Street SW   Calgary   \n4  1965-03-03 00:00:00  2003-10-17 00:00:00         7727B 41 Ave   Calgary   \n\n  State Country PostalCode              Phone                Fax  \\\n0    AB  Canada    T5K 2N1  +1 (780) 428-9482  +1 (780) 428-3457   \n1    AB  Canada    T2P 2T3  +1 (403) 262-3443  +1 (403) 262-3322   \n2    AB  Canada    T2P 5M5  +1 (403) 262-3443  +1 (403) 262-6712   \n3    AB  Canada    T2P 5G3  +1 (403) 263-4423  +1 (403) 263-4289   \n4    AB  Canada    T3B 1Y7   1 (780) 836-9987   1 (780) 836-9543   \n\n                      Email  \n0    andrew@chinookcorp.com  \n1     nancy@chinookcorp.com  \n2      jane@chinookcorp.com  \n3  margaret@chinookcorp.com  \n4     steve@chinookcorp.com  ",
      "text/html": "<div>\n<style scoped>\n    .dataframe tbody tr th:only-of-type {\n        vertical-align: middle;\n    }\n\n    .dataframe tbody tr th {\n        vertical-align: top;\n    }\n\n    .dataframe thead th {\n        text-align: right;\n    }\n</style>\n<table border=\"1\" class=\"dataframe\">\n  <thead>\n    <tr style=\"text-align: right;\">\n      <th></th>\n      <th>EmployeeId</th>\n      <th>LastName</th>\n      <th>FirstName</th>\n      <th>Title</th>\n      <th>ReportsTo</th>\n      <th>BirthDate</th>\n      <th>HireDate</th>\n      <th>Address</th>\n      <th>City</th>\n      <th>State</th>\n      <th>Country</th>\n      <th>PostalCode</th>\n      <th>Phone</th>\n      <th>Fax</th>\n      <th>Email</th>\n    </tr>\n  </thead>\n  <tbody>\n    <tr>\n      <th>0</th>\n      <td>1</td>\n      <td>Adams</td>\n      <td>Andrew</td>\n      <td>General Manager</td>\n      <td>NaN</td>\n      <td>1962-02-18 00:00:00</td>\n      <td>2002-08-14 00:00:00</td>\n      <td>11120 Jasper Ave NW</td>\n      <td>Edmonton</td>\n      <td>AB</td>\n      <td>Canada</td>\n      <td>T5K 2N1</td>\n      <td>+1 (780) 428-9482</td>\n      <td>+1 (780) 428-3457</td>\n      <td>andrew@chinookcorp.com</td>\n    </tr>\n    <tr>\n      <th>1</th>\n      <td>2</td>\n      <td>Edwards</td>\n      <td>Nancy</td>\n      <td>Sales Manager</td>\n      <td>1.0</td>\n      <td>1958-12-08 00:00:00</td>\n      <td>2002-05-01 00:00:00</td>\n      <td>825 8 Ave SW</td>\n      <td>Calgary</td>\n      <td>AB</td>\n      <td>Canada</td>\n      <td>T2P 2T3</td>\n      <td>+1 (403) 262-3443</td>\n      <td>+1 (403) 262-3322</td>\n      <td>nancy@chinookcorp.com</td>\n    </tr>\n    <tr>\n      <th>2</th>\n      <td>3</td>\n      <td>Peacock</td>\n      <td>Jane</td>\n      <td>Sales Support Agent</td>\n      <td>2.0</td>\n      <td>1973-08-29 00:00:00</td>\n      <td>2002-04-01 00:00:00</td>\n      <td>1111 6 Ave SW</td>\n      <td>Calgary</td>\n      <td>AB</td>\n      <td>Canada</td>\n      <td>T2P 5M5</td>\n      <td>+1 (403) 262-3443</td>\n      <td>+1 (403) 262-6712</td>\n      <td>jane@chinookcorp.com</td>\n    </tr>\n    <tr>\n      <th>3</th>\n      <td>4</td>\n      <td>Park</td>\n      <td>Margaret</td>\n      <td>Sales Support Agent</td>\n      <td>2.0</td>\n      <td>1947-09-19 00:00:00</td>\n      <td>2003-05-03 00:00:00</td>\n      <td>683 10 Street SW</td>\n      <td>Calgary</td>\n      <td>AB</td>\n      <td>Canada</td>\n      <td>T2P 5G3</td>\n      <td>+1 (403) 263-4423</td>\n      <td>+1 (403) 263-4289</td>\n      <td>margaret@chinookcorp.com</td>\n    </tr>\n    <tr>\n      <th>4</th>\n      <td>5</td>\n      <td>Johnson</td>\n      <td>Steve</td>\n      <td>Sales Support Agent</td>\n      <td>2.0</td>\n      <td>1965-03-03 00:00:00</td>\n      <td>2003-10-17 00:00:00</td>\n      <td>7727B 41 Ave</td>\n      <td>Calgary</td>\n      <td>AB</td>\n      <td>Canada</td>\n      <td>T3B 1Y7</td>\n      <td>1 (780) 836-9987</td>\n      <td>1 (780) 836-9543</td>\n      <td>steve@chinookcorp.com</td>\n    </tr>\n  </tbody>\n</table>\n</div>"
     },
     "execution_count": 110,
     "metadata": {},
     "output_type": "execute_result"
    }
   ],
   "source": [
    "df = pd.read_sql_query(\"Select * from employee\",engine)\n",
    "df.head()"
   ],
   "metadata": {
    "collapsed": false,
    "pycharm": {
     "name": "#%%\n"
    }
   }
  },
  {
   "metadata": {
    "pycharm": {
     "name": "#%% md\n"
    }
   },
   "outputs": [],
   "source": [
    "### 3. Let's practice!\n",
    "\n",
    "What are you waiting for? The end of this video? Let's do it!"
   ],
   "execution_count": null,
   "cell_type": "markdown"
  },
  {
   "metadata": {
    "pycharm": {
     "name": "#%% md\n"
    }
   },
   "outputs": [],
   "source": [
    "## Pandas and The Hello World of SQL Queries!\n",
    "\n",
    "<p>Here, you'll take advantage of the power of <code>pandas</code> to write the results of your SQL query to a DataFrame in one swift line of Python code!</p>\n",
    "<p>You'll first import <code>pandas</code> and create the SQLite <code>'Chinook.sqlite'</code> engine. Then you'll query the database to select all records from the <code>Album</code> table.</p>\n",
    "<p>Recall that to select all records from the <code>Orders</code> table in the Northwind database, Hugo executed the following command:</p>\n",
    "<pre><code>df = pd.read_sql_query(\"SELECT * FROM Orders\", engine)\n",
    "</code></pre>"
   ],
   "execution_count": null,
   "cell_type": "markdown"
  },
  {
   "metadata": {
    "pycharm": {
     "name": "#%% md\n"
    }
   },
   "outputs": [],
   "source": [
    "Using the function <code>create_engine()</code>, create an engine for the SQLite database <code>Chinook.sqlite</code> and assign it to the variable <code>engine</code>."
   ],
   "execution_count": null,
   "cell_type": "markdown"
  },
  {
   "cell_type": "code",
   "execution_count": 111,
   "outputs": [],
   "source": [
    "\n",
    "# Create engine: engine\n",
    "engine = create_engine(\"sqlite:///data/Chinook.sqlite\")"
   ],
   "metadata": {
    "collapsed": false,
    "pycharm": {
     "name": "#%%\n"
    }
   }
  },
  {
   "cell_type": "markdown",
   "source": [
    "Use the <code>pandas</code> function <code>read_sql_query()</code> to assign to the variable <code>df</code> the DataFrame of results from the following query: <strong>select</strong> <em>all</em> records <strong>from</strong> the table <code>Album</code>."
   ],
   "metadata": {
    "collapsed": false,
    "pycharm": {
     "name": "#%% md\n"
    }
   }
  },
  {
   "cell_type": "code",
   "execution_count": 112,
   "outputs": [
    {
     "name": "stdout",
     "output_type": "stream",
     "text": [
      "   AlbumId                                  Title  ArtistId\n",
      "0        1  For Those About To Rock We Salute You         1\n",
      "1        2                      Balls to the Wall         2\n",
      "2        3                      Restless and Wild         2\n",
      "3        4                      Let There Be Rock         1\n",
      "4        5                               Big Ones         3\n"
     ]
    }
   ],
   "source": [
    "\n",
    "# Execute query and store records in DataFrame: df\n",
    "df = pd.read_sql_query(\"SELECT * FROM Album\", engine)\n",
    "\n",
    "# Print head of DataFrame\n",
    "print(df.head())"
   ],
   "metadata": {
    "collapsed": false,
    "pycharm": {
     "name": "#%%\n"
    }
   }
  },
  {
   "cell_type": "markdown",
   "source": [
    "The remainder of the code is included to confirm that the DataFrame created by this method is equal to that created by the previous method that you learned."
   ],
   "metadata": {
    "collapsed": false,
    "pycharm": {
     "name": "#%% md\n"
    }
   }
  },
  {
   "cell_type": "code",
   "execution_count": 113,
   "outputs": [
    {
     "name": "stdout",
     "output_type": "stream",
     "text": [
      "True\n"
     ]
    }
   ],
   "source": [
    "\n",
    "# Open engine in context manager and store query result in df1\n",
    "with engine.connect() as con:\n",
    "    rs = con.execute(\"SELECT * FROM Album\")\n",
    "    df1 = pd.DataFrame(rs.fetchall())\n",
    "    df1.columns = rs.keys()\n",
    "\n",
    "# Confirm that both methods yield the same result\n",
    "print(df.equals(df1))"
   ],
   "metadata": {
    "collapsed": false,
    "pycharm": {
     "name": "#%%\n"
    }
   }
  },
  {
   "metadata": {
    "pycharm": {
     "name": "#%% md\n"
    }
   },
   "outputs": [],
   "source": [
    "## Pandas for more complex querying\n",
    "\n",
    "<p>Here, you'll become more familiar with the pandas function <code>read_sql_query()</code> by using it to execute a more complex query: a <code>SELECT</code> statement followed by both a <code>WHERE</code> clause AND an <code>ORDER BY</code> clause.</p>\n",
    "<p>You'll build a DataFrame that contains the rows of the <code>Employee</code> table for which the <code>EmployeeId</code> is greater than or equal to <code>6</code> and you'll order these entries by <code>BirthDate</code>.</p>"
   ],
   "execution_count": null,
   "cell_type": "markdown"
  },
  {
   "metadata": {
    "pycharm": {
     "name": "#%% md\n"
    }
   },
   "outputs": [],
   "source": [
    "Using the function <code>create_engine()</code>, create an engine for the SQLite database <code>Chinook.sqlite</code> and assign it to the variable <code>engine</code>."
   ],
   "execution_count": null,
   "cell_type": "markdown"
  },
  {
   "cell_type": "code",
   "execution_count": 114,
   "outputs": [],
   "source": [
    "\n",
    "# Create engine: engine\n",
    "engine = create_engine(\"sqlite:///data/Chinook.sqlite\")"
   ],
   "metadata": {
    "collapsed": false,
    "pycharm": {
     "name": "#%%\n"
    }
   }
  },
  {
   "metadata": {
    "pycharm": {
     "name": "#%% md\n"
    }
   },
   "outputs": [],
   "source": [
    "Use the <code>pandas</code> function <code>read_sql_query()</code> to assign to the variable <code>df</code> the DataFrame of results from the following query: <strong>select</strong> <em>all</em> records <strong>from</strong> the <code>Employee</code> table <strong>where</strong> the <code>EmployeeId</code> is greater than or equal to <code>6</code> and <strong>ordered by</strong> <code>BirthDate</code> (make sure to use <code>WHERE</code> and <code>ORDER BY</code> in this precise order)."
   ],
   "execution_count": null,
   "cell_type": "markdown"
  },
  {
   "cell_type": "code",
   "execution_count": 116,
   "outputs": [
    {
     "name": "stdout",
     "output_type": "stream",
     "text": [
      "   EmployeeId  LastName FirstName       Title  ReportsTo            BirthDate  \\\n",
      "0           8  Callahan     Laura    IT Staff          6  1968-01-09 00:00:00   \n",
      "1           7      King    Robert    IT Staff          6  1970-05-29 00:00:00   \n",
      "2           6  Mitchell   Michael  IT Manager          1  1973-07-01 00:00:00   \n",
      "\n",
      "              HireDate                      Address        City State Country  \\\n",
      "0  2004-03-04 00:00:00                  923 7 ST NW  Lethbridge    AB  Canada   \n",
      "1  2004-01-02 00:00:00  590 Columbia Boulevard West  Lethbridge    AB  Canada   \n",
      "2  2003-10-17 00:00:00         5827 Bowness Road NW     Calgary    AB  Canada   \n",
      "\n",
      "  PostalCode              Phone                Fax                    Email  \n",
      "0    T1H 1Y8  +1 (403) 467-3351  +1 (403) 467-8772    laura@chinookcorp.com  \n",
      "1    T1K 5N8  +1 (403) 456-9986  +1 (403) 456-8485   robert@chinookcorp.com  \n",
      "2    T3B 0C5  +1 (403) 246-9887  +1 (403) 246-9899  michael@chinookcorp.com  \n"
     ]
    }
   ],
   "source": [
    "\n",
    "\n",
    "# Execute query and store records in DataFrame: df\n",
    "df = pd.read_sql_query(\"select * from Employee where EmployeeId >= 6 order by BirthDate\",engine)\n",
    "\n",
    "# Print head of DataFrame\n",
    "print(df.head())\n"
   ],
   "metadata": {
    "collapsed": false,
    "pycharm": {
     "name": "#%%\n"
    }
   }
  },
  {
   "metadata": {
    "pycharm": {
     "name": "#%% md\n"
    }
   },
   "outputs": [],
   "source": [
    "## Advanced querying: exploiting table relationships"
   ],
   "execution_count": null,
   "cell_type": "markdown"
  },
  {
   "metadata": {
    "pycharm": {
     "name": "#%% md\n"
    }
   },
   "outputs": [],
   "source": [
    "### 1. Advanced querying: exploiting table relationships\n",
    "\n",
    "By now, you have become familiar with querying individual tables of databases, such as the 'Orders' table of the Northwind database. You will remember, however, that much of the power of relational databases stems from the fact that they can capture relationships between tables: the tables are linked!"
   ],
   "execution_count": null,
   "cell_type": "markdown"
  },
  {
   "metadata": {
    "pycharm": {
     "name": "#%% md\n"
    }
   },
   "outputs": [],
   "source": [
    "### 2. Tables are linked\n",
    "\n",
    "For example, as we saw earlier, the 'Orders' table of the the Northwind Traders database has both a column called"
   ],
   "execution_count": null,
   "cell_type": "markdown"
  },
  {
   "metadata": {
    "pycharm": {
     "name": "#%% md\n"
    }
   },
   "outputs": [],
   "source": [
    "### 3. Tables are linked\n",
    "\n",
    "'CustomerID' and one called 'EmployeeID', columns which correspond precisely to the"
   ],
   "execution_count": null,
   "cell_type": "markdown"
  },
  {
   "metadata": {
    "pycharm": {
     "name": "#%% md\n"
    }
   },
   "outputs": [],
   "source": [
    "### 4. Tables are linked\n",
    "\n",
    "primary keys in the 'Customers' and 'Employees' tables, respectively. This means that, given an Order, you can immediately look up the details of the relevant Customer or Employee in the appropriate table."
   ],
   "execution_count": null,
   "cell_type": "markdown"
  },
  {
   "metadata": {
    "pycharm": {
     "name": "#%% md\n"
    }
   },
   "outputs": [],
   "source": [
    "### 5. JOINing tables\n",
    "\n",
    "Now what if you want to incorporate such information into your query? For example, if you want to query the 'Orders' table and include, for each Order, information about the corresponding Customer from the 'Customers' table? A specific illustrative example will go a long way here: let's say that we wanted, for each Order, to get the"
   ],
   "execution_count": null,
   "cell_type": "markdown"
  },
  {
   "metadata": {
    "pycharm": {
     "name": "#%% md\n"
    }
   },
   "outputs": [],
   "source": [
    "### 6. JOINing tables\n",
    "\n",
    "OrderID and the"
   ],
   "execution_count": null,
   "cell_type": "markdown"
  },
  {
   "metadata": {
    "pycharm": {
     "name": "#%% md\n"
    }
   },
   "outputs": [],
   "source": [
    "### 7. JOINing tables\n",
    "\n",
    "CompanyName of the Customer. The OrderID lives in the 'Orders' table while the CompanyName lives in the 'Customers' table. SQL has a really clever way of doing this: it's called a JOIN because what you're really doing is joining two tables together,"
   ],
   "execution_count": null,
   "cell_type": "markdown"
  },
  {
   "metadata": {
    "pycharm": {
     "name": "#%% md\n"
    }
   },
   "outputs": [],
   "source": [
    "### 8. JOINing tables\n",
    "\n",
    "in this case, the 'Orders' and"
   ],
   "execution_count": null,
   "cell_type": "markdown"
  },
  {
   "metadata": {
    "pycharm": {
     "name": "#%% md\n"
    }
   },
   "outputs": [],
   "source": [
    "### 9. JOINing tables\n",
    "\n",
    "'Customers' tables. Specifically"
   ],
   "execution_count": null,
   "cell_type": "markdown"
  },
  {
   "metadata": {
    "pycharm": {
     "name": "#%% md\n"
    }
   },
   "outputs": [],
   "source": [
    "### 10. INNER JOIN in Python (pandas)\n",
    "\n",
    "it's an INNER JOIN. There are other types of JOINs which we won't cover here. As it's the CustomerID columns of the 'Orders' and 'Customers' tables that correspond to each, you'll want to JOIN the tables ON these columns and that is precisely what I have done in this code. The notation of dot followed by Column name is merely selecting a column of a table. The table that we are selecting from is \"Orders INNER JOIN Customers on Orders dot CustomerID equals Customers dot CustomerID\" and I am selecting the OrderID column and the CompanyName column of this new table. I know that that's a bit to take in, but after you get your hands dirty performing some INNER JOINs, you'll be far more comfortable with this advanced querying technique."
   ],
   "execution_count": null,
   "cell_type": "markdown"
  },
  {
   "metadata": {
    "pycharm": {
     "name": "#%% md\n"
    }
   },
   "outputs": [],
   "source": [
    "### 11. Let's practice!\n",
    "\n",
    "It's your turn to query!"
   ],
   "execution_count": null,
   "cell_type": "markdown"
  },
  {
   "metadata": {
    "pycharm": {
     "name": "#%% md\n"
    }
   },
   "outputs": [],
   "source": [
    "## The power of SQL lies in relationships between tables: INNER JOIN\n",
    "\n",
    "<p>Here, you'll perform your first <code>INNER JOIN</code>! You'll be working with your favourite SQLite database, <code>Chinook.sqlite</code>. For each record in the <code>Album</code> table, you'll extract the <code>Title</code> along with the <code>Name</code> of the <code>Artist</code>. The latter will come from the <code>Artist</code> table and so you will need to <code>INNER JOIN</code> these two tables on the <code>ArtistID</code> column of both.</p>\n",
    "<p>Recall that to <code>INNER JOIN</code> the <code>Orders</code> and <code>Customers</code> tables from the Northwind database, Hugo executed the following SQL query:</p>\n",
    "<pre><code>\"SELECT OrderID, CompanyName FROM Orders INNER JOIN Customers on Orders.CustomerID = Customers.CustomerID\"\n",
    "</code></pre>\n",
    "<p>The following code has already been executed to import the necessary packages and to create the engine:</p>\n",
    "<pre><code>import pandas as pd\n",
    "from sqlalchemy import create_engine\n",
    "engine = create_engine('sqlite:///Chinook.sqlite')\n",
    "</code></pre>"
   ],
   "execution_count": null,
   "cell_type": "markdown"
  },
  {
   "metadata": {
    "pycharm": {
     "name": "#%% md\n"
    }
   },
   "outputs": [],
   "source": [
    "Assign to <code>rs</code> the results from the following query: <strong>select</strong> <em>all</em> the records, extracting the <code>Title</code> of the record and <code>Name</code> of the artist of each record <strong>from</strong> the <code>Album</code> table and the <code>Artist</code> table, respectively. To do so, <code>INNER JOIN</code> these two tables on the <code>ArtistID</code> column of both."
   ],
   "execution_count": null,
   "cell_type": "markdown"
  },
  {
   "metadata": {
    "pycharm": {
     "name": "#%% md\n"
    }
   },
   "outputs": [],
   "source": [
    "In a call to <code>pd.DataFrame()</code>, apply the method <code>fetchall()</code> to <code>rs</code> in order to fetch all records in <code>rs</code>. Store them in the DataFrame <code>df</code>."
   ],
   "execution_count": null,
   "cell_type": "markdown"
  },
  {
   "metadata": {
    "pycharm": {
     "name": "#%% md\n"
    }
   },
   "outputs": [],
   "source": [
    "Set the DataFrame's column names to the corresponding names of the table columns."
   ],
   "execution_count": null,
   "cell_type": "markdown"
  },
  {
   "cell_type": "code",
   "execution_count": 117,
   "outputs": [
    {
     "data": {
      "text/plain": "     AlbumId                                              Title  ArtistId\n0          1              For Those About To Rock We Salute You         1\n1          2                                  Balls to the Wall         2\n2          3                                  Restless and Wild         2\n3          4                                  Let There Be Rock         1\n4          5                                           Big Ones         3\n..       ...                                                ...       ...\n342      343                             Respighi:Pines of Rome       226\n343      344  Schubert: The Late String Quartets & String Qu...       272\n344      345                                Monteverdi: L'Orfeo       273\n345      346                              Mozart: Chamber Music       274\n346      347  Koyaanisqatsi (Soundtrack from the Motion Pict...       275\n\n[347 rows x 3 columns]",
      "text/html": "<div>\n<style scoped>\n    .dataframe tbody tr th:only-of-type {\n        vertical-align: middle;\n    }\n\n    .dataframe tbody tr th {\n        vertical-align: top;\n    }\n\n    .dataframe thead th {\n        text-align: right;\n    }\n</style>\n<table border=\"1\" class=\"dataframe\">\n  <thead>\n    <tr style=\"text-align: right;\">\n      <th></th>\n      <th>AlbumId</th>\n      <th>Title</th>\n      <th>ArtistId</th>\n    </tr>\n  </thead>\n  <tbody>\n    <tr>\n      <th>0</th>\n      <td>1</td>\n      <td>For Those About To Rock We Salute You</td>\n      <td>1</td>\n    </tr>\n    <tr>\n      <th>1</th>\n      <td>2</td>\n      <td>Balls to the Wall</td>\n      <td>2</td>\n    </tr>\n    <tr>\n      <th>2</th>\n      <td>3</td>\n      <td>Restless and Wild</td>\n      <td>2</td>\n    </tr>\n    <tr>\n      <th>3</th>\n      <td>4</td>\n      <td>Let There Be Rock</td>\n      <td>1</td>\n    </tr>\n    <tr>\n      <th>4</th>\n      <td>5</td>\n      <td>Big Ones</td>\n      <td>3</td>\n    </tr>\n    <tr>\n      <th>...</th>\n      <td>...</td>\n      <td>...</td>\n      <td>...</td>\n    </tr>\n    <tr>\n      <th>342</th>\n      <td>343</td>\n      <td>Respighi:Pines of Rome</td>\n      <td>226</td>\n    </tr>\n    <tr>\n      <th>343</th>\n      <td>344</td>\n      <td>Schubert: The Late String Quartets &amp; String Qu...</td>\n      <td>272</td>\n    </tr>\n    <tr>\n      <th>344</th>\n      <td>345</td>\n      <td>Monteverdi: L'Orfeo</td>\n      <td>273</td>\n    </tr>\n    <tr>\n      <th>345</th>\n      <td>346</td>\n      <td>Mozart: Chamber Music</td>\n      <td>274</td>\n    </tr>\n    <tr>\n      <th>346</th>\n      <td>347</td>\n      <td>Koyaanisqatsi (Soundtrack from the Motion Pict...</td>\n      <td>275</td>\n    </tr>\n  </tbody>\n</table>\n<p>347 rows × 3 columns</p>\n</div>"
     },
     "execution_count": 117,
     "metadata": {},
     "output_type": "execute_result"
    }
   ],
   "source": [
    "pd.read_sql_query(\"Select * from Album\",engine)"
   ],
   "metadata": {
    "collapsed": false,
    "pycharm": {
     "name": "#%%\n"
    }
   }
  },
  {
   "cell_type": "code",
   "execution_count": 118,
   "outputs": [
    {
     "data": {
      "text/plain": "     ArtistId                                               Name\n0           1                                              AC/DC\n1           2                                             Accept\n2           3                                          Aerosmith\n3           4                                  Alanis Morissette\n4           5                                    Alice In Chains\n..        ...                                                ...\n270       271   Mela Tenenbaum, Pro Musica Prague & Richard Kapp\n271       272                             Emerson String Quartet\n272       273  C. Monteverdi, Nigel Rogers - Chiaroscuro; Lon...\n273       274                                      Nash Ensemble\n274       275                              Philip Glass Ensemble\n\n[275 rows x 2 columns]",
      "text/html": "<div>\n<style scoped>\n    .dataframe tbody tr th:only-of-type {\n        vertical-align: middle;\n    }\n\n    .dataframe tbody tr th {\n        vertical-align: top;\n    }\n\n    .dataframe thead th {\n        text-align: right;\n    }\n</style>\n<table border=\"1\" class=\"dataframe\">\n  <thead>\n    <tr style=\"text-align: right;\">\n      <th></th>\n      <th>ArtistId</th>\n      <th>Name</th>\n    </tr>\n  </thead>\n  <tbody>\n    <tr>\n      <th>0</th>\n      <td>1</td>\n      <td>AC/DC</td>\n    </tr>\n    <tr>\n      <th>1</th>\n      <td>2</td>\n      <td>Accept</td>\n    </tr>\n    <tr>\n      <th>2</th>\n      <td>3</td>\n      <td>Aerosmith</td>\n    </tr>\n    <tr>\n      <th>3</th>\n      <td>4</td>\n      <td>Alanis Morissette</td>\n    </tr>\n    <tr>\n      <th>4</th>\n      <td>5</td>\n      <td>Alice In Chains</td>\n    </tr>\n    <tr>\n      <th>...</th>\n      <td>...</td>\n      <td>...</td>\n    </tr>\n    <tr>\n      <th>270</th>\n      <td>271</td>\n      <td>Mela Tenenbaum, Pro Musica Prague &amp; Richard Kapp</td>\n    </tr>\n    <tr>\n      <th>271</th>\n      <td>272</td>\n      <td>Emerson String Quartet</td>\n    </tr>\n    <tr>\n      <th>272</th>\n      <td>273</td>\n      <td>C. Monteverdi, Nigel Rogers - Chiaroscuro; Lon...</td>\n    </tr>\n    <tr>\n      <th>273</th>\n      <td>274</td>\n      <td>Nash Ensemble</td>\n    </tr>\n    <tr>\n      <th>274</th>\n      <td>275</td>\n      <td>Philip Glass Ensemble</td>\n    </tr>\n  </tbody>\n</table>\n<p>275 rows × 2 columns</p>\n</div>"
     },
     "execution_count": 118,
     "metadata": {},
     "output_type": "execute_result"
    }
   ],
   "source": [
    "pd.read_sql_query(\"Select * from Artist\",engine)\n"
   ],
   "metadata": {
    "collapsed": false,
    "pycharm": {
     "name": "#%%\n"
    }
   }
  },
  {
   "cell_type": "code",
   "execution_count": 119,
   "outputs": [
    {
     "name": "stdout",
     "output_type": "stream",
     "text": [
      "                                   Title       Name\n",
      "0  For Those About To Rock We Salute You      AC/DC\n",
      "1                      Balls to the Wall     Accept\n",
      "2                      Restless and Wild     Accept\n",
      "3                      Let There Be Rock      AC/DC\n",
      "4                               Big Ones  Aerosmith\n"
     ]
    }
   ],
   "source": [
    "# Open engine in context manager\n",
    "# Perform query and save results to DataFrame: df\n",
    "with engine.connect() as con:\n",
    "    rs = con.execute(\"Select Title,Name from Album Inner Join Artist on Album.ArtistId = Artist.ArtistId\")\n",
    "    df = pd.DataFrame(rs.fetchall())\n",
    "    df.columns = rs.keys()\n",
    "\n",
    "# Print head of DataFrame df\n",
    "print(df.head())\n"
   ],
   "metadata": {
    "collapsed": false,
    "pycharm": {
     "name": "#%%\n"
    }
   }
  },
  {
   "metadata": {
    "pycharm": {
     "name": "#%% md\n"
    }
   },
   "outputs": [],
   "source": [
    "## Filtering your INNER JOIN\n",
    "\n",
    "<p>Congrats on performing your first <code>INNER JOIN</code>! You're now going to finish this chapter with one final exercise in which you perform an <code>INNER JOIN</code> and filter the result using a <code>WHERE</code> clause.</p>\n",
    "<p>Recall that to <code>INNER JOIN</code> the <code>Orders</code> and <code>Customers</code> tables from the Northwind database, Hugo executed the following SQL query:</p>\n",
    "<pre><code>\"SELECT OrderID, CompanyName FROM Orders INNER JOIN Customers on Orders.CustomerID = Customers.CustomerID\"\n",
    "</code></pre>\n",
    "<p>The following code has already been executed to import the necessary packages and to create the engine:</p>\n",
    "<pre><code>import pandas as pd\n",
    "from sqlalchemy import create_engine\n",
    "engine = create_engine('sqlite:///Chinook.sqlite')\n",
    "</code></pre>"
   ],
   "execution_count": null,
   "cell_type": "markdown"
  },
  {
   "metadata": {
    "pycharm": {
     "name": "#%% md\n"
    }
   },
   "outputs": [],
   "source": [
    "Use the <code>pandas</code> function <code>read_sql_query()</code> to assign to the variable <code>df</code> the DataFrame of results from the following query: <strong>select</strong> <em>all</em> records <strong>from</strong> <code>PlaylistTrack INNER JOIN Track on PlaylistTrack.TrackId = Track.TrackId</code> that satisfy the condition <code>Milliseconds &lt; 250000</code>."
   ],
   "execution_count": null,
   "cell_type": "markdown"
  },
  {
   "cell_type": "code",
   "execution_count": 120,
   "outputs": [
    {
     "name": "stdout",
     "output_type": "stream",
     "text": [
      "   PlaylistId  TrackId  TrackId              Name  AlbumId  MediaTypeId  \\\n",
      "0           1     3390     3390  One and the Same      271            2   \n",
      "1           1     3392     3392     Until We Fall      271            2   \n",
      "2           1     3393     3393     Original Fire      271            2   \n",
      "3           1     3394     3394       Broken City      271            2   \n",
      "4           1     3395     3395          Somedays      271            2   \n",
      "\n",
      "   GenreId Composer  Milliseconds    Bytes  UnitPrice  \n",
      "0       23     None        217732  3559040       0.99  \n",
      "1       23     None        230758  3766605       0.99  \n",
      "2       23     None        218916  3577821       0.99  \n",
      "3       23     None        228366  3728955       0.99  \n",
      "4       23     None        213831  3497176       0.99  \n"
     ]
    }
   ],
   "source": [
    "# Execute query and store records in DataFrame: df\n",
    "\n",
    "df = pd.read_sql_query(\"Select * from PlaylistTrack inner join Track on PlaylistTrack.TrackId = Track.TrackId where Milliseconds < 250000\",engine)\n",
    "\n",
    "\n",
    "# Print head of DataFrame\n",
    "print(df.head())"
   ],
   "metadata": {
    "collapsed": false,
    "pycharm": {
     "name": "#%%\n"
    }
   }
  },
  {
   "metadata": {
    "pycharm": {
     "name": "#%% md\n"
    }
   },
   "outputs": [],
   "source": [
    "## Final Thoughts"
   ],
   "execution_count": null,
   "cell_type": "markdown"
  },
  {
   "metadata": {
    "pycharm": {
     "name": "#%% md\n"
    }
   },
   "outputs": [],
   "source": [
    "### 1. Final Thoughts\n",
    "\n",
    "Congratulations on doing so well in a"
   ],
   "execution_count": null,
   "cell_type": "markdown"
  },
  {
   "metadata": {
    "pycharm": {
     "name": "#%% md\n"
    }
   },
   "outputs": [],
   "source": [
    "### 2. What you’ve learned:\n",
    "\n",
    "crash course on Relational Databases. Whether you have seen them before or not, you're now able to create engines and connect to them in Python, perform simple SELECT queries, filter you results using WHERE, perform more complex queries such as JOIN and store all your querying results in pandas dataframes, among many other things. These skills will get you a long way in using Python to import data from relational databases. In fact, having made it through this course, you're now well-equipped to import all types of files in Python, from plain text to flat files, Excel to Matlab, among many others. Well done! But that doesn't mean there's not more to be learnt. What about importing data from the web, where so much of it is??"
   ],
   "execution_count": null,
   "cell_type": "markdown"
  },
  {
   "metadata": {
    "pycharm": {
     "name": "#%% md\n"
    }
   },
   "outputs": [],
   "source": [
    "### 3. Next course:\n",
    "\n",
    "In the sequel to this, you'll learn how to import web-data. It's a short course and will equip you to import data from the world wide web and pull data from Application Programming Interfaces, also known as APIs. You'll take a deep dive into the Twitter streaming API, which allows us to stream real-time tweets. I'm sure that you're itching to get your hands dirty with web data;"
   ],
   "execution_count": null,
   "cell_type": "markdown"
  },
  {
   "metadata": {
    "pycharm": {
     "name": "#%% md\n"
    }
   },
   "outputs": [],
   "source": [
    "### 4. Let's practice!\n",
    "\n",
    "so I'll see you in the next course."
   ],
   "execution_count": null,
   "cell_type": "markdown"
  }
 ],
 "metadata": {
  "kernelspec": {
   "display_name": "Python 3 (ipykernel)",
   "language": "python",
   "name": "python3"
  },
  "language_info": {
   "codemirror_mode": {
    "name": "ipython",
    "version": 3
   },
   "file_extension": ".py",
   "mimetype": "text/x-python",
   "name": "python",
   "nbconvert_exporter": "python",
   "pygments_lexer": "ipython3",
   "version": "3.9.12"
  },
  "toc": {
   "base_numbering": 1,
   "nav_menu": {},
   "number_sections": true,
   "sideBar": true,
   "skip_h1_title": false,
   "title_cell": "Table of Contents",
   "title_sidebar": "Contents",
   "toc_cell": false,
   "toc_position": {
    "height": "calc(100% - 180px)",
    "left": "10px",
    "top": "150px",
    "width": "165px"
   },
   "toc_section_display": true,
   "toc_window_display": true
  },
  "varInspector": {
   "cols": {
    "lenName": 16,
    "lenType": 16,
    "lenVar": 40
   },
   "kernels_config": {
    "python": {
     "delete_cmd_postfix": "",
     "delete_cmd_prefix": "del ",
     "library": "var_list.py",
     "varRefreshCmd": "print(var_dic_list())"
    },
    "r": {
     "delete_cmd_postfix": ") ",
     "delete_cmd_prefix": "rm(",
     "library": "var_list.r",
     "varRefreshCmd": "cat(var_dic_list()) "
    }
   },
   "types_to_exclude": [
    "module",
    "function",
    "builtin_function_or_method",
    "instance",
    "_Feature"
   ],
   "window_display": false
  }
 },
 "nbformat": 4,
 "nbformat_minor": 5
}